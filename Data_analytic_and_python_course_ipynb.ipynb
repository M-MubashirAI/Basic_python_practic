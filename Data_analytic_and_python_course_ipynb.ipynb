{
  "nbformat": 4,
  "nbformat_minor": 0,
  "metadata": {
    "colab": {
      "provenance": [],
      "authorship_tag": "ABX9TyNUsrSic4eQ/d57QwY70Rc8",
      "include_colab_link": true
    },
    "kernelspec": {
      "name": "python3",
      "display_name": "Python 3"
    },
    "language_info": {
      "name": "python"
    }
  },
  "cells": [
    {
      "cell_type": "markdown",
      "metadata": {
        "id": "view-in-github",
        "colab_type": "text"
      },
      "source": [
        "<a href=\"https://colab.research.google.com/github/M-MubashirAI/Basic_python_practic/blob/main/Data_analytic_and_python_course_ipynb.ipynb\" target=\"_parent\"><img src=\"https://colab.research.google.com/assets/colab-badge.svg\" alt=\"Open In Colab\"/></a>"
      ]
    },
    {
      "cell_type": "markdown",
      "source": [],
      "metadata": {
        "id": "PP-X-sWDcHzO"
      }
    },
    {
      "cell_type": "markdown",
      "source": [
        "\n",
        "\n",
        "\n",
        "\n",
        "\n",
        "\n",
        "\n",
        "\n",
        "\n",
        "**Print Statement**\n",
        "\n",
        "To call a print function in python we just need to write print foolwed by parentheses () and values written inside quotation marks\"\"\n",
        "\n",
        "**Input**\n",
        "\n",
        "print(\"Hello World\")\n",
        "\n",
        "**Output**\n",
        "\n",
        "Hello World"
      ],
      "metadata": {
        "id": "pMErmUeYRRj_"
      }
    },
    {
      "cell_type": "code",
      "execution_count": null,
      "metadata": {
        "colab": {
          "base_uri": "https://localhost:8080/"
        },
        "id": "KT0tUQtg9yhn",
        "outputId": "7927a894-5f6c-4de6-a2b1-b2f5a29be003"
      },
      "outputs": [
        {
          "output_type": "stream",
          "name": "stdout",
          "text": [
            "hello world\n"
          ]
        }
      ],
      "source": [
        "print(\"hello world\")"
      ]
    },
    {
      "cell_type": "code",
      "source": [
        "print(\"I hope you all is absolutely fine\")"
      ],
      "metadata": {
        "colab": {
          "base_uri": "https://localhost:8080/"
        },
        "id": "yRerOc1uTQA0",
        "outputId": "af6611ef-fbe3-4d32-a19d-10cb838008b7"
      },
      "execution_count": null,
      "outputs": [
        {
          "output_type": "stream",
          "name": "stdout",
          "text": [
            "I hope you all is absolutely fine\n"
          ]
        }
      ]
    },
    {
      "cell_type": "markdown",
      "source": [
        "**Using multiple lines in Print statement:**\n",
        "\n",
        "There are two mehtods to write a statement in multiple lines:\n",
        "\n",
        "\n",
        "*   To print multiple lines in python, triple Quotations are used.\n",
        "*   \\n(backslash) is used to insert something in the next line.\n",
        "\n"
      ],
      "metadata": {
        "id": "X4oia7Y2TfPz"
      }
    },
    {
      "cell_type": "code",
      "source": [
        "print(\"\"\"this is my first program\n",
        "I want to do learn the basica of python\n",
        "and gradually move to advance concepts\"\"\")"
      ],
      "metadata": {
        "colab": {
          "base_uri": "https://localhost:8080/"
        },
        "id": "ebGqwPpAVAg8",
        "outputId": "5b3b79a1-b415-480f-83ba-4413f033ce59"
      },
      "execution_count": null,
      "outputs": [
        {
          "output_type": "stream",
          "name": "stdout",
          "text": [
            "this is my first program\n",
            "I want to do learn the basica of python \n",
            "and gradually move to advance concepts\n"
          ]
        }
      ]
    },
    {
      "cell_type": "code",
      "source": [
        "print(\"\"\"when I'm start the computer Science\n",
        "those days I was zero in programming\n",
        "even I can't to open laptop or computer and basics it's function\"\"\")"
      ],
      "metadata": {
        "colab": {
          "base_uri": "https://localhost:8080/"
        },
        "id": "t4RXONZSH3tx",
        "outputId": "85a2dab5-5f05-4d01-f2a2-1eee63c623ba"
      },
      "execution_count": null,
      "outputs": [
        {
          "output_type": "stream",
          "name": "stdout",
          "text": [
            "when I'm start the computer Science \n",
            "those days I was zero in programming\n",
            "even I can't to open laptop or computer and basics it's function\n"
          ]
        }
      ]
    },
    {
      "cell_type": "code",
      "source": [
        "print(\"hi there \\nI hope you all tight \\nyou doing amaizing approximately\")"
      ],
      "metadata": {
        "colab": {
          "base_uri": "https://localhost:8080/"
        },
        "id": "M1ViqtmxVbsZ",
        "outputId": "e2233baa-cc9e-4cbc-c286-e5a950d74dbc"
      },
      "execution_count": null,
      "outputs": [
        {
          "output_type": "stream",
          "name": "stdout",
          "text": [
            "hi there \n",
            "I hope you all tight \n",
            "you doing amaizing approximately\n"
          ]
        }
      ]
    },
    {
      "cell_type": "code",
      "source": [
        "print(\"Now I dive in Data Science and AI, Machine learning\\nDeep leraning\\nand many more\")"
      ],
      "metadata": {
        "colab": {
          "base_uri": "https://localhost:8080/"
        },
        "id": "i6Xwc4JlIgjG",
        "outputId": "ad71cde1-2ed7-49fd-edfc-c77da9aed931"
      },
      "execution_count": null,
      "outputs": [
        {
          "output_type": "stream",
          "name": "stdout",
          "text": [
            "Now I dive in Data Science and AI, Machine learning\n",
            "Deep leraning\n",
            "and many more\n"
          ]
        }
      ]
    },
    {
      "cell_type": "code",
      "source": [
        "print('it\\'s a hot today weather')"
      ],
      "metadata": {
        "colab": {
          "base_uri": "https://localhost:8080/"
        },
        "id": "CIgvzn26BJD7",
        "outputId": "9ee49d84-ec24-4c10-c0ea-eaa4fed50f7d"
      },
      "execution_count": null,
      "outputs": [
        {
          "output_type": "stream",
          "name": "stdout",
          "text": [
            "it's a hot today weather\n"
          ]
        }
      ]
    },
    {
      "cell_type": "markdown",
      "source": [
        "# **Comments in Python**\n",
        "\n",
        "**Single Line comments**\n",
        "\n",
        "To add single line comments, # hash is used.\n",
        "\n",
        "Python completely ignores anything written after #."
      ],
      "metadata": {
        "id": "PR6SCtaaaC3Y"
      }
    },
    {
      "cell_type": "code",
      "source": [
        "# Hi all hope python course is going better understanding"
      ],
      "metadata": {
        "id": "JkX4lqH7b9fZ"
      },
      "execution_count": null,
      "outputs": []
    },
    {
      "cell_type": "markdown",
      "source": [
        "**Multiline comments**\n",
        "\n",
        "To add multiline commentst in python, triple Quotations are used."
      ],
      "metadata": {
        "id": "PjMYXasVcLUA"
      }
    },
    {
      "cell_type": "code",
      "source": [
        "#Now we start to write how write comments\n",
        "# For single comments just write the word #\n",
        "# if we write the multiple line comments then we write tripple quatation such as example :\n",
        "\"\"\" Hope to all that you are doing well\n",
        "and so on then progress will near to you\n",
        "and one day become success and progress\"\"\""
      ],
      "metadata": {
        "colab": {
          "base_uri": "https://localhost:8080/",
          "height": 35
        },
        "id": "6TcwnG4PCImO",
        "outputId": "e353c01c-5aaa-48ba-ea06-2bc58f33d01e"
      },
      "execution_count": null,
      "outputs": [
        {
          "output_type": "execute_result",
          "data": {
            "text/plain": [
              "' Hope to all that you are doing well \\nand so on then progress will near to you\\nand one day become success and progress'"
            ],
            "application/vnd.google.colaboratory.intrinsic+json": {
              "type": "string"
            }
          },
          "metadata": {},
          "execution_count": 7
        }
      ]
    },
    {
      "cell_type": "code",
      "source": [
        "\"\"\"hope to all that you are doing well\n",
        "and so on then progress will near to you\n",
        "and one day become success and progress\"\"\""
      ],
      "metadata": {
        "colab": {
          "base_uri": "https://localhost:8080/",
          "height": 52
        },
        "id": "Jm4gB3IPDQo1",
        "outputId": "3316980d-514b-4cf4-8d6e-503b669676ed"
      },
      "execution_count": null,
      "outputs": [
        {
          "output_type": "execute_result",
          "data": {
            "text/plain": [
              "'hope to all that you are doing well\\nand so on then progress will near to you\\nand one day become success and progress'"
            ],
            "application/vnd.google.colaboratory.intrinsic+json": {
              "type": "string"
            }
          },
          "metadata": {},
          "execution_count": 3
        }
      ]
    },
    {
      "cell_type": "markdown",
      "source": [
        "# **Variables**\n",
        "\n",
        "\n",
        "*   Variables are placeholders, which can store a value.\n",
        "\n",
        "*   In simple words, Variable is container that hold data inside it as a value.\n",
        "\n",
        "**Input-**\n",
        "\n",
        "a = \"hello world\"\n",
        "\n",
        "print(a)\n",
        "\n",
        "**Output-**\n",
        "\n",
        "hello world\n",
        "\n"
      ],
      "metadata": {
        "id": "54MqRXq7cnc0"
      }
    },
    {
      "cell_type": "code",
      "source": [
        "# Let's start the how write the variables and their rules"
      ],
      "metadata": {
        "id": "_a6QGAE8FOfX"
      },
      "execution_count": null,
      "outputs": []
    },
    {
      "cell_type": "code",
      "source": [
        "a = 'hello world'\n",
        "print(a)"
      ],
      "metadata": {
        "colab": {
          "base_uri": "https://localhost:8080/"
        },
        "id": "rLN6FmvOEdVH",
        "outputId": "deffb0c4-2908-4bb8-8ef2-8ab1432f721c"
      },
      "execution_count": null,
      "outputs": [
        {
          "output_type": "stream",
          "name": "stdout",
          "text": [
            "hello world\n"
          ]
        }
      ]
    },
    {
      "cell_type": "markdown",
      "source": [
        "**Rules for writing a Variables**\n",
        "\n",
        "1. Python is case-sensitive Language, therefore the variables names are case-sensitive as well.\n",
        "\n",
        "**Input-**\n",
        "\n",
        "A = \"hello\"\n",
        "\n",
        "print(a)\n",
        "\n",
        "**Output-**\n",
        "\n",
        "It will throw an error as the cases used here for variable's name is different.\n",
        "\n",
        "2. Make sure to not use spaces while creating a variable.\n",
        "\n",
        "One can use (_) underscore to separate the names while writhin a variable.\n",
        "\n",
        "3. A variable name should never sart with a number or special symbols."
      ],
      "metadata": {
        "id": "VJJZZrcneOv0"
      }
    },
    {
      "cell_type": "code",
      "source": [
        "Name = \"Johne\"\n",
        "print(name)"
      ],
      "metadata": {
        "colab": {
          "base_uri": "https://localhost:8080/",
          "height": 158
        },
        "id": "MxqaiB-AEt6K",
        "outputId": "8f238b7e-b5a6-4f80-ec99-b861e17edf8e"
      },
      "execution_count": null,
      "outputs": [
        {
          "output_type": "error",
          "ename": "NameError",
          "evalue": "name 'name' is not defined",
          "traceback": [
            "\u001b[0;31m---------------------------------------------------------------------------\u001b[0m",
            "\u001b[0;31mNameError\u001b[0m                                 Traceback (most recent call last)",
            "\u001b[0;32m<ipython-input-15-0af6e05e02ef>\u001b[0m in \u001b[0;36m<cell line: 2>\u001b[0;34m()\u001b[0m\n\u001b[1;32m      1\u001b[0m \u001b[0mName\u001b[0m \u001b[0;34m=\u001b[0m \u001b[0;34m\"Johne\"\u001b[0m\u001b[0;34m\u001b[0m\u001b[0;34m\u001b[0m\u001b[0m\n\u001b[0;32m----> 2\u001b[0;31m \u001b[0mprint\u001b[0m\u001b[0;34m(\u001b[0m\u001b[0mname\u001b[0m\u001b[0;34m)\u001b[0m\u001b[0;34m\u001b[0m\u001b[0;34m\u001b[0m\u001b[0m\n\u001b[0m",
            "\u001b[0;31mNameError\u001b[0m: name 'name' is not defined"
          ]
        }
      ]
    },
    {
      "cell_type": "code",
      "source": [
        "Name = \"Johme\"\n",
        "print(Name)"
      ],
      "metadata": {
        "colab": {
          "base_uri": "https://localhost:8080/"
        },
        "id": "ST7xfsKhE4Dk",
        "outputId": "e620cd15-1a6a-4e6e-9447-a4462c1e276e"
      },
      "execution_count": null,
      "outputs": [
        {
          "output_type": "stream",
          "name": "stdout",
          "text": [
            "Johme\n"
          ]
        }
      ]
    },
    {
      "cell_type": "code",
      "source": [
        "fist_name = \"hamar\"\n",
        "Second_Nmae = \"tumhare\"\n",
        "print(Second_Nmae)"
      ],
      "metadata": {
        "colab": {
          "base_uri": "https://localhost:8080/"
        },
        "id": "KfQBvaV8FeHP",
        "outputId": "374a56ee-40bf-4551-aab5-468d9a200304"
      },
      "execution_count": null,
      "outputs": [
        {
          "output_type": "stream",
          "name": "stdout",
          "text": [
            "tumhare\n"
          ]
        }
      ]
    },
    {
      "cell_type": "code",
      "source": [
        "First_Name = \"jhone\"\n",
        "Second_Name = \"kisic\"\n",
        "print(Second_Name)"
      ],
      "metadata": {
        "colab": {
          "base_uri": "https://localhost:8080/"
        },
        "id": "EHLQXmnj-0py",
        "outputId": "02eeaf99-7ba0-4b94-d165-a3804f8e38a5"
      },
      "execution_count": null,
      "outputs": [
        {
          "output_type": "stream",
          "name": "stdout",
          "text": [
            "kisic\n"
          ]
        }
      ]
    },
    {
      "cell_type": "code",
      "source": [
        "3rd = \"Rules\"\n",
        "print(3rd)"
      ],
      "metadata": {
        "colab": {
          "base_uri": "https://localhost:8080/",
          "height": 106
        },
        "id": "oqtM9TOgGD4a",
        "outputId": "0ef1e167-d70d-4901-b61c-720f91572d03"
      },
      "execution_count": null,
      "outputs": [
        {
          "output_type": "error",
          "ename": "SyntaxError",
          "evalue": "invalid decimal literal (<ipython-input-18-510328d428ee>, line 1)",
          "traceback": [
            "\u001b[0;36m  File \u001b[0;32m\"<ipython-input-18-510328d428ee>\"\u001b[0;36m, line \u001b[0;32m1\u001b[0m\n\u001b[0;31m    3rd = \"Rules\"\u001b[0m\n\u001b[0m    ^\u001b[0m\n\u001b[0;31mSyntaxError\u001b[0m\u001b[0;31m:\u001b[0m invalid decimal literal\n"
          ]
        }
      ]
    },
    {
      "cell_type": "code",
      "source": [
        "num3 = 3333\n",
        "print(num3)"
      ],
      "metadata": {
        "colab": {
          "base_uri": "https://localhost:8080/"
        },
        "id": "255xakosGO_Q",
        "outputId": "7513b43a-2f18-44ca-d873-a2696d52acd5"
      },
      "execution_count": null,
      "outputs": [
        {
          "output_type": "stream",
          "name": "stdout",
          "text": [
            "3333\n"
          ]
        }
      ]
    },
    {
      "cell_type": "markdown",
      "source": [],
      "metadata": {
        "id": "jmDYIa9LgfU8"
      }
    },
    {
      "cell_type": "markdown",
      "source": [
        "# **Datatypes and User-Input**\n",
        "\n",
        "Text types : strigs, char\n",
        "\n",
        " Numeric types : int, flaot, complex numbers\n",
        "\n",
        "  Sequence types : list, tupple, range\n",
        "  \n",
        "   Mape types : dictionary (dict)\n",
        "   \n",
        "   Set types : set, frozen set.\n",
        "   \n",
        "   Boolean types : bool.\n",
        "   \n",
        "   Binary types : byts, bytearry, memoryview."
      ],
      "metadata": {
        "id": "lIyU4W0BgtZV"
      }
    },
    {
      "cell_type": "code",
      "source": [
        "#then Now start the data types. the are many datatypes which are describe below\n",
        "# Text types : strigs, char\n",
        "# Numeric types : int, faot, comples numbers\n",
        "# Sequence types : list, tupple, range\n",
        "# Mape types : dictionary (dict)\n",
        "# Set types : set, frozen set.\n",
        "# Boolean types : bool.\n",
        "# Binary types : byts, bytearry, memoryview."
      ],
      "metadata": {
        "id": "fcEMTWsAH-DT"
      },
      "execution_count": null,
      "outputs": []
    },
    {
      "cell_type": "code",
      "source": [
        "# Lets talk about the user_input\n",
        "name = input(\"enter your name here:\")\n",
        "print(name)\n",
        "age = int(input(\"enter you age here:\"))\n",
        "print(age)\n",
        "age = float(input('enter your age here:'))\n",
        "print(age)\n",
        "exp1 = eval(input('enter your any equation here:'))\n",
        "print(exp1)"
      ],
      "metadata": {
        "colab": {
          "base_uri": "https://localhost:8080/"
        },
        "id": "kV7i71V8J63R",
        "outputId": "a997aa03-479d-45da-e905-29100fbad7ad"
      },
      "execution_count": null,
      "outputs": [
        {
          "output_type": "stream",
          "name": "stdout",
          "text": [
            "enter your name here:numan\n",
            "numan\n",
            "enter you age here:44\n",
            "44\n",
            "enter your age here:33.3\n",
            "33.3\n",
            "enter your any equation here:3*55\n",
            "165\n"
          ]
        }
      ]
    },
    {
      "cell_type": "markdown",
      "source": [
        "# **Type Casting and Subtypes**\n",
        "\n",
        "Conversion of one datatypes to another is called as type-casting.\n",
        "\n",
        "There are two types of type-casting:\n",
        "1. Implecit type Conversion: Where python itself converts one datatype to another.\n",
        "2. Explicit Type Conversion: where the user converts one datatype to another."
      ],
      "metadata": {
        "id": "koQnHeijZ-Nc"
      }
    },
    {
      "cell_type": "code",
      "source": [
        "# TYPE CASTING : type casting mean that one data types convert into other type of data types is called as type casting .\n",
        "# there are two type : (1) IMPLICIT CASTING , (2) EXPLICIT CASTING\n",
        "# IMPLICIT: mean that pyton coverts into  other types\n",
        "#EXPLICIT: mean that user convert into other data types e.g\n",
        "a = 234\n",
        "b = 2.34\n",
        "c = a+b\n",
        "print(c)\n",
        "print(type(c))"
      ],
      "metadata": {
        "colab": {
          "base_uri": "https://localhost:8080/"
        },
        "id": "mCeN95wrKZXm",
        "outputId": "baf924f8-ebf8-452f-fa3c-9bfe020c5f88"
      },
      "execution_count": null,
      "outputs": [
        {
          "output_type": "stream",
          "name": "stdout",
          "text": [
            "236.34\n",
            "<class 'float'>\n"
          ]
        }
      ]
    },
    {
      "cell_type": "code",
      "source": [
        "tum = 239\n",
        "hum = 2.44\n",
        "jhan = tum+hum\n",
        "print(jhan)\n",
        "print(type(jhan))"
      ],
      "metadata": {
        "colab": {
          "base_uri": "https://localhost:8080/"
        },
        "id": "f1Cxut-0CCNk",
        "outputId": "99ef12c1-fdd7-4fa7-cbae-39bb9f194e69"
      },
      "execution_count": null,
      "outputs": [
        {
          "output_type": "stream",
          "name": "stdout",
          "text": [
            "241.44\n",
            "<class 'float'>\n"
          ]
        }
      ]
    },
    {
      "cell_type": "code",
      "source": [
        "# Implicit casting e.g\n",
        "a = '234'\n",
        "b = 2.45\n",
        "c = float(a)\n",
        "print(c)\n",
        "print(\"After conversion :\",type(c))"
      ],
      "metadata": {
        "colab": {
          "base_uri": "https://localhost:8080/"
        },
        "id": "-26fT0_QNGgF",
        "outputId": "96fea3a9-cf17-4a0d-e08c-37b81947e404"
      },
      "execution_count": null,
      "outputs": [
        {
          "output_type": "stream",
          "name": "stdout",
          "text": [
            "234.0\n",
            "After conversion : <class 'float'>\n"
          ]
        }
      ]
    },
    {
      "cell_type": "code",
      "source": [
        "a = \"123\"\n",
        "print(type(a))\n",
        "a = int(a)\n",
        "print(int(a))\n",
        "print(\"after converion\",type(a))"
      ],
      "metadata": {
        "colab": {
          "base_uri": "https://localhost:8080/"
        },
        "id": "iNJdWR6PW9kD",
        "outputId": "8a0c1c65-4509-4f8f-ef8a-2042f12fa4e5"
      },
      "execution_count": null,
      "outputs": [
        {
          "output_type": "stream",
          "name": "stdout",
          "text": [
            "<class 'str'>\n",
            "123\n",
            "after converion <class 'int'>\n"
          ]
        }
      ]
    },
    {
      "cell_type": "markdown",
      "source": [
        "# **Problem Solving**"
      ],
      "metadata": {
        "id": "oB7Oh5PYl5lA"
      }
    },
    {
      "cell_type": "code",
      "source": [
        "#TASK 1\n",
        "# write a programe to display a person's name, age and address in three different lines\n",
        "Name=\"Mubashir Malik\"\n",
        "Age= 21\n",
        "Address= \"Rehaman Abad, jalal Pur Peer Wala,Multan\"\n",
        "Passion= \"To learn the modern technology and grow,live with new era and should be freedom financially\"\n",
        "print(\"Name:\",Name)\n",
        "print(\"Age:\",Age)\n",
        "print(\"Address:\",Address)\n",
        "print(\"Passion:\",Passion)"
      ],
      "metadata": {
        "colab": {
          "base_uri": "https://localhost:8080/"
        },
        "id": "OLRc8xV5cTb3",
        "outputId": "b2a08a95-fbf6-4ec9-de97-dc7ba3932213"
      },
      "execution_count": null,
      "outputs": [
        {
          "output_type": "stream",
          "name": "stdout",
          "text": [
            "Name: Mubashir Malik\n",
            "Age: 21\n",
            "Address: Rehaman Abad, jalal Pur Peer Wala,Multan\n",
            "Passion: To learn the modern technology and grow,live with new era and should be freedom financially\n"
          ]
        }
      ]
    },
    {
      "cell_type": "code",
      "source": [
        "Person = 'Male'\n",
        "Name = \"Mubashir MLIK\"\n",
        "Age = 22\n",
        "Adress = 'Rehamana Abad Tehsil Jalal Pur Peer Wala,Multan'\n",
        "Passion= 'To become entreprenaur and effort to teach new technologly and grow and freedom finiancially'\n",
        "print('Person:',Person)\n",
        "print('Name:',Name)\n",
        "print('Age:',Age)\n",
        "print('Adress:',Adress)\n",
        "print('Passion:',Passion)"
      ],
      "metadata": {
        "colab": {
          "base_uri": "https://localhost:8080/"
        },
        "id": "hvv-rhk_DBVz",
        "outputId": "3eb611c0-2fee-4d88-a08c-af3c594f3e2a"
      },
      "execution_count": null,
      "outputs": [
        {
          "output_type": "stream",
          "name": "stdout",
          "text": [
            "Person: Male\n",
            "Name: Mubashir MLIK\n",
            "Age: 22\n",
            "Adress: Rehamana Abad Tehsil Jalal Pur Peer Wala,Multan\n",
            "Passion: To become entreprenaur and effort to teach new technologly and grow and freedom finiancially\n"
          ]
        }
      ]
    },
    {
      "cell_type": "code",
      "source": [
        "#TASK 2\n",
        "# write a programe to swap two variables : 1rst method\n",
        "a = 39\n",
        "b = 79\n",
        "temp = a\n",
        "a = b\n",
        "b = temp\n",
        "print(\"the value of a:\",a)\n",
        "print(\"the value of b:\",b)\n",
        "#2nd method\n",
        "a,b = b,a\n",
        "print(a)\n",
        "print(b)"
      ],
      "metadata": {
        "colab": {
          "base_uri": "https://localhost:8080/"
        },
        "id": "cy90fFhVdsyy",
        "outputId": "353d0da1-8291-4864-f2ae-2a5e7931cf42"
      },
      "execution_count": null,
      "outputs": [
        {
          "output_type": "stream",
          "name": "stdout",
          "text": [
            "the value of a: 79\n",
            "the value of b: 39\n",
            "39\n",
            "79\n"
          ]
        }
      ]
    },
    {
      "cell_type": "code",
      "source": [
        "# 2nd method\n",
        "x = 83\n",
        "y = 29\n",
        "\n",
        "x,y = y,x\n",
        "print(\"the value of y:\",y)\n",
        "print(\"the value of x\",x)"
      ],
      "metadata": {
        "colab": {
          "base_uri": "https://localhost:8080/"
        },
        "id": "wP4s90vZjHyW",
        "outputId": "b7423835-9b71-40d4-ed85-c3630fcf542a"
      },
      "execution_count": null,
      "outputs": [
        {
          "output_type": "stream",
          "name": "stdout",
          "text": [
            "the value of y: 83\n",
            "the value of x 29\n"
          ]
        }
      ]
    },
    {
      "cell_type": "code",
      "source": [
        "#TASK 3\n",
        "# Write a programe which is float convert into integer\n",
        "a = 34.5\n",
        "print(a)\n",
        "print(type(a))\n",
        "a = int(a)\n",
        "print(a)\n",
        "print(\"the value of a:\",type(a))"
      ],
      "metadata": {
        "colab": {
          "base_uri": "https://localhost:8080/"
        },
        "id": "mTMfKgfnfHoK",
        "outputId": "722e1064-a70d-4f2e-8ad3-6ac40184df3b"
      },
      "execution_count": null,
      "outputs": [
        {
          "output_type": "stream",
          "name": "stdout",
          "text": [
            "34.5\n",
            "<class 'float'>\n",
            "34\n",
            "the value of a: <class 'int'>\n"
          ]
        }
      ]
    },
    {
      "cell_type": "code",
      "source": [
        "#TASK4\n",
        "# Write a programe the take to user's of ID card number details in different line\n"
      ],
      "metadata": {
        "colab": {
          "base_uri": "https://localhost:8080/"
        },
        "id": "quLsuEdNgZf8",
        "outputId": "80824379-7f05-4c5b-8818-24e2c5be9079"
      },
      "execution_count": null,
      "outputs": [
        {
          "output_type": "stream",
          "name": "stdout",
          "text": [
            "enter the your name here:Muna\n",
            "name Muna\n",
            "enter the your address:8888 nasti maliool\n",
            "address 8888 nasti maliool\n",
            "enter your age here:34\n",
            "age 34\n",
            "enter your email here:mubashirmuhammadmubashir3@gmail.com\n",
            "email: mubashirmuhammadmubashir3@gmail.com\n"
          ]
        }
      ]
    },
    {
      "cell_type": "code",
      "source": [
        "name= input(\"enter your name here:\")\n",
        "print(\"Name:\",name)\n",
        "age= int(input(\"enter your age here:\"))\n",
        "print(\"Age:\",age)\n",
        "address= input(\"enter the your address:\")\n",
        "print(\"Address:\",address)\n",
        "email= input(\"enter the your email here:\")\n",
        "print(\"Email:\",email)"
      ],
      "metadata": {
        "colab": {
          "base_uri": "https://localhost:8080/"
        },
        "id": "470c1tYZsIWF",
        "outputId": "b77c4ee0-8d17-4bbf-c907-49db279681d4"
      },
      "execution_count": null,
      "outputs": [
        {
          "output_type": "stream",
          "name": "stdout",
          "text": [
            "enter your name here:Mubshir Malik\n",
            "Name: Mubshir Malik\n",
            "enter your age here:22\n",
            "Age: 22\n",
            "enter the your address:Jalal Pur Peer Wala\n",
            "Address: Jalal Pur Peer Wala\n",
            "enter the your email here:mubashir1859128@gmail.com\n",
            "Email: mubashir1859128@gmail.com\n"
          ]
        }
      ]
    },
    {
      "cell_type": "code",
      "source": [],
      "metadata": {
        "id": "dejnOd0GsEqL"
      },
      "execution_count": null,
      "outputs": []
    },
    {
      "cell_type": "markdown",
      "source": [],
      "metadata": {
        "id": "bYKo5EV0sDse"
      }
    },
    {
      "cell_type": "code",
      "source": [
        "# Write a program to take a user input as integer then covert it into float.\n",
        "a = int(input(\"enter your lenght here:\"))\n",
        "print(a)\n",
        "print(type(a))\n",
        "a = float(a)\n",
        "print(a)\n",
        "print(type(a))"
      ],
      "metadata": {
        "colab": {
          "base_uri": "https://localhost:8080/"
        },
        "id": "1Dy8OHd8iF8j",
        "outputId": "6a549a77-4521-46cc-c951-7f8f86d833e0"
      },
      "execution_count": null,
      "outputs": [
        {
          "output_type": "stream",
          "name": "stdout",
          "text": [
            "enter your lenght here:10\n",
            "10\n",
            "<class 'int'>\n",
            "10.0\n",
            "<class 'float'>\n"
          ]
        }
      ]
    },
    {
      "cell_type": "markdown",
      "source": [
        "# **Operators and Operands**\n",
        "\n",
        "Operators indicates what operation is to be performed while Operands indicates on what the action or the operation should be performed.\n",
        "\n",
        "x+y = 0\n",
        "\n",
        "in the expression, x,y, and 0 are Operands and +,= are operators\n",
        "\n",
        "# **Types of Operators**\n",
        "\n",
        "# (1) Arithmatic operators\n",
        "# (2) Comparison Operators\n",
        "# (3) Logical operators\n",
        "# (4) identity Operators\n",
        "# (5) Membership Operators\n",
        "# (6) Assignment Operators\n",
        "# (7) Bitwise operators"
      ],
      "metadata": {
        "id": "Izg4rrGwuz0U"
      }
    },
    {
      "cell_type": "code",
      "source": [
        "# OPERATORS : Types of operators\n",
        "# (1) Arithmatic operators\n",
        "# (2) Comparison Operators\n",
        "# (3) Logical operators\n",
        "# (4) identity Operators\n",
        "# (5) Membership Operators\n",
        "# (6) Assignment Operators\n",
        "# (7) Bitwise operators"
      ],
      "metadata": {
        "id": "84QPrvIKlSsy"
      },
      "execution_count": null,
      "outputs": []
    },
    {
      "cell_type": "code",
      "source": [
        "# Arithmatic Operators\n",
        "print(\"addition\",3+5)\n",
        "print(\"Subtraction\",9-4)\n",
        "print(\"Multiplication\",3*5)\n",
        "print(\"Divion\",8/2)\n",
        "print(\"Modulus\",8%2)\n",
        "print(\"Floor division\",8//2)\n",
        "print(\"Exponention\",2**10)"
      ],
      "metadata": {
        "colab": {
          "base_uri": "https://localhost:8080/"
        },
        "id": "7NSZj5S0ntgR",
        "outputId": "3907d81b-710c-43e6-eae4-3af0c12f7702"
      },
      "execution_count": null,
      "outputs": [
        {
          "output_type": "stream",
          "name": "stdout",
          "text": [
            "addition 8\n",
            "Subtraction 5\n",
            "Multiplication 15\n",
            "Divion 4.0\n",
            "Modulus 0\n",
            "Floor division 4\n",
            "Exponention 1024\n"
          ]
        }
      ]
    },
    {
      "cell_type": "code",
      "source": [
        "# Cmparison Operators\n",
        "print(\"is equal to \",3==3)\n",
        "print(\"is larger than \",8>3)\n",
        "print(\"is less than \", 3<8)\n",
        "print(\"is not equal to \",5!=3)\n",
        "print(\"is equal to or larger than\",8>=7)\n",
        "print(\"is equal to or less than\",4<=4)"
      ],
      "metadata": {
        "colab": {
          "base_uri": "https://localhost:8080/"
        },
        "id": "eya_l6Van-ZJ",
        "outputId": "c3e6eb16-83f0-40f1-b2d2-b1856f768dc4"
      },
      "execution_count": null,
      "outputs": [
        {
          "output_type": "stream",
          "name": "stdout",
          "text": [
            "is equal to  True\n",
            "is larger than  True\n",
            "is less than  True\n",
            "is not equal to  True\n",
            "is equal to or larger than True\n",
            "is equal to or less than True\n"
          ]
        }
      ]
    },
    {
      "cell_type": "code",
      "source": [
        "# Logical Operators\n",
        "print(\"and operator\",2<5 and 5>2)\n",
        "print(\"or Operator\",8<3 or 9>3)\n",
        "print(\"Not operator\",not(8<2 or 2>3))"
      ],
      "metadata": {
        "colab": {
          "base_uri": "https://localhost:8080/"
        },
        "id": "vBizF68BsrAv",
        "outputId": "ab418df8-d3a4-4650-d61e-b5cb2149d0af"
      },
      "execution_count": null,
      "outputs": [
        {
          "output_type": "stream",
          "name": "stdout",
          "text": [
            "and operator True\n",
            "or Operator True\n",
            "Not operator True\n"
          ]
        }
      ]
    },
    {
      "cell_type": "code",
      "source": [
        "# Assignment Operators\n",
        "x = 10\n",
        "x += 5\n",
        "print(x)\n",
        "x -= 5\n",
        "print(x)\n",
        "x *= 5\n",
        "print(x)"
      ],
      "metadata": {
        "colab": {
          "base_uri": "https://localhost:8080/"
        },
        "id": "bxDw5mCIvGdH",
        "outputId": "7347e38d-b7b8-48c7-d454-fd7bb38d4eb5"
      },
      "execution_count": null,
      "outputs": [
        {
          "output_type": "stream",
          "name": "stdout",
          "text": [
            "15\n",
            "10\n",
            "50\n"
          ]
        }
      ]
    },
    {
      "cell_type": "code",
      "source": [
        "x = 10\n",
        "x -= 5\n",
        "print(x)"
      ],
      "metadata": {
        "colab": {
          "base_uri": "https://localhost:8080/"
        },
        "id": "r7NY0zXFxu4q",
        "outputId": "5ae307ac-4860-42b9-be4f-e617c4b1e20b"
      },
      "execution_count": null,
      "outputs": [
        {
          "output_type": "stream",
          "name": "stdout",
          "text": [
            "5\n"
          ]
        }
      ]
    },
    {
      "cell_type": "code",
      "source": [
        "# Identity Operators\n",
        "a = 123\n",
        "b = \"123\"\n",
        "print(a is b)\n",
        "print(a is not b)\n",
        "a = 123\n",
        "b = 123\n",
        "print(a is b)\n"
      ],
      "metadata": {
        "colab": {
          "base_uri": "https://localhost:8080/"
        },
        "id": "b9HEifZYyv50",
        "outputId": "631b11e5-b03a-457a-dd94-67fb88327423"
      },
      "execution_count": null,
      "outputs": [
        {
          "output_type": "stream",
          "name": "stdout",
          "text": [
            "False\n",
            "True\n",
            "True\n"
          ]
        }
      ]
    },
    {
      "cell_type": "code",
      "source": [
        "# Bitwise Operators : Those number which compare the binary number\n",
        "# AND (&) Operators\n",
        "# OR (|) Operators\n",
        "# XOR (^) Operators\n",
        "# >> Zero fill left shift\n",
        "# << Zero fill Right shift"
      ],
      "metadata": {
        "id": "t3iOwtKPzBNx"
      },
      "execution_count": null,
      "outputs": []
    },
    {
      "cell_type": "code",
      "source": [
        "# Then we now about the binary numbers\n",
        "print(bin(10))"
      ],
      "metadata": {
        "colab": {
          "base_uri": "https://localhost:8080/"
        },
        "id": "15gzfBgQu282",
        "outputId": "c9b72168-5752-442d-b028-13946c2157f3"
      },
      "execution_count": null,
      "outputs": [
        {
          "output_type": "stream",
          "name": "stdout",
          "text": [
            "0b1010\n"
          ]
        }
      ]
    },
    {
      "cell_type": "code",
      "source": [
        "print(bin(20))"
      ],
      "metadata": {
        "colab": {
          "base_uri": "https://localhost:8080/"
        },
        "id": "JSr7Hd0GRTGR",
        "outputId": "73161f95-074b-41da-9041-6644437c06e5"
      },
      "execution_count": null,
      "outputs": [
        {
          "output_type": "stream",
          "name": "stdout",
          "text": [
            "0b10100\n"
          ]
        }
      ]
    },
    {
      "cell_type": "code",
      "source": [
        "print(bin(30))"
      ],
      "metadata": {
        "colab": {
          "base_uri": "https://localhost:8080/"
        },
        "id": "YUWjAsvgJBGK",
        "outputId": "2817dcc0-19ce-4c8c-d7d2-7fce43d3b3f5"
      },
      "execution_count": null,
      "outputs": [
        {
          "output_type": "stream",
          "name": "stdout",
          "text": [
            "0b11110\n"
          ]
        }
      ]
    },
    {
      "cell_type": "code",
      "source": [
        "print(bin(15))\n",
        "print(bin(40))"
      ],
      "metadata": {
        "colab": {
          "base_uri": "https://localhost:8080/"
        },
        "id": "GhtBP2A6vHxi",
        "outputId": "5e766bb4-8168-4c84-afae-02edbc47b597"
      },
      "execution_count": null,
      "outputs": [
        {
          "output_type": "stream",
          "name": "stdout",
          "text": [
            "0b1111\n",
            "0b101000\n"
          ]
        }
      ]
    },
    {
      "cell_type": "code",
      "source": [
        "#AND(&) Operator and OR operator and xor operator\n",
        "a = 10\n",
        "b = 8\n",
        "print(a & b)\n",
        "print(a | b)\n",
        "print(a ^ b)"
      ],
      "metadata": {
        "colab": {
          "base_uri": "https://localhost:8080/"
        },
        "id": "mq89y-aEvOSY",
        "outputId": "6a172889-a440-4e9c-9871-88da4d1908b3"
      },
      "execution_count": null,
      "outputs": [
        {
          "output_type": "stream",
          "name": "stdout",
          "text": [
            "8\n",
            "10\n",
            "2\n"
          ]
        }
      ]
    },
    {
      "cell_type": "code",
      "source": [
        "# >>zero fill left shift\n",
        "print(10>>2)\n",
        "print(10>>1)"
      ],
      "metadata": {
        "colab": {
          "base_uri": "https://localhost:8080/"
        },
        "id": "w-bD-bT_x1_1",
        "outputId": "5874ea52-219f-4480-f130-d76a57968fe8"
      },
      "execution_count": null,
      "outputs": [
        {
          "output_type": "stream",
          "name": "stdout",
          "text": [
            "2\n",
            "5\n"
          ]
        }
      ]
    },
    {
      "cell_type": "code",
      "source": [
        "# <<zero fill right shift\n",
        "print(10<<2)\n",
        "print(10<<1)"
      ],
      "metadata": {
        "colab": {
          "base_uri": "https://localhost:8080/"
        },
        "id": "4CRQpQfzyp85",
        "outputId": "f80bb435-a0af-47ed-fee6-2b45338799b5"
      },
      "execution_count": null,
      "outputs": [
        {
          "output_type": "stream",
          "name": "stdout",
          "text": [
            "40\n",
            "20\n"
          ]
        }
      ]
    },
    {
      "cell_type": "code",
      "source": [
        "# Membership operator\n",
        "# in\n",
        "# not in\n",
        "a = 'heloo'\n",
        "print('a' in a)\n",
        "print('e' in a)\n",
        "print('o' not in a)\n",
        "print('p' not in a)"
      ],
      "metadata": {
        "colab": {
          "base_uri": "https://localhost:8080/"
        },
        "id": "wVp_25AVzwUp",
        "outputId": "c2178533-4e01-4cd1-a10e-7110dad4f7f4"
      },
      "execution_count": null,
      "outputs": [
        {
          "output_type": "stream",
          "name": "stdout",
          "text": [
            "False\n",
            "True\n",
            "False\n",
            "True\n"
          ]
        }
      ]
    },
    {
      "cell_type": "code",
      "source": [
        "b= \"Hie there man\"\n",
        "print(\"a\" in b)\n",
        "print('b' not in b)"
      ],
      "metadata": {
        "colab": {
          "base_uri": "https://localhost:8080/"
        },
        "id": "aEon3siFUJOf",
        "outputId": "a9ac25b2-8ffb-4811-c020-e1aa3f510049"
      },
      "execution_count": null,
      "outputs": [
        {
          "output_type": "stream",
          "name": "stdout",
          "text": [
            "True\n",
            "True\n"
          ]
        }
      ]
    },
    {
      "cell_type": "markdown",
      "source": [
        "# **Conditional Statements:**\n",
        "\n",
        "Conditional statement allows computer to execute a certain condition only if it is true.\n",
        "\n",
        "**Types**\n",
        "\n",
        "# 1. If statement\n",
        "# 2. If-else statement\n",
        "# 3. If-elif-else statement\n",
        "# 4. Nested statement\n",
        "# 5. Short Hand if statement\n",
        "# 6. short Hand if-else statement"
      ],
      "metadata": {
        "id": "uISNVNJaU9BQ"
      }
    },
    {
      "cell_type": "code",
      "source": [
        "# TOPIC IS: Conditional Statements: It's statements which allows to computer to execute if condition is only true\n",
        "# 1. If statement\n",
        "# 2. If-eslse statement\n",
        "# 3. If-elif-else statement\n",
        "# 4. Nested statement\n",
        "# 5. Short Hand if statement\n",
        "# 6. short Hand if-else statement"
      ],
      "metadata": {
        "id": "v2OJqQAm1p9p"
      },
      "execution_count": null,
      "outputs": []
    },
    {
      "cell_type": "code",
      "source": [
        "# If the statement\n",
        "marks = 98\n",
        "if marks>=90:\n",
        "    print('You will get a phone')\n",
        "print(\"thank you\")"
      ],
      "metadata": {
        "colab": {
          "base_uri": "https://localhost:8080/"
        },
        "id": "NssIngzP2Us4",
        "outputId": "d16470e1-81b3-4aee-ee86-356645fda787"
      },
      "execution_count": null,
      "outputs": [
        {
          "output_type": "stream",
          "name": "stdout",
          "text": [
            "You will get a phone\n",
            "thank you\n"
          ]
        }
      ]
    },
    {
      "cell_type": "code",
      "source": [
        "man = 2000\n",
        "if man>3000:\n",
        "  print(\"You buy a black shoes\")\n",
        "else:\n",
        "  print(\"You go to work for buy\")"
      ],
      "metadata": {
        "colab": {
          "base_uri": "https://localhost:8080/"
        },
        "id": "Y9t1XSJFcTvR",
        "outputId": "6267266a-9776-4c6f-a72f-1c71e43f7f65"
      },
      "execution_count": null,
      "outputs": [
        {
          "output_type": "stream",
          "name": "stdout",
          "text": [
            "You go to work for buy\n"
          ]
        }
      ]
    },
    {
      "cell_type": "code",
      "source": [
        "# If-else statement\n",
        "marks = 87\n",
        "if marks>=90:\n",
        "    print('You wil get a phone')\n",
        "else:\n",
        "    print('no phone for one week')\n",
        "print(\"thank you\")"
      ],
      "metadata": {
        "colab": {
          "base_uri": "https://localhost:8080/"
        },
        "id": "155mazIL47DK",
        "outputId": "14370c98-0b44-46f2-fa06-31734729f896"
      },
      "execution_count": null,
      "outputs": [
        {
          "output_type": "stream",
          "name": "stdout",
          "text": [
            "no phone for one week\n",
            "thank you\n"
          ]
        }
      ]
    },
    {
      "cell_type": "code",
      "source": [
        "# Nested if statements\n",
        "marks = 97\n",
        "if marks==90:\n",
        "  print(\"you will ger a new phone\")\n",
        "elif marks>88:\n",
        "    print(\"you will get a ticket a trip\")\n",
        "else:\n",
        "  print(\"not a phone for a month\")"
      ],
      "metadata": {
        "colab": {
          "base_uri": "https://localhost:8080/"
        },
        "id": "lc_bo4IZ-I0H",
        "outputId": "97fc33de-bd17-4fd5-9e5a-43f30d2687c8"
      },
      "execution_count": null,
      "outputs": [
        {
          "output_type": "stream",
          "name": "stdout",
          "text": [
            "you will get a ticket a trip\n"
          ]
        }
      ]
    },
    {
      "cell_type": "code",
      "source": [
        "students= 80\n",
        "if students>=70:\n",
        "  print(\"Students can go to trip\")\n",
        "  if students<=80:\n",
        "    print(\"Students can go to playground for just gamming\")\n",
        "else:\n",
        "  print(\"All students can go to home\")\n"
      ],
      "metadata": {
        "colab": {
          "base_uri": "https://localhost:8080/"
        },
        "id": "qxGhZ5ddd2Z3",
        "outputId": "43e132fb-d1e7-4a08-a722-e43b996e4e68"
      },
      "execution_count": null,
      "outputs": [
        {
          "output_type": "stream",
          "name": "stdout",
          "text": [
            "Students can go to trip\n",
            "Students can go to playground for just gamming\n"
          ]
        }
      ]
    },
    {
      "cell_type": "code",
      "source": [
        "#Short Hand if statements: that's called as one linar statements\n",
        "marks = 90\n",
        "if marks >=90:  print(\"you will get a phone\")"
      ],
      "metadata": {
        "id": "JSZRcsvYA3vd",
        "colab": {
          "base_uri": "https://localhost:8080/"
        },
        "outputId": "12a438db-3dc4-4f40-b5a2-b6bbd6e3b47b"
      },
      "execution_count": null,
      "outputs": [
        {
          "output_type": "stream",
          "name": "stdout",
          "text": [
            "you will get a phone\n"
          ]
        }
      ]
    },
    {
      "cell_type": "code",
      "source": [
        "# Short Hand-If-else Statements that's also called as one linar statements\n",
        "marks = 87\n",
        "print('you will go to a trip') if marks >= 90 else ('you will fail in fifth class')"
      ],
      "metadata": {
        "colab": {
          "base_uri": "https://localhost:8080/",
          "height": 35
        },
        "id": "TzE6xegPmE2h",
        "outputId": "813e98b1-e957-47e5-92ea-d22acb24702d"
      },
      "execution_count": null,
      "outputs": [
        {
          "output_type": "execute_result",
          "data": {
            "text/plain": [
              "'you will fail in fifth class'"
            ],
            "application/vnd.google.colaboratory.intrinsic+json": {
              "type": "string"
            }
          },
          "metadata": {},
          "execution_count": 3
        }
      ]
    },
    {
      "cell_type": "markdown",
      "source": [
        "# **Problem Solving**"
      ],
      "metadata": {
        "id": "Yaze0XXcqP-q"
      }
    },
    {
      "cell_type": "code",
      "source": [
        "# Let's move on the \"PROBLEM SOLVING\""
      ],
      "metadata": {
        "id": "xKjNIF93u96A"
      },
      "execution_count": null,
      "outputs": []
    },
    {
      "cell_type": "code",
      "source": [
        "# TASK:1\n",
        "# Write a programe to check that a number is positive or negative. Let's start now\n",
        "user = int(input(\"enter the number here\"))\n",
        "if user >= 0:\n",
        "  print(\"it is a positive number\")\n",
        "else:\n",
        "  print(\"it is a negative number\")"
      ],
      "metadata": {
        "colab": {
          "base_uri": "https://localhost:8080/"
        },
        "id": "tnDVmqPLvLxd",
        "outputId": "8473b44f-24ba-4bce-e708-a49df9a5b1ea"
      },
      "execution_count": null,
      "outputs": [
        {
          "output_type": "stream",
          "name": "stdout",
          "text": [
            "enter the number here77777\n",
            "it is a positive number\n"
          ]
        }
      ]
    },
    {
      "cell_type": "code",
      "source": [
        "# TASK:2\n",
        "# Write a program which check the number is odd or even. Let's start\n",
        "user = int(input(\"enter the number here:\"))\n",
        "if user % 2 ==0:\n",
        "  print(\"it is an even number\")\n",
        "else:\n",
        "  print(\"it is an odd number\")"
      ],
      "metadata": {
        "colab": {
          "base_uri": "https://localhost:8080/"
        },
        "id": "H5RomsXMvQxB",
        "outputId": "93562c1b-75dc-4c5a-ca4c-6f9cb6320b3f"
      },
      "execution_count": null,
      "outputs": [
        {
          "output_type": "stream",
          "name": "stdout",
          "text": [
            "enter the number here:8\n",
            "it is an even number\n"
          ]
        }
      ]
    },
    {
      "cell_type": "code",
      "source": [
        "User = int(input(\"enter the any number here:\"))\n",
        "if User % 2 ==0:\n",
        "  print(\"It is an even number:\")\n",
        "else:\n",
        "  print(\"It is an odd number\")"
      ],
      "metadata": {
        "colab": {
          "base_uri": "https://localhost:8080/"
        },
        "id": "kvlfaGc0qx7v",
        "outputId": "13ae3343-205a-4638-ac1c-57b08b3f1f9a"
      },
      "execution_count": null,
      "outputs": [
        {
          "output_type": "stream",
          "name": "stdout",
          "text": [
            "enter the any number here:90\n",
            "It is an even number:\n"
          ]
        }
      ]
    },
    {
      "cell_type": "code",
      "source": [
        "# TASK:3\n",
        "# Write a programe to create area calculator. Let's start now\n",
        "print(\"******AREA CALCULATOR******\")\n",
        "print(\"\"\"press 1 then know about the area of square\n",
        "if press 2 then know about the area of rectangle\n",
        "if press 3 then know about the area of circle\n",
        "if press 4 then know about the area of triangle\"\"\")\n",
        "user = int(input(\"enter the number 1-4 know area:\"))\n",
        "if user ==1:\n",
        "  side = int(input(\"enter the area of one side:\"))\n",
        "  square = side**2\n",
        "  print(\"the area of square:\",square)\n",
        "elif user ==2:\n",
        "  width = int(input(\"enter the width here:\"))\n",
        "  hieght = int(input(\"enter the hieght here :\"))\n",
        "  rectangle = width*hieght\n",
        "  print(\"the area of rectangle:\",rectangle)\n",
        "\n",
        "elif user ==3:\n",
        "  radius = int(input(\"enter area of radius here\"))\n",
        "  circle = ((22/7)*(radius**2))\n",
        "  print(\"the area of circle:\",circle)\n",
        "elif user ==4:\n",
        "  base = int(input(\"enter the base here:\"))\n",
        "  hieght = int(input(\"enter the hieght here:\"))\n",
        "  triangle = 0.5*base*hieght\n",
        "  print(\"the area of triangle:\",triangle)\n",
        "else:\n",
        "  print(\"invalid number\")\n",
        "\n"
      ],
      "metadata": {
        "colab": {
          "base_uri": "https://localhost:8080/"
        },
        "id": "7SF9NSh4vUZe",
        "outputId": "b7a9f424-2e95-424f-a675-0376f61eb6b6"
      },
      "execution_count": null,
      "outputs": [
        {
          "output_type": "stream",
          "name": "stdout",
          "text": [
            "******AREA CALCULATOR******\n",
            "press 1 then know about the area of square\n",
            "if press 2 then know about the area of rectangle\n",
            "if press 3 then know about the area of circle\n",
            "if press 4 then know about the area of triangle\n",
            "enter the number 1-4 know area:2\n",
            "enter the width here:5\n",
            "enter the hieght here :3\n",
            "the area of rectangle: 15\n"
          ]
        }
      ]
    },
    {
      "cell_type": "code",
      "source": [
        "# TASK:3\n",
        "print(\"******AREA CALCULATOR******\")\n",
        "print(\"\"\"press 1 then know about the area of square\n",
        "if press 2 then know about the area of rectangle\n",
        "if press 3 then know about the area of circle\n",
        "if press 4 then know about the area of triangle\"\"\")\n",
        "user = int(input(\"enter the number 1-4 to know the area:\"))\n",
        "\n",
        "if user == 1:\n",
        "    side = int(input(\"enter the length of one side:\"))\n",
        "    square = side**2\n",
        "    print(\"the area of square:\", square)\n",
        "elif user == 2:\n",
        "    width = int(input(\"enter the width here:\"))\n",
        "    height = int(input(\"enter the height here:\"))\n",
        "    rectangle = width * height\n",
        "    print(\"the area of rectangle:\", rectangle)\n",
        "elif user == 3:\n",
        "    radius = int(input(\"enter the radius here:\"))\n",
        "    circle = (22 / 7) * (radius ** 2)\n",
        "    print(\"the area of circle:\", circle)\n",
        "elif user == 4:\n",
        "    base = int(input(\"enter the base here:\"))\n",
        "    height = int(input(\"enter the height here:\"))\n",
        "    triangle = 0.5 * base * height\n",
        "    print(\"the area of triangle:\", triangle)\n",
        "else:\n",
        "    print(\"invalid number\")\n"
      ],
      "metadata": {
        "colab": {
          "base_uri": "https://localhost:8080/"
        },
        "id": "36d_sQOK6Ja_",
        "outputId": "8214cb87-69c6-48c0-f99c-848fe141024b"
      },
      "execution_count": null,
      "outputs": [
        {
          "output_type": "stream",
          "name": "stdout",
          "text": [
            "******AREA CALCULATOR******\n",
            "press 1 then know about the area of square\n",
            "if press 2 then know about the area of rectangle\n",
            "if press 3 then know about the area of circle\n",
            "if press 4 then know about the area of triangle\n",
            "enter the number 1-4 to know the area:1\n",
            "enter the length of one side:21\n",
            "the area of square: 441\n"
          ]
        }
      ]
    },
    {
      "cell_type": "code",
      "source": [
        "# TASK:4\n",
        "# Write a programe which check the letter is vowel or not\n",
        "user = input(\"enter letter to check the vowel:\")\n",
        "if user in \"aeiou\":\n",
        "  print(\"it is an vowel letter\")\n",
        "else:\n",
        "  print(\"it is not \")"
      ],
      "metadata": {
        "colab": {
          "base_uri": "https://localhost:8080/"
        },
        "id": "AZ3r5c0FvXdQ",
        "outputId": "6714d9ab-a09d-4c89-cedd-acef5eb7f6de"
      },
      "execution_count": null,
      "outputs": [
        {
          "output_type": "stream",
          "name": "stdout",
          "text": [
            "enter letter to check the vowel:p\n",
            "it is not \n"
          ]
        }
      ]
    },
    {
      "cell_type": "code",
      "source": [
        "user= input(\"enter the any letter:\")\n",
        "if user in \"aeiou\":\n",
        "  print(\"It is an vowel letter\")\n",
        "else:\n",
        "  print(\"It is an not a vowel letter\")"
      ],
      "metadata": {
        "colab": {
          "base_uri": "https://localhost:8080/"
        },
        "id": "YpwDKjj7uFTR",
        "outputId": "4a72f8c8-667e-451a-8d0a-3e75bb83fc6d"
      },
      "execution_count": null,
      "outputs": [
        {
          "output_type": "stream",
          "name": "stdout",
          "text": [
            "enter the any letter:y\n",
            "It is an not a vowel letter\n"
          ]
        }
      ]
    },
    {
      "cell_type": "code",
      "source": [
        "# TASK:5\n",
        "# Write a programe that is check it is 1 digit,2 digit so on up to 5\n",
        "user = int(input(\"enter the digit 1 to 5 here:\"))\n",
        "if user >=0 and user <=9:\n",
        "  print(\"it is 1 digit\")\n",
        "elif user >=10 and user <=99:\n",
        "  print(\"it is 2 digit \")\n",
        "elif user >=100 and user <=999:\n",
        "  print(\"it is 3 digit\")\n",
        "elif user >= 1000 and user <=9999:\n",
        "  print(\"it is 4 digit\")\n",
        "else:\n",
        "  print(\"it is 5 digit number\")"
      ],
      "metadata": {
        "colab": {
          "base_uri": "https://localhost:8080/"
        },
        "id": "8UF68tFava9u",
        "outputId": "8664ef64-80f1-4774-f12b-6cbf04881265"
      },
      "execution_count": null,
      "outputs": [
        {
          "output_type": "stream",
          "name": "stdout",
          "text": [
            "enter the digit 1 to 5 here:66\n",
            "it is 2 digit \n"
          ]
        }
      ]
    },
    {
      "cell_type": "code",
      "source": [
        "user = int(input(\"enter the digit between 1 to 5:\"))\n",
        "if user>=0 and user<=9:\n",
        "  print(\"It is one digit\")\n",
        "elif user>=10 and user<=99:\n",
        "  print(\"It is two digit number\")\n",
        "elif user>=100 and user<=999:\n",
        "  print(\"It is three digti number\")\n",
        "elif user>=1000 and user<=9999:\n",
        "  print(\"It is four digit number\")\n",
        "else:\n",
        "  print(\"It is five digit number\")"
      ],
      "metadata": {
        "colab": {
          "base_uri": "https://localhost:8080/"
        },
        "id": "691n6wezvRks",
        "outputId": "45bc0feb-988d-4174-dd82-5cff9ecf9b2e"
      },
      "execution_count": null,
      "outputs": [
        {
          "output_type": "stream",
          "name": "stdout",
          "text": [
            "enter the digit between 1 to 5:2999\n",
            "It is four digit number\n"
          ]
        }
      ]
    },
    {
      "cell_type": "markdown",
      "source": [
        "# **Introduction To Loops:**\n",
        "#Loops:\n",
        "\n",
        "A Loops repeat something axact in same way\n",
        "\n",
        "# types of Loops\n",
        "# (1) for loops\n",
        "# (2) While loops\n",
        "# (3) While True loops\n",
        "# (4) Nested loop"
      ],
      "metadata": {
        "id": "XWK83bNwwycz"
      }
    },
    {
      "cell_type": "code",
      "source": [
        "# Introduction to Loops: A Loops repeat something axact in same way\n",
        "# types of Loops\n",
        "# (1) for loops\n",
        "# (2) While loops\n",
        "# (3) While True loops\n",
        "# (4) Nested loop"
      ],
      "metadata": {
        "id": "zoTAu32M4f6d"
      },
      "execution_count": null,
      "outputs": []
    },
    {
      "cell_type": "markdown",
      "source": [
        "# **For loop:**\n",
        "A loop which repeat any thing in a given range .\n",
        "\n",
        "The range has ben starting point, ending point and a step/ gap in it."
      ],
      "metadata": {
        "id": "6kM8NvVGy2b6"
      }
    },
    {
      "cell_type": "code",
      "source": [
        "# For loop: Which repeat any thing in a given range e.g\n",
        "for i in range(1,6):\n",
        "  print(i)"
      ],
      "metadata": {
        "colab": {
          "base_uri": "https://localhost:8080/"
        },
        "id": "Apnrhcnn8c-H",
        "outputId": "66860c9f-8e97-47ea-cb48-2e40b51c2f5a"
      },
      "execution_count": null,
      "outputs": [
        {
          "output_type": "stream",
          "name": "stdout",
          "text": [
            "1\n",
            "2\n",
            "3\n",
            "4\n",
            "5\n"
          ]
        }
      ]
    },
    {
      "cell_type": "code",
      "source": [
        "# we should know about the odd number\n",
        "for i in range(1,15,2):\n",
        "  print(i)"
      ],
      "metadata": {
        "colab": {
          "base_uri": "https://localhost:8080/"
        },
        "id": "br-j7y_c85RT",
        "outputId": "881ff99d-5a11-4e50-9db5-d86252ea5448"
      },
      "execution_count": null,
      "outputs": [
        {
          "output_type": "stream",
          "name": "stdout",
          "text": [
            "1\n",
            "3\n",
            "5\n",
            "7\n",
            "9\n",
            "11\n",
            "13\n"
          ]
        }
      ]
    },
    {
      "cell_type": "code",
      "source": [
        "n = 7\n",
        "for i in range(1,11):\n",
        "  print(n,\"x\",i,\"=\",n*i)\n"
      ],
      "metadata": {
        "colab": {
          "base_uri": "https://localhost:8080/"
        },
        "id": "jt21ztww2cas",
        "outputId": "cb95cceb-dcef-4933-e587-9a87d8e2db92"
      },
      "execution_count": null,
      "outputs": [
        {
          "output_type": "stream",
          "name": "stdout",
          "text": [
            "7 x 1 = 7\n",
            "7 x 2 = 14\n",
            "7 x 3 = 21\n",
            "7 x 4 = 28\n",
            "7 x 5 = 35\n",
            "7 x 6 = 42\n",
            "7 x 7 = 49\n",
            "7 x 8 = 56\n",
            "7 x 9 = 63\n",
            "7 x 10 = 70\n"
          ]
        }
      ]
    },
    {
      "cell_type": "code",
      "source": [
        "n=3\n",
        "for i in range(1,11):\n",
        "  print(n,\"X\",i,\"=\",i*n)"
      ],
      "metadata": {
        "colab": {
          "base_uri": "https://localhost:8080/"
        },
        "id": "Dq5WeBtBl5yU",
        "outputId": "4dd75c18-b300-40b0-e0c4-2635387631af"
      },
      "execution_count": null,
      "outputs": [
        {
          "output_type": "stream",
          "name": "stdout",
          "text": [
            "3 X 1 = 3\n",
            "3 X 2 = 6\n",
            "3 X 3 = 9\n",
            "3 X 4 = 12\n",
            "3 X 5 = 15\n",
            "3 X 6 = 18\n",
            "3 X 7 = 21\n",
            "3 X 8 = 24\n",
            "3 X 9 = 27\n",
            "3 X 10 = 30\n"
          ]
        }
      ]
    },
    {
      "cell_type": "code",
      "source": [
        "# We write the any multiplication number , such as any number multiplication\n",
        "user = int(input(\"enter the any number here:\"))\n",
        "for i in range(1,11):\n",
        "  print(user,\"x\",i,\"=\",user*i)"
      ],
      "metadata": {
        "colab": {
          "base_uri": "https://localhost:8080/"
        },
        "id": "KWfCkTEe9ZBt",
        "outputId": "dc4b87bb-4e64-476d-a950-8b7794c3befd"
      },
      "execution_count": null,
      "outputs": [
        {
          "output_type": "stream",
          "name": "stdout",
          "text": [
            "enter the any number here:34\n",
            "34 x 1 = 34\n",
            "34 x 2 = 68\n",
            "34 x 3 = 102\n",
            "34 x 4 = 136\n",
            "34 x 5 = 170\n",
            "34 x 6 = 204\n",
            "34 x 7 = 238\n",
            "34 x 8 = 272\n",
            "34 x 9 = 306\n",
            "34 x 10 = 340\n"
          ]
        }
      ]
    },
    {
      "cell_type": "code",
      "source": [
        "user = int(input(\"enter the any number here:\"))\n",
        "for i in range (1,11):\n",
        "  print(user, \"x\",i,\"=\",user * i)"
      ],
      "metadata": {
        "colab": {
          "base_uri": "https://localhost:8080/"
        },
        "id": "mpIxyFtFJDbV",
        "outputId": "b314a4d1-7b0d-4bfd-b552-2d2c4270c738"
      },
      "execution_count": null,
      "outputs": [
        {
          "output_type": "stream",
          "name": "stdout",
          "text": [
            "enter the any number here:2\n",
            "2 x 1 = 2\n",
            "2 x 2 = 4\n",
            "2 x 3 = 6\n",
            "2 x 4 = 8\n",
            "2 x 5 = 10\n",
            "2 x 6 = 12\n",
            "2 x 7 = 14\n",
            "2 x 8 = 16\n",
            "2 x 9 = 18\n",
            "2 x 10 = 20\n"
          ]
        }
      ]
    },
    {
      "cell_type": "code",
      "source": [
        "for i in range (1,15,2):\n",
        "  print(i)"
      ],
      "metadata": {
        "colab": {
          "base_uri": "https://localhost:8080/"
        },
        "id": "XieYqrhJJ2SI",
        "outputId": "6c704342-838d-4529-e552-200d482e0242"
      },
      "execution_count": null,
      "outputs": [
        {
          "output_type": "stream",
          "name": "stdout",
          "text": [
            "1\n",
            "3\n",
            "5\n",
            "7\n",
            "9\n",
            "11\n",
            "13\n"
          ]
        }
      ]
    },
    {
      "cell_type": "markdown",
      "source": [
        "# **While Loop:**\n",
        "\n",
        "\n",
        "*   While Loop executes till the given condition is true.\n",
        "\n",
        "*   In while loop, the increment is done inside the loop.\n",
        "\n"
      ],
      "metadata": {
        "id": "gbwxbAMPT_mO"
      }
    },
    {
      "cell_type": "code",
      "source": [
        "# Let's talk about the While loop: it repeat even condition will be true\n",
        "n = 6\n",
        "while n<=17:\n",
        "  print(n)\n",
        "  n += 2"
      ],
      "metadata": {
        "colab": {
          "base_uri": "https://localhost:8080/"
        },
        "id": "Noh_CTez_OSl",
        "outputId": "ae70ff7a-680d-4b79-c452-b946de89a485"
      },
      "execution_count": null,
      "outputs": [
        {
          "output_type": "stream",
          "name": "stdout",
          "text": [
            "6\n",
            "8\n",
            "10\n",
            "12\n",
            "14\n",
            "16\n"
          ]
        }
      ]
    },
    {
      "cell_type": "code",
      "source": [
        "kamal= 1\n",
        "while kamal<=15:\n",
        "  print(kamal)\n",
        "  kamal += 2\n"
      ],
      "metadata": {
        "colab": {
          "base_uri": "https://localhost:8080/"
        },
        "id": "bktohbVjW3z6",
        "outputId": "2926adab-571d-4959-a654-ca3883e7b4f8"
      },
      "execution_count": null,
      "outputs": [
        {
          "output_type": "stream",
          "name": "stdout",
          "text": [
            "1\n",
            "3\n",
            "5\n",
            "7\n",
            "9\n",
            "11\n",
            "13\n",
            "15\n"
          ]
        }
      ]
    },
    {
      "cell_type": "code",
      "source": [
        "n = 1\n",
        "a = 8\n",
        "while n<=10:\n",
        "  print(a,\"x\",n,\"=\",a*n)\n",
        "  n +=1"
      ],
      "metadata": {
        "colab": {
          "base_uri": "https://localhost:8080/"
        },
        "id": "4MGvXg5lXl-Q",
        "outputId": "9421a0a2-adb5-49ad-f273-b8063f33ca51"
      },
      "execution_count": null,
      "outputs": [
        {
          "output_type": "stream",
          "name": "stdout",
          "text": [
            "8 x 1 = 8\n",
            "8 x 2 = 16\n",
            "8 x 3 = 24\n",
            "8 x 4 = 32\n",
            "8 x 5 = 40\n",
            "8 x 6 = 48\n",
            "8 x 7 = 56\n",
            "8 x 8 = 64\n",
            "8 x 9 = 72\n",
            "8 x 10 = 80\n"
          ]
        }
      ]
    },
    {
      "cell_type": "code",
      "source": [
        "n=7\n",
        "for i in range(1,11):\n",
        "  print(n,\"x\",i,\"=\",n*i)"
      ],
      "metadata": {
        "colab": {
          "base_uri": "https://localhost:8080/"
        },
        "id": "FFCqZ9WO7jmQ",
        "outputId": "d58ea1a6-4e12-4ff8-9479-320d009fb983"
      },
      "execution_count": null,
      "outputs": [
        {
          "output_type": "stream",
          "name": "stdout",
          "text": [
            "7 x 1 = 7\n",
            "7 x 2 = 14\n",
            "7 x 3 = 21\n",
            "7 x 4 = 28\n",
            "7 x 5 = 35\n",
            "7 x 6 = 42\n",
            "7 x 7 = 49\n",
            "7 x 8 = 56\n",
            "7 x 9 = 63\n",
            "7 x 10 = 70\n"
          ]
        }
      ]
    },
    {
      "cell_type": "code",
      "source": [
        "n =1\n",
        "b = 5\n",
        "while n<=10:\n",
        "  print(n,\"x\",b,\"=\",n*b)\n",
        "  n +=1\n"
      ],
      "metadata": {
        "colab": {
          "base_uri": "https://localhost:8080/"
        },
        "id": "jYYVKXXR7twM",
        "outputId": "0a91cb6f-3ac0-45ce-f9fb-4a86db844e5d"
      },
      "execution_count": null,
      "outputs": [
        {
          "output_type": "stream",
          "name": "stdout",
          "text": [
            "1 x 5 = 5\n",
            "2 x 5 = 10\n",
            "3 x 5 = 15\n",
            "4 x 5 = 20\n",
            "5 x 5 = 25\n",
            "6 x 5 = 30\n",
            "7 x 5 = 35\n",
            "8 x 5 = 40\n",
            "9 x 5 = 45\n",
            "10 x 5 = 50\n"
          ]
        }
      ]
    },
    {
      "cell_type": "code",
      "source": [
        "a = 1\n",
        "n = int(input(\"enter here any number here:\"))\n",
        "while a<=10:\n",
        "  print(n,\"x\",a,\"=\",a*n)\n",
        "  a+=1"
      ],
      "metadata": {
        "colab": {
          "base_uri": "https://localhost:8080/"
        },
        "id": "nQ8Osep3DLTv",
        "outputId": "e5a1ac6a-2459-4a37-aa73-6f813e6346b4"
      },
      "execution_count": null,
      "outputs": [
        {
          "output_type": "stream",
          "name": "stdout",
          "text": [
            "enter here any number here:6\n",
            "6 x 1 = 6\n",
            "6 x 2 = 12\n",
            "6 x 3 = 18\n",
            "6 x 4 = 24\n",
            "6 x 5 = 30\n",
            "6 x 6 = 36\n",
            "6 x 7 = 42\n",
            "6 x 8 = 48\n",
            "6 x 9 = 54\n",
            "6 x 10 = 60\n",
            "enter here any number here:8\n",
            "8 x 1 = 8\n",
            "8 x 2 = 16\n",
            "8 x 3 = 24\n",
            "8 x 4 = 32\n",
            "8 x 5 = 40\n",
            "8 x 6 = 48\n",
            "8 x 7 = 56\n",
            "8 x 8 = 64\n",
            "8 x 9 = 72\n",
            "8 x 10 = 80\n"
          ]
        }
      ]
    },
    {
      "cell_type": "markdown",
      "source": [
        "# **While True Loop:**\n",
        "\n",
        "*   It is an infinite loop\n",
        "*   To break a while true loop, break statement is used.\n",
        "\n"
      ],
      "metadata": {
        "id": "RpvwHFP_eV8C"
      }
    },
    {
      "cell_type": "code",
      "source": [
        "\n",
        " #While True loop: it is infinite loop\n",
        "while True:\n",
        "    num1 = int(input(\"enter here a number:\"))\n",
        "    num2 = int(input(\"inter here another number:\"))\n",
        "    print(num1+num2)\n",
        "    repeat = input(\"Do you want stope the programe (yes/no):\")\n",
        "    if repeat == \"yes\":\n",
        "        break\n",
        "\n"
      ],
      "metadata": {
        "colab": {
          "base_uri": "https://localhost:8080/"
        },
        "id": "b2b0j6vlEaUv",
        "outputId": "aef82a41-8ebb-4371-a600-5c0391147f3c"
      },
      "execution_count": null,
      "outputs": [
        {
          "name": "stdout",
          "output_type": "stream",
          "text": [
            "enter here a number:7\n",
            "inter here another number:7\n",
            "14\n",
            "Do you want stope the programe (yes/no):yes\n"
          ]
        }
      ]
    },
    {
      "cell_type": "code",
      "source": [
        "while True:\n",
        "  user1 = int(input(\"enter the any number here:\"))\n",
        "  user2 = int(input(\"enter the any number here:\"))\n",
        "  print(user1*user2)\n",
        "  user = input('do you want stop this program')\n",
        "  if user == \"yes\":\n",
        "    break"
      ],
      "metadata": {
        "colab": {
          "base_uri": "https://localhost:8080/"
        },
        "id": "vGPrOu1dhRk1",
        "outputId": "27ae03af-d984-49d1-cea8-0ff6a5d523cf"
      },
      "execution_count": null,
      "outputs": [
        {
          "name": "stdout",
          "output_type": "stream",
          "text": [
            "enter the any number here:9\n",
            "enter the any number here:9\n",
            "81\n",
            "do you want stop this programyes\n"
          ]
        }
      ]
    },
    {
      "cell_type": "code",
      "source": [
        "while True:\n",
        "  num1 = float(input(\"enter the any number here:\"))\n",
        "  num2 = float(input(\"enter the any number here:\"))\n",
        "  print(num1+num2)\n",
        "  repeat = input(\"Do you want stop the program (yes or no):\")\n",
        "  if repeat == \"yes\":\n",
        "    break"
      ],
      "metadata": {
        "colab": {
          "base_uri": "https://localhost:8080/"
        },
        "id": "3uHrbtqVMAPe",
        "outputId": "307b3c3f-5663-4933-d9aa-14a0ce6be88b"
      },
      "execution_count": null,
      "outputs": [
        {
          "name": "stdout",
          "output_type": "stream",
          "text": [
            "enter the any number here:65\n",
            "enter the any number here:6\n",
            "71.0\n",
            "Do you want stop the program (yes or no):no\n",
            "enter the any number here:87\n",
            "enter the any number here:76\n",
            "163.0\n",
            "Do you want stop the program (yes or no):yes\n"
          ]
        }
      ]
    },
    {
      "cell_type": "code",
      "source": [
        "while True:\n",
        "    num1 = int(input(\"Enter a number: \"))\n",
        "    num2 = int(input(\"Enter another number: \"))\n",
        "    print(num1 + num2)\n",
        "    repeat = input(\"Do you want to stop the program? (yes/no): \")\n",
        "\n",
        "    if repeat.lower() == \"yes\":\n",
        "        break"
      ],
      "metadata": {
        "colab": {
          "base_uri": "https://localhost:8080/"
        },
        "id": "b_pJjYVDJTMR",
        "outputId": "33e84eab-19fb-4d3a-db02-f272b2cd7d31"
      },
      "execution_count": null,
      "outputs": [
        {
          "name": "stdout",
          "output_type": "stream",
          "text": [
            "Enter a number: 76\n",
            "Enter another number: 7\n",
            "83\n",
            "Do you want to stop the program? (yes/no): yes\n"
          ]
        }
      ]
    },
    {
      "cell_type": "markdown",
      "source": [
        "# **Nested Loop:**\n",
        "\n",
        "\n",
        "*   A loop have iside loop is called Nested Loop\n",
        "*   It is used to find the solve pattern problem\n",
        "\n"
      ],
      "metadata": {
        "id": "DVE_Kdg3jSZQ"
      }
    },
    {
      "cell_type": "code",
      "source": [
        "# Nested Loop: A Loop have inside loop is called Nested Loop , it is used to find the pattern problem solving\n",
        "for i in range(1,4): # outer loop\n",
        "  for j in range(1,11): # inner loop\n",
        "    print(j)\n",
        "print()"
      ],
      "metadata": {
        "colab": {
          "base_uri": "https://localhost:8080/"
        },
        "id": "2_jgFS4KPTH4",
        "outputId": "55e8d977-ea2a-42dc-ab22-ebbd838c9b89"
      },
      "execution_count": null,
      "outputs": [
        {
          "output_type": "stream",
          "name": "stdout",
          "text": [
            "1\n",
            "2\n",
            "3\n",
            "4\n",
            "5\n",
            "6\n",
            "7\n",
            "8\n",
            "9\n",
            "10\n",
            "1\n",
            "2\n",
            "3\n",
            "4\n",
            "5\n",
            "6\n",
            "7\n",
            "8\n",
            "9\n",
            "10\n",
            "1\n",
            "2\n",
            "3\n",
            "4\n",
            "5\n",
            "6\n",
            "7\n",
            "8\n",
            "9\n",
            "10\n",
            "\n"
          ]
        }
      ]
    },
    {
      "cell_type": "code",
      "source": [
        "for i in range(1,4):\n",
        "  for j in range(1,11):\n",
        "    print(j, end = \" \")#The print(j, end=\" \") ensures all numbers in the inner loop are printed on the same line, separated by spaces.\n",
        "  print()"
      ],
      "metadata": {
        "colab": {
          "base_uri": "https://localhost:8080/"
        },
        "id": "1eAIUOrlk_fV",
        "outputId": "4ab2795f-f39a-433b-92fd-c69608819718"
      },
      "execution_count": null,
      "outputs": [
        {
          "output_type": "stream",
          "name": "stdout",
          "text": [
            "1 2 3 4 5 6 7 8 9 10 \n",
            "1 2 3 4 5 6 7 8 9 10 \n",
            "1 2 3 4 5 6 7 8 9 10 \n"
          ]
        }
      ]
    },
    {
      "cell_type": "code",
      "source": [
        "# Pattern problem solving\n",
        "for i in range(1,6):\n",
        "  for j in range(1, i+1):\n",
        "    print(j, end = \" \")\n",
        "  print()"
      ],
      "metadata": {
        "colab": {
          "base_uri": "https://localhost:8080/"
        },
        "id": "cf9TYfR1RQYc",
        "outputId": "8a71220b-3e1e-40df-fb0e-b19b7b205e52"
      },
      "execution_count": null,
      "outputs": [
        {
          "output_type": "stream",
          "name": "stdout",
          "text": [
            "1 \n",
            "1 2 \n",
            "1 2 3 \n",
            "1 2 3 4 \n",
            "1 2 3 4 5 \n"
          ]
        }
      ]
    },
    {
      "cell_type": "code",
      "source": [
        "for i in range(5,12):\n",
        "  for k in range(5, i+1):\n",
        "    print(k,end=\" \")\n",
        "  print()"
      ],
      "metadata": {
        "colab": {
          "base_uri": "https://localhost:8080/"
        },
        "id": "32TfK7iAeUln",
        "outputId": "f21a86ae-f3fb-4ca1-a697-b324b3c6f3dd"
      },
      "execution_count": null,
      "outputs": [
        {
          "output_type": "stream",
          "name": "stdout",
          "text": [
            "5 \n",
            "5 6 \n",
            "5 6 7 \n",
            "5 6 7 8 \n",
            "5 6 7 8 9 \n",
            "5 6 7 8 9 10 \n",
            "5 6 7 8 9 10 11 \n"
          ]
        }
      ]
    },
    {
      "cell_type": "markdown",
      "source": [
        "# **For Loop with conditional Statements**\n",
        "The use of if-else statements increases the ability of for loop to completes the task effectively. By using if-else statements we can provide with special conditions inside for loop."
      ],
      "metadata": {
        "id": "x1o-fFLrfxnY"
      }
    },
    {
      "cell_type": "code",
      "source": [
        "# TOPIC\n",
        "# For Loop with conditional statement\n",
        "for i in range(1,11):\n",
        "  print(i)\n",
        "  if i==3:\n",
        "    print(\"add this song is fovs\")\n"
      ],
      "metadata": {
        "colab": {
          "base_uri": "https://localhost:8080/"
        },
        "id": "xnN5_8MfS7Ae",
        "outputId": "21a3f768-3d8d-4e33-c911-814d8ba83094"
      },
      "execution_count": null,
      "outputs": [
        {
          "output_type": "stream",
          "name": "stdout",
          "text": [
            "1\n",
            "2\n",
            "3\n",
            "add this song is fovs\n",
            "4\n",
            "5\n",
            "6\n",
            "7\n",
            "8\n",
            "9\n",
            "10\n"
          ]
        }
      ]
    },
    {
      "cell_type": "code",
      "source": [
        "for i in range(1,11):\n",
        "  if i==3:\n",
        "    print(\"This song is my fovourite\")\n",
        "  else:\n",
        "    print(i)"
      ],
      "metadata": {
        "colab": {
          "base_uri": "https://localhost:8080/"
        },
        "id": "fS5voUEKjsMB",
        "outputId": "af52742c-9fcb-4e00-a48b-f3776916377f"
      },
      "execution_count": null,
      "outputs": [
        {
          "output_type": "stream",
          "name": "stdout",
          "text": [
            "1\n",
            "2\n",
            "This song is my fovourite\n",
            "4\n",
            "5\n",
            "6\n",
            "7\n",
            "8\n",
            "9\n",
            "10\n"
          ]
        }
      ]
    },
    {
      "cell_type": "code",
      "source": [
        "for i in range (1,6):\n",
        "  for j in range(1, i+1):\n",
        "    print(j, end =\" \")\n",
        "  print()"
      ],
      "metadata": {
        "colab": {
          "base_uri": "https://localhost:8080/"
        },
        "id": "joBGyNMTOBGV",
        "outputId": "1dc3a0a8-54e8-41fa-b9da-1e607d02a101"
      },
      "execution_count": null,
      "outputs": [
        {
          "output_type": "stream",
          "name": "stdout",
          "text": [
            "1 \n",
            "1 2 \n",
            "1 2 3 \n",
            "1 2 3 4 \n",
            "1 2 3 4 5 \n"
          ]
        }
      ]
    },
    {
      "cell_type": "code",
      "source": [
        "for i in range(1,100):\n",
        "  if i % 8 == 0 and i % 12 == 0:\n",
        "    print(i)"
      ],
      "metadata": {
        "colab": {
          "base_uri": "https://localhost:8080/"
        },
        "id": "qn5TsG9AesyY",
        "outputId": "16ba85c0-7c9c-464b-9b70-ba3626d18f6f"
      },
      "execution_count": null,
      "outputs": [
        {
          "output_type": "stream",
          "name": "stdout",
          "text": [
            "24\n",
            "48\n",
            "72\n",
            "96\n"
          ]
        }
      ]
    },
    {
      "cell_type": "code",
      "source": [
        "n = 1\n",
        "while n <= 10:\n",
        "  if n == 3:\n",
        "    print(\"This is my fovourite song\")\n",
        "  else:\n",
        "    print(n)\n",
        "  n +=1\n",
        "\n"
      ],
      "metadata": {
        "colab": {
          "base_uri": "https://localhost:8080/"
        },
        "id": "9yGEySjyiGT-",
        "outputId": "02cf7f8d-5c15-4856-af3d-46de8f4dce35"
      },
      "execution_count": null,
      "outputs": [
        {
          "output_type": "stream",
          "name": "stdout",
          "text": [
            "1\n",
            "2\n",
            "This is my fovourite song\n",
            "4\n",
            "5\n",
            "6\n",
            "7\n",
            "8\n",
            "9\n",
            "10\n"
          ]
        }
      ]
    },
    {
      "cell_type": "markdown",
      "source": [
        "# **Break and Continue Statements:**\n",
        "# Continue Statement:\n",
        "It us used when you want to skip a  particular condition.\n",
        "# Break Statements:\n",
        "Break Statement is used when you want to destroy a loop at a certain condition and come out of the loop."
      ],
      "metadata": {
        "id": "9ouWAE4mnZoX"
      }
    },
    {
      "cell_type": "code",
      "source": [
        "# Break and continue statements\n",
        "# (1) CONTINUE STATEMENT: it is used when you want to skip a particular condition\n",
        "# (2) BREAK STATEMENTS: IT is used to destroy or stop any execute loop"
      ],
      "metadata": {
        "id": "2TLBQ5McixxZ"
      },
      "execution_count": null,
      "outputs": []
    },
    {
      "cell_type": "code",
      "source": [
        "# (1) CONTINUE STATEMENT:\n",
        "for i in range(1,11):\n",
        "  if i == 5:\n",
        "    continue\n",
        "  else:\n",
        "    print(i)"
      ],
      "metadata": {
        "colab": {
          "base_uri": "https://localhost:8080/"
        },
        "id": "WMYksrOxkU_J",
        "outputId": "43ea5be0-0767-4384-8b87-c008ad19d5b2"
      },
      "execution_count": null,
      "outputs": [
        {
          "output_type": "stream",
          "name": "stdout",
          "text": [
            "1\n",
            "2\n",
            "3\n",
            "4\n",
            "6\n",
            "7\n",
            "8\n",
            "9\n",
            "10\n"
          ]
        }
      ]
    },
    {
      "cell_type": "code",
      "source": [
        "# BREAKE STATEMENT\n",
        "for i in range(1,11):\n",
        "  if i ==7:\n",
        "    break\n",
        "  else:\n",
        "    print(i)"
      ],
      "metadata": {
        "colab": {
          "base_uri": "https://localhost:8080/"
        },
        "id": "I0JB93JKnXhc",
        "outputId": "1d903808-9cbf-4fb0-8b3a-cea867f85b78"
      },
      "execution_count": null,
      "outputs": [
        {
          "output_type": "stream",
          "name": "stdout",
          "text": [
            "1\n",
            "2\n",
            "3\n",
            "4\n",
            "5\n",
            "6\n"
          ]
        }
      ]
    },
    {
      "cell_type": "markdown",
      "source": [
        "# **Problem Solving**"
      ],
      "metadata": {
        "id": "lLLrkI71sLf_"
      }
    },
    {
      "cell_type": "code",
      "source": [
        "# PROBLEM SOLVING"
      ],
      "metadata": {
        "id": "Ti9owoiSrqHJ"
      },
      "execution_count": null,
      "outputs": []
    },
    {
      "cell_type": "code",
      "source": [
        "# TASK 1 :\n",
        "# Write a program to find the sum of all even numbers upto 50\n",
        "sum = 0\n",
        "for i in range(1,51):\n",
        "  if i % 2 == 0:\n",
        "    sum += i\n",
        "\n",
        "\n",
        "\n",
        "print(\"the sum of all even numbers up to 50 is \",sum)"
      ],
      "metadata": {
        "colab": {
          "base_uri": "https://localhost:8080/"
        },
        "id": "dpMa6w19rweU",
        "outputId": "9b1c86df-97b9-451d-b107-99baec430eae"
      },
      "execution_count": null,
      "outputs": [
        {
          "output_type": "stream",
          "name": "stdout",
          "text": [
            "the sum of all even numbers up to 50 is  650\n"
          ]
        }
      ]
    },
    {
      "cell_type": "code",
      "source": [
        "  # TASK 2 :\n",
        "  # Write a program to write first 20 numbers and their square\n",
        "for i in range(1,21):\n",
        "  print(i, i**2)"
      ],
      "metadata": {
        "colab": {
          "base_uri": "https://localhost:8080/"
        },
        "id": "sNiSirler5eK",
        "outputId": "3402675f-2eb2-4e33-e01f-c655af2e712f"
      },
      "execution_count": null,
      "outputs": [
        {
          "output_type": "stream",
          "name": "stdout",
          "text": [
            "1 1\n",
            "2 4\n",
            "3 9\n",
            "4 16\n",
            "5 25\n",
            "6 36\n",
            "7 49\n",
            "8 64\n",
            "9 81\n",
            "10 100\n",
            "11 121\n",
            "12 144\n",
            "13 169\n",
            "14 196\n",
            "15 225\n",
            "16 256\n",
            "17 289\n",
            "18 324\n",
            "19 361\n",
            "20 400\n"
          ]
        }
      ]
    },
    {
      "cell_type": "code",
      "source": [
        "# TASK 3 :\n",
        "# Write a program to find sum of first 10 odd number using while loop\n",
        "sum = 0\n",
        "n = 0\n",
        "while n <= 20:\n",
        "  if n % 2 != 0:\n",
        "    sum += n\n",
        "  n += 1\n",
        "\n",
        "print(\"the sum of first 10 add number is\",sum)"
      ],
      "metadata": {
        "colab": {
          "base_uri": "https://localhost:8080/"
        },
        "id": "lLRrMDoPr9SG",
        "outputId": "6f3d06c9-3d18-48b5-b210-649fc5f9042a"
      },
      "execution_count": null,
      "outputs": [
        {
          "output_type": "stream",
          "name": "stdout",
          "text": [
            "the sum of first 10 add number is 100\n"
          ]
        }
      ]
    },
    {
      "cell_type": "code",
      "source": [
        "# TASK 4 :\n",
        "# Write a program  to check if it divisible by 8 and 12 numbere, up to 100 number\n",
        "for i in range(1,101):\n",
        "  if i % 8 and i % 12 == 0:\n",
        "    print(i)"
      ],
      "metadata": {
        "colab": {
          "base_uri": "https://localhost:8080/"
        },
        "id": "0EMOelJ7sC-0",
        "outputId": "eefcc836-d8d5-4af5-98d7-721b6d0cf561"
      },
      "execution_count": null,
      "outputs": [
        {
          "output_type": "stream",
          "name": "stdout",
          "text": [
            "12\n",
            "36\n",
            "60\n",
            "84\n"
          ]
        }
      ]
    },
    {
      "cell_type": "code",
      "source": [
        "while True:\n",
        "  Name= input(\"enter the customer's name here:\")\n",
        "  total = 0\n",
        "  while True:\n",
        "    quantity=float(input(\"enter the quantity of items:\"))\n",
        "    amount=float(input(\"enter the amount of items:\"))\n",
        "    total += quantity * amount\n",
        "    repeat = input(\"Do you want to add more items(yes or no):\")\n",
        "    if repeat == \"no\" or repeat == \"No\":\n",
        "      break\n",
        "\n",
        "  print(\"_\"*50)\n",
        "  print(\"Name\",Name)\n",
        "  print(\"Amount to be paid\",total)\n",
        "  print(\"**************HAPPY SHOPING*******************\")\n",
        "  print(\"_\"*50)\n",
        "\n",
        "\n",
        "  repeat1 = input(\"Do you want to move next customers:\")\n",
        "  if repeat1 == \"no\" or repeat1 ==\"No\":\n",
        "    break"
      ],
      "metadata": {
        "colab": {
          "base_uri": "https://localhost:8080/"
        },
        "id": "P1QtYpdR5FZ5",
        "outputId": "1f7e01bb-3fae-4008-e8c5-2c2783c2f49d"
      },
      "execution_count": null,
      "outputs": [
        {
          "name": "stdout",
          "output_type": "stream",
          "text": [
            "enter the customer's name here:malikkkkkkk\n",
            "enter the quantity of items:789\n",
            "enter the amount of items:23\n",
            "Do you want to add more items(yes or no):no\n",
            "__________________________________________________\n",
            "Name malikkkkkkk\n",
            "Amount to be paid 18147.0\n",
            "**************HAPPY SHOPING*******************\n",
            "__________________________________________________\n",
            "Do you want to move next customers:no\n"
          ]
        }
      ]
    },
    {
      "cell_type": "code",
      "source": [
        "while True:\n",
        "    Name = input(\"Enter the name here:\")\n",
        "    total = 0\n",
        "\n",
        "    while True:\n",
        "        print(\"Enter the amount and quantity\")\n",
        "        quantity = float(input(\"Enter the quantity here:\"))\n",
        "        amount = float(input(\"Enter the amount here:\"))\n",
        "        total += quantity * amount\n",
        "        repeat = input(\"Do you want to add more item? (yes or no)\")\n",
        "        if repeat.lower() == \"no\":\n",
        "            break\n",
        "\n",
        "    print(\"_\" * 40)\n",
        "    print(\"Name:\", Name)\n",
        "    print(\"Amount to be paid:\", total)\n",
        "    print(\"-\" * 40)\n",
        "\n",
        "    print(\"**********Happy shopping***********\")\n",
        "\n",
        "    repeat1 = input(\"Do you want to move to the next customer? (yes/no)\")\n",
        "    if repeat1.lower() == \"no\":\n",
        "        break\n"
      ],
      "metadata": {
        "colab": {
          "base_uri": "https://localhost:8080/"
        },
        "id": "SIjNZGWwNFMq",
        "outputId": "cff75157-5e5d-4388-f4e3-ca192b76d2a9"
      },
      "execution_count": null,
      "outputs": [
        {
          "name": "stdout",
          "output_type": "stream",
          "text": [
            "Enter the name here:johm\n",
            "Enter the amount and quantity\n",
            "Enter the quantity here:3\n",
            "Enter the amount here:500\n",
            "Do you want to add more item? (yes or no)no\n",
            "________________________________________\n",
            "Name: johm\n",
            "Amount to be paid: 1500.0\n",
            "----------------------------------------\n",
            "**********Happy shopping***********\n",
            "Do you want to move to the next customer? (yes/no)yes\n",
            "Enter the name here:lili\n",
            "Enter the amount and quantity\n",
            "Enter the quantity here:9\n",
            "Enter the amount here:32\n",
            "Do you want to add more item? (yes or no)yes\n",
            "Enter the amount and quantity\n",
            "Enter the quantity here:48\n",
            "Enter the amount here:499\n",
            "Do you want to add more item? (yes or no)no\n",
            "________________________________________\n",
            "Name: lili\n",
            "Amount to be paid: 24240.0\n",
            "----------------------------------------\n",
            "**********Happy shopping***********\n",
            "Do you want to move to the next customer? (yes/no)no\n"
          ]
        }
      ]
    },
    {
      "cell_type": "markdown",
      "source": [
        "# **Problem Solving**"
      ],
      "metadata": {
        "id": "fFmzz3GH_war"
      }
    },
    {
      "cell_type": "code",
      "source": [
        "# Other problem solving\n",
        "A = \"Why fit in,When you are Born to Stand Out!\""
      ],
      "metadata": {
        "id": "KN3TnKGqPtY4"
      },
      "execution_count": null,
      "outputs": []
    },
    {
      "cell_type": "code",
      "source": [
        "# TASK 1 :\n",
        "# Write a program to find the length of following string\n",
        "print(len(A))"
      ],
      "metadata": {
        "colab": {
          "base_uri": "https://localhost:8080/"
        },
        "id": "uitAfI5HQafT",
        "outputId": "88b7e0aa-5473-4d9a-d648-1d731d6ce95e"
      },
      "execution_count": null,
      "outputs": [
        {
          "output_type": "stream",
          "name": "stdout",
          "text": [
            "42\n"
          ]
        }
      ]
    },
    {
      "cell_type": "code",
      "source": [
        "# TASK 2 :\n",
        "#Write a program to find how many time come alphabet o in following string\n",
        "a = \"Why fit in,When you are Born to Stand Out!\"\n",
        "print(a.count(\"o\"))"
      ],
      "metadata": {
        "colab": {
          "base_uri": "https://localhost:8080/"
        },
        "id": "tVMFdsp-QfwO",
        "outputId": "11bfca39-38dc-4c2a-c5f0-7157e6447814"
      },
      "execution_count": null,
      "outputs": [
        {
          "output_type": "stream",
          "name": "stdout",
          "text": [
            "3\n"
          ]
        }
      ]
    },
    {
      "cell_type": "code",
      "source": [
        "# TASK 3 :\n",
        "# Write a program to change in lower and upper case\n",
        "print(a.lower())\n",
        "print(a.upper())"
      ],
      "metadata": {
        "colab": {
          "base_uri": "https://localhost:8080/"
        },
        "id": "aYgJ6nn5Qjle",
        "outputId": "bc5655ce-8f66-4e08-f5ae-c828ec1ac130"
      },
      "execution_count": null,
      "outputs": [
        {
          "output_type": "stream",
          "name": "stdout",
          "text": [
            "why fit in,when you are born to stand out!\n",
            "WHY FIT IN,WHEN YOU ARE BORN TO STAND OUT!\n"
          ]
        }
      ]
    },
    {
      "cell_type": "code",
      "source": [
        "# TASK 4 :\n",
        "# Write a program to change the following string into title\n",
        "print(a.title())"
      ],
      "metadata": {
        "colab": {
          "base_uri": "https://localhost:8080/"
        },
        "id": "0CHMZ34UQnbT",
        "outputId": "c1854f92-de4f-4f99-bbc0-a5f959780f5d"
      },
      "execution_count": null,
      "outputs": [
        {
          "output_type": "stream",
          "name": "stdout",
          "text": [
            "Why Fit In,When You Are Born To Stand Out!\n"
          ]
        }
      ]
    },
    {
      "cell_type": "code",
      "source": [
        "# TASK 5 :\n",
        "# Write a program to find the index of \"fit in\"\n",
        "print(a.find(\"fit in\"))"
      ],
      "metadata": {
        "colab": {
          "base_uri": "https://localhost:8080/"
        },
        "id": "gYzDLbv3QsFP",
        "outputId": "120c6b5e-6189-4a4c-b804-a2efe51a3fa6"
      },
      "execution_count": null,
      "outputs": [
        {
          "output_type": "stream",
          "name": "stdout",
          "text": [
            "4\n"
          ]
        }
      ]
    },
    {
      "cell_type": "markdown",
      "source": [
        "# **Problem Solving**"
      ],
      "metadata": {
        "id": "4lVetoWC_3z9"
      }
    },
    {
      "cell_type": "code",
      "source": [
        "# PROBLEM SOLVING\n",
        "# write a program to draw some pattern\n",
        "for i in range(1,6): # for rows\n",
        "  for j in range(1,i+1): # for column\n",
        "    print(\"*\" , end = \" \")\n",
        "  print()\n",
        "\n"
      ],
      "metadata": {
        "colab": {
          "base_uri": "https://localhost:8080/"
        },
        "id": "bRsBTo5hWZP9",
        "outputId": "733ee907-d133-4d46-adc4-c1f14cdd57fa"
      },
      "execution_count": null,
      "outputs": [
        {
          "output_type": "stream",
          "name": "stdout",
          "text": [
            "* \n",
            "* * \n",
            "* * * \n",
            "* * * * \n",
            "* * * * * \n"
          ]
        }
      ]
    },
    {
      "cell_type": "code",
      "source": [
        "for i in range(1,6): # for rows\n",
        "  for j in range(1,i+1): # for column\n",
        "    print(i, end = \" \")\n",
        "  print()"
      ],
      "metadata": {
        "colab": {
          "base_uri": "https://localhost:8080/"
        },
        "id": "4Ly8gL4DYz6h",
        "outputId": "8e4e612b-6118-42ca-aef3-978d6b9bfdb7"
      },
      "execution_count": null,
      "outputs": [
        {
          "output_type": "stream",
          "name": "stdout",
          "text": [
            "1 \n",
            "2 2 \n",
            "3 3 3 \n",
            "4 4 4 4 \n",
            "5 5 5 5 5 \n"
          ]
        }
      ]
    },
    {
      "cell_type": "code",
      "source": [
        "for i in range(1,6):\n",
        "  for j in range(6,i,-1):\n",
        "    print(i, end = \" \")\n",
        "  print()"
      ],
      "metadata": {
        "colab": {
          "base_uri": "https://localhost:8080/"
        },
        "id": "o2LJCNdZZ6Is",
        "outputId": "28fed8d2-79a8-4726-e98c-ff0653bb6264"
      },
      "execution_count": null,
      "outputs": [
        {
          "output_type": "stream",
          "name": "stdout",
          "text": [
            "1 1 1 1 1 \n",
            "2 2 2 2 \n",
            "3 3 3 \n",
            "4 4 \n",
            "5 \n"
          ]
        }
      ]
    },
    {
      "cell_type": "code",
      "source": [
        "for i in range(1,6):\n",
        "  for k in range(6,i,-1):\n",
        "    print(i, end=\" \")\n",
        "  print()"
      ],
      "metadata": {
        "colab": {
          "base_uri": "https://localhost:8080/"
        },
        "id": "YdWI538wCUxi",
        "outputId": "2f32b050-7049-4d73-8eb9-388a0873e1ed"
      },
      "execution_count": null,
      "outputs": [
        {
          "output_type": "stream",
          "name": "stdout",
          "text": [
            "1 1 1 1 1 \n",
            "2 2 2 2 \n",
            "3 3 3 \n",
            "4 4 \n",
            "5 \n"
          ]
        }
      ]
    },
    {
      "cell_type": "code",
      "source": [
        "for i in range(1,6):\n",
        "  for x in range(6,i,-1):\n",
        "    print(\"*\", end = \" \")\n",
        "  print()"
      ],
      "metadata": {
        "colab": {
          "base_uri": "https://localhost:8080/"
        },
        "id": "_xHkD17va35O",
        "outputId": "3f6baa7f-02d8-4bdc-d039-1beaa17b81b1"
      },
      "execution_count": null,
      "outputs": [
        {
          "output_type": "stream",
          "name": "stdout",
          "text": [
            "* * * * * \n",
            "* * * * \n",
            "* * * \n",
            "* * \n",
            "* \n"
          ]
        }
      ]
    },
    {
      "cell_type": "code",
      "source": [
        "for i in range(1,6):\n",
        "  for j in range(5,i,-1):\n",
        "    print(\" \", end = \" \")\n",
        "  for k in range(i):\n",
        "      print(\"x\",end = \" \")\n",
        "  print()"
      ],
      "metadata": {
        "colab": {
          "base_uri": "https://localhost:8080/"
        },
        "id": "TJ2xHVWlb9I1",
        "outputId": "053ebffd-61a3-41b5-9156-97f77b227f36"
      },
      "execution_count": null,
      "outputs": [
        {
          "output_type": "stream",
          "name": "stdout",
          "text": [
            "        x \n",
            "      x x \n",
            "    x x x \n",
            "  x x x x \n",
            "x x x x x \n"
          ]
        }
      ]
    },
    {
      "cell_type": "code",
      "source": [
        "for i in range(1,6):\n",
        "  for j in range(i,0,-1):\n",
        "    print(j,end=\" \")\n",
        "  print()"
      ],
      "metadata": {
        "colab": {
          "base_uri": "https://localhost:8080/"
        },
        "id": "CavhiOrg-SP-",
        "outputId": "39b69216-af10-4993-c78a-a5a75081b4e5"
      },
      "execution_count": null,
      "outputs": [
        {
          "output_type": "stream",
          "name": "stdout",
          "text": [
            "1 \n",
            "2 1 \n",
            "3 2 1 \n",
            "4 3 2 1 \n",
            "5 4 3 2 1 \n"
          ]
        }
      ]
    },
    {
      "cell_type": "code",
      "source": [
        "for i in range(1,6):\n",
        "  for j in range(1,i+1):\n",
        "    print(\"x\",end = \" \")\n",
        "  print()\n",
        "for i in range(5,0,-1):\n",
        "  for k in range(0,i-1):\n",
        "    print(\"x\",end = \" \")\n",
        "  print()"
      ],
      "metadata": {
        "colab": {
          "base_uri": "https://localhost:8080/"
        },
        "id": "ILDjymxz-992",
        "outputId": "dcc1b733-ef16-4648-fbc9-86bc404078e9"
      },
      "execution_count": null,
      "outputs": [
        {
          "output_type": "stream",
          "name": "stdout",
          "text": [
            "x \n",
            "x x \n",
            "x x x \n",
            "x x x x \n",
            "x x x x x \n",
            "x x x x \n",
            "x x x \n",
            "x x \n",
            "x \n",
            "\n"
          ]
        }
      ]
    },
    {
      "cell_type": "code",
      "source": [
        "for i in range(1,11):\n",
        "  for k in range(1,11):\n",
        "    print(i*k,end = \" \")\n",
        "  print()"
      ],
      "metadata": {
        "colab": {
          "base_uri": "https://localhost:8080/"
        },
        "id": "pcCuZSKLBGo5",
        "outputId": "c1ee90f4-56d0-4b97-9153-3f56d6406887"
      },
      "execution_count": null,
      "outputs": [
        {
          "output_type": "stream",
          "name": "stdout",
          "text": [
            "1 2 3 4 5 6 7 8 9 10 \n",
            "2 4 6 8 10 12 14 16 18 20 \n",
            "3 6 9 12 15 18 21 24 27 30 \n",
            "4 8 12 16 20 24 28 32 36 40 \n",
            "5 10 15 20 25 30 35 40 45 50 \n",
            "6 12 18 24 30 36 42 48 54 60 \n",
            "7 14 21 28 35 42 49 56 63 70 \n",
            "8 16 24 32 40 48 56 64 72 80 \n",
            "9 18 27 36 45 54 63 72 81 90 \n",
            "10 20 30 40 50 60 70 80 90 100 \n"
          ]
        }
      ]
    },
    {
      "cell_type": "code",
      "source": [
        "for i in range(1,11):\n",
        "  for k in range(1,i+1):\n",
        "    print(i*k,end = \" \")\n",
        "  print()"
      ],
      "metadata": {
        "colab": {
          "base_uri": "https://localhost:8080/"
        },
        "id": "uuLLh1mZBZW_",
        "outputId": "6948e271-7e2a-4b31-d15b-68a01bda59fa"
      },
      "execution_count": null,
      "outputs": [
        {
          "output_type": "stream",
          "name": "stdout",
          "text": [
            "1 \n",
            "2 4 \n",
            "3 6 9 \n",
            "4 8 12 16 \n",
            "5 10 15 20 25 \n",
            "6 12 18 24 30 36 \n",
            "7 14 21 28 35 42 49 \n",
            "8 16 24 32 40 48 56 64 \n",
            "9 18 27 36 45 54 63 72 81 \n",
            "10 20 30 40 50 60 70 80 90 100 \n"
          ]
        }
      ]
    },
    {
      "cell_type": "markdown",
      "source": [
        "# **String Manipulation**\n",
        "# String\n",
        "Strings are the combination of number, symbols and letters, enclosed inside quotations.\n",
        "\n",
        "# Creation of a String:\n",
        "Strings can be created by enclosing numbers, letters or special symbols inside double quotations.\n",
        "\n",
        "It means assigning a string value to a variables.\n",
        "\n",
        "a = (\"hello world\")\n",
        "\n",
        "print(a)"
      ],
      "metadata": {
        "id": "C_ioCawFF8L6"
      }
    },
    {
      "cell_type": "code",
      "source": [
        "# TOPIC: String manipulation\n",
        "a = \"Hello world\"\n",
        "print(a)"
      ],
      "metadata": {
        "colab": {
          "base_uri": "https://localhost:8080/"
        },
        "id": "dh8A4SCJCYin",
        "outputId": "14e7502c-e83a-4801-ce6d-800adde53649"
      },
      "execution_count": null,
      "outputs": [
        {
          "output_type": "stream",
          "name": "stdout",
          "text": [
            "Hello world\n"
          ]
        }
      ]
    },
    {
      "cell_type": "code",
      "source": [
        "print(type(a))"
      ],
      "metadata": {
        "colab": {
          "base_uri": "https://localhost:8080/"
        },
        "id": "bckTuaQICnp7",
        "outputId": "d36e725e-5e60-479b-fad0-900a5b245ef1"
      },
      "execution_count": null,
      "outputs": [
        {
          "output_type": "stream",
          "name": "stdout",
          "text": [
            "<class 'str'>\n"
          ]
        }
      ]
    },
    {
      "cell_type": "code",
      "source": [
        "# String Function : Part 01"
      ],
      "metadata": {
        "id": "HBW--OwQFJu3"
      },
      "execution_count": null,
      "outputs": []
    },
    {
      "cell_type": "code",
      "source": [
        "\n",
        "# (1) length\n",
        "# (2) count\n",
        "# (3) upper\n",
        "# (4) lower\n",
        "# (5) index\n",
        "# (6) capitalized\n",
        "# (7) casefold\n",
        "# (8) find\n",
        "# (9) format\n",
        "# (10) center"
      ],
      "metadata": {
        "id": "JR79zlvcCsEN"
      },
      "execution_count": null,
      "outputs": []
    },
    {
      "cell_type": "code",
      "source": [
        "a = \"Harry potter and the Goblet fire\"\n",
        "print(a)\n",
        "# find the length of string\n",
        "print(len(a))\n",
        "# to find that how many times come the letter in string\n",
        "print(\"the letter o comes:\",a.count(\"o\"))\n",
        "# to change the string in upper case\n",
        "print(\"upper case:\", a.upper())\n",
        "# To change the string in lower case\n",
        "print(\"lower case:\",a.lower())\n",
        "# To find the index any number\n",
        "print(\"the indux number of y:\",a.index(\"y\"))\n",
        "# to convert in the capitalized function to string then it conver it first capitalized letter\n",
        "print(\"capitalized:\",a.capitalize())\n",
        "# title function\n",
        "print(\"titile function:\",a.title())\n",
        "# casefold function\n",
        "print(\"casefold function:\",a.casefold())\n",
        "# find function\n",
        "print(\"find function check the index :\",a.find(\"the\"))\n",
        "# format function\n",
        "name = \"johm\"\n",
        "age = 23\n",
        "b = \"my name is {} and my age is {}\"\n",
        "print(b.format(name,age))\n",
        "# center function\n",
        "print(name.center(20,\"*\"))\n",
        "\n"
      ],
      "metadata": {
        "colab": {
          "base_uri": "https://localhost:8080/"
        },
        "id": "qp4bET1HG0jx",
        "outputId": "c6cf4dbe-bfc9-429d-db9c-0e92db7133e3"
      },
      "execution_count": null,
      "outputs": [
        {
          "output_type": "stream",
          "name": "stdout",
          "text": [
            "Harry potter and the Goblet fire\n",
            "32\n",
            "the letter o comes: 2\n",
            "upper case: HARRY POTTER AND THE GOBLET FIRE\n",
            "lower case: harry potter and the goblet fire\n",
            "the indux number of y: 4\n",
            "capitalized: Harry potter and the goblet fire\n",
            "titile function: Harry Potter And The Goblet Fire\n",
            "casefold function: harry potter and the goblet fire\n",
            "find function check the index : 17\n",
            "my name is johm and my age is 23\n",
            "********johm********\n"
          ]
        }
      ]
    },
    {
      "cell_type": "code",
      "source": [
        "# string fuction : Part 02"
      ],
      "metadata": {
        "id": "Bz49kgOhFBLa"
      },
      "execution_count": null,
      "outputs": []
    },
    {
      "cell_type": "code",
      "source": [
        "\n",
        "# (1) isalnum\n",
        "# (2) isalpha\n",
        "# (3) isnumeric\n",
        "# (4) isdigit\n",
        "# (5) isdecimal\n",
        "# (6) isupper\n",
        "# (7) islower\n",
        "# (8) isspace\n",
        "# (9) istitle"
      ],
      "metadata": {
        "id": "AQvOpm97ImcQ"
      },
      "execution_count": null,
      "outputs": []
    },
    {
      "cell_type": "code",
      "source": [
        "a = \"helloworld\"\n",
        "b = \"1234helloworld\"\n",
        "c = \"45689\"\n",
        "d = \" \"\n",
        "e = \"HELLOWORLD\"\n",
        "f = \"Hellow world @\"\n",
        "g = \"234.6\"\n"
      ],
      "metadata": {
        "id": "Un47f4-K7w88"
      },
      "execution_count": null,
      "outputs": []
    },
    {
      "cell_type": "code",
      "source": [
        "# isalnum function : if space or symbol is come then return it false otherwise true\n",
        "print(a,a.isalnum())\n",
        "print(c, c.isalnum())\n",
        "print(f,f.isalnum())\n",
        "# isalpha function: if character are present then return true otherwise false\n",
        "print(a,a.isalpha())\n",
        "print(b,b.isalpha())\n",
        "print(g,g.isdigit())\n",
        "print(g,g.isdecimal())\n",
        "print(e,e.isupper())\n",
        "print(a,a.islower())\n",
        "print(d,d.isspace())\n",
        "print(e,e.istitle())\n"
      ],
      "metadata": {
        "colab": {
          "base_uri": "https://localhost:8080/"
        },
        "id": "BsDzxoCz8GPq",
        "outputId": "7e9dc3ff-91ce-404d-c7b7-59fdf617d80c"
      },
      "execution_count": null,
      "outputs": [
        {
          "output_type": "stream",
          "name": "stdout",
          "text": [
            "helloworld True\n",
            "45689 True\n",
            "Hellow world @ False\n",
            "helloworld True\n",
            "1234helloworld False\n",
            "234.6 False\n",
            "234.6 False\n",
            "HELLOWORLD True\n",
            "helloworld True\n",
            "  True\n",
            "HELLOWORLD False\n"
          ]
        }
      ]
    },
    {
      "cell_type": "code",
      "source": [
        "# String function : part 3"
      ],
      "metadata": {
        "id": "nuGHmnOZC0K5"
      },
      "execution_count": null,
      "outputs": []
    },
    {
      "cell_type": "code",
      "source": [
        "#(1) : startswith()\n",
        "#(2) :endswith()\n",
        "#(3) :swapcase()\n",
        "#(4) :strip()\n",
        "#(5) :split()\n",
        "#(6) :ljust()\n",
        "#(7) :rjust()\n",
        "#(8) :replace()\n",
        "#(9) :rindux()\n",
        "#(10): rfind()\n"
      ],
      "metadata": {
        "id": "WTXSerf7DK9l"
      },
      "execution_count": null,
      "outputs": []
    },
    {
      "cell_type": "code",
      "source": [
        "# (1) : Startswith()\n",
        "a= \"Harry Potter\"\n",
        "print(a.startswith(\"H\"))\n",
        "# (2) : endswith()\n",
        "print(a.endswith(\"r\"))\n",
        "# (3) : Swapcase()\n",
        "print(a.swapcase())\n",
        "# (4) : strip()\n"
      ],
      "metadata": {
        "id": "9jX_mrwKDP3x",
        "colab": {
          "base_uri": "https://localhost:8080/"
        },
        "outputId": "894d1524-6292-4434-f5aa-0d127bd6ba56"
      },
      "execution_count": null,
      "outputs": [
        {
          "output_type": "stream",
          "name": "stdout",
          "text": [
            "True\n",
            "True\n",
            "hARRY pOTTER\n"
          ]
        }
      ]
    },
    {
      "cell_type": "code",
      "source": [
        "# (5) : strip()\n",
        "a = \"     Harry Potter     \"\n",
        "print(a)\n",
        "print(a.strip())"
      ],
      "metadata": {
        "colab": {
          "base_uri": "https://localhost:8080/"
        },
        "id": "WGllgDBRkQkN",
        "outputId": "4a9962f8-ba37-4ffe-d0f4-d214857d8f46"
      },
      "execution_count": null,
      "outputs": [
        {
          "output_type": "stream",
          "name": "stdout",
          "text": [
            "     Harry Potter     \n",
            "Harry Potter\n"
          ]
        }
      ]
    },
    {
      "cell_type": "code",
      "source": [
        "#(6) : Split\n",
        "a = \"#sbpc#abc#dfg#jkl\"\n",
        "print(a)\n",
        "print(a.split(\"#\"))"
      ],
      "metadata": {
        "colab": {
          "base_uri": "https://localhost:8080/"
        },
        "id": "Jy1k4Ksykm-I",
        "outputId": "dd4e3dd1-f478-42ac-fc64-60349903139a"
      },
      "execution_count": null,
      "outputs": [
        {
          "output_type": "stream",
          "name": "stdout",
          "text": [
            "#sbpc#abc#dfg#jkl\n",
            "['', 'sbpc', 'abc', 'dfg', 'jkl']\n"
          ]
        }
      ]
    },
    {
      "cell_type": "code",
      "source": [
        "#(7): ljust\n",
        "a = \"harry potter\"\n",
        "x = a.ljust(40,\"*\")\n",
        "print(x,\"is my fovourite movie\" )"
      ],
      "metadata": {
        "colab": {
          "base_uri": "https://localhost:8080/"
        },
        "id": "gZOSKAXelNeY",
        "outputId": "f3544ce3-e2fc-45f1-9e63-091a7e4c7229"
      },
      "execution_count": null,
      "outputs": [
        {
          "output_type": "stream",
          "name": "stdout",
          "text": [
            "harry potter**************************** is my fovourite movie\n"
          ]
        }
      ]
    },
    {
      "cell_type": "code",
      "source": [
        "#(8): rjust\n",
        "a = a.rjust(50,\"~\")\n",
        "print(a,\"what a persom\")"
      ],
      "metadata": {
        "colab": {
          "base_uri": "https://localhost:8080/"
        },
        "id": "TcYJKpWjleO4",
        "outputId": "f98258d1-1646-49ab-d4ad-97873e2fd553"
      },
      "execution_count": null,
      "outputs": [
        {
          "output_type": "stream",
          "name": "stdout",
          "text": [
            "~~~~~~~~~~~~~~~~~~~~~~~~~~~~~~~~~~~~~~harry potter what a persom\n"
          ]
        }
      ]
    },
    {
      "cell_type": "code",
      "source": [
        "#(9): replace\n",
        "a = \"He is Jhon. he is brilliant man\"\n",
        "print(a.replace(\"Jhon\",\"kahlid\"))"
      ],
      "metadata": {
        "colab": {
          "base_uri": "https://localhost:8080/"
        },
        "id": "_UywVq2Im3xW",
        "outputId": "3ff5e876-1cd5-4323-b532-a1895f93c9dc"
      },
      "execution_count": null,
      "outputs": [
        {
          "output_type": "stream",
          "name": "stdout",
          "text": [
            "He is kahlid. he is brilliant man\n"
          ]
        }
      ]
    },
    {
      "cell_type": "code",
      "source": [
        "#(10): rindux\n",
        "a = \"Harry Potter and a prisoner run away\"\n",
        "print(a.rindex(\"prisoner\"))\n",
        "print(a.rindex(\"Harry\"))"
      ],
      "metadata": {
        "colab": {
          "base_uri": "https://localhost:8080/"
        },
        "id": "B9Xre4yin70n",
        "outputId": "07bc1cf3-d7fb-47ef-d0f6-f45128950e49"
      },
      "execution_count": null,
      "outputs": [
        {
          "output_type": "stream",
          "name": "stdout",
          "text": [
            "19\n",
            "0\n"
          ]
        }
      ]
    },
    {
      "cell_type": "code",
      "source": [
        "print(a.rfind(\"Potter\"))"
      ],
      "metadata": {
        "colab": {
          "base_uri": "https://localhost:8080/"
        },
        "id": "iYjZEKiIpa-P",
        "outputId": "6228db28-906d-4b4f-9c6c-0d99b2ca473d"
      },
      "execution_count": null,
      "outputs": [
        {
          "output_type": "stream",
          "name": "stdout",
          "text": [
            "6\n"
          ]
        }
      ]
    },
    {
      "cell_type": "markdown",
      "source": [
        "# **Slicing in Strings**"
      ],
      "metadata": {
        "id": "rW2PQF6jS5HR"
      }
    },
    {
      "cell_type": "code",
      "source": [
        "# SLICING IN STRING :\n",
        "a = \"Harry and Poter and Goblet fire\"\n",
        "print(a)\n",
        "print(a[0:5])\n",
        "print(a[10:15])\n",
        "print(a[:5])\n",
        "print(a[-4:])"
      ],
      "metadata": {
        "id": "Bz5JoaOZp39I",
        "colab": {
          "base_uri": "https://localhost:8080/"
        },
        "outputId": "0190e00c-27a6-4671-bd25-bb296d196a95"
      },
      "execution_count": null,
      "outputs": [
        {
          "output_type": "stream",
          "name": "stdout",
          "text": [
            "Harry and Poter and Goblet fire\n",
            "Harry\n",
            "Poter\n",
            "Harry\n",
            "fire\n"
          ]
        }
      ]
    },
    {
      "cell_type": "code",
      "source": [
        "b = \"0123456789\"\n",
        "print(b)\n",
        "print(b[::2])\n",
        "print(b[:7:2])\n",
        "print(b[::-1])\n",
        "print(b[6::-1])"
      ],
      "metadata": {
        "colab": {
          "base_uri": "https://localhost:8080/"
        },
        "id": "AqodxBzO7AiI",
        "outputId": "21b93624-76b9-41be-e52f-acdc9ba13506"
      },
      "execution_count": null,
      "outputs": [
        {
          "output_type": "stream",
          "name": "stdout",
          "text": [
            "0123456789\n",
            "02468\n",
            "0246\n",
            "9876543210\n",
            "6543210\n"
          ]
        }
      ]
    },
    {
      "cell_type": "markdown",
      "source": [
        "# **Problem Solving**"
      ],
      "metadata": {
        "id": "FJmKfKpeWoj1"
      }
    },
    {
      "cell_type": "code",
      "source": [
        "# PROBLEM SOLVING :\n",
        "# (1) Write a program to get a febonaci series up to 10 numbers.\n",
        "# (2) Write a program to check if a number is prime or not.\n",
        "# (3) Write a program to find palindrome of integers/\n",
        "# (4) Write a program to create an area calculator."
      ],
      "metadata": {
        "id": "mwHSYfiO9rgV"
      },
      "execution_count": null,
      "outputs": []
    },
    {
      "cell_type": "code",
      "source": [
        "# fibonocci series\n",
        "a = 0\n",
        "b = 1\n",
        "\n",
        "print(a)\n",
        "print(b)\n",
        "for i in range(2,11):\n",
        "  c = a+b\n",
        "  a = b\n",
        "  b = c\n",
        "  print(c)"
      ],
      "metadata": {
        "colab": {
          "base_uri": "https://localhost:8080/"
        },
        "id": "UnpgS-X8_dif",
        "outputId": "97193661-6e1a-40b2-f024-36cec6eac5fa"
      },
      "execution_count": null,
      "outputs": [
        {
          "output_type": "stream",
          "name": "stdout",
          "text": [
            "0\n",
            "1\n",
            "1\n",
            "2\n",
            "3\n",
            "5\n",
            "8\n",
            "13\n",
            "21\n",
            "34\n",
            "55\n"
          ]
        }
      ]
    },
    {
      "cell_type": "code",
      "source": [
        "# If a prime number is or not\n",
        "num = int(input(\"enter the number here: \"))\n",
        "if num <=1:\n",
        "  print(\"it is not a prime number\")\n",
        "else:\n",
        "  for i in range(2,num):\n",
        "    if num%2 == 0:\n",
        "      print(\"not a prime a number\")\n",
        "      break\n",
        "  else:\n",
        "    print(\"it is a prime number:\")"
      ],
      "metadata": {
        "colab": {
          "base_uri": "https://localhost:8080/"
        },
        "id": "kpsewuwpEF8F",
        "outputId": "d7874bcf-78d7-4298-e0d3-4211391050de"
      },
      "execution_count": null,
      "outputs": [
        {
          "output_type": "stream",
          "name": "stdout",
          "text": [
            "enter the number here: 5\n",
            "it is a prime number:\n"
          ]
        }
      ]
    },
    {
      "cell_type": "code",
      "source": [
        "k = int(input(\"enter the any number here:\"))\n",
        "if k<=1:\n",
        "  print(\"It is not a prime number\")\n",
        "else:\n",
        "  for i in range(2,k):\n",
        "    if k%2==0:\n",
        "      print(\"It is not a prime number\")\n",
        "      break\n",
        "  else:\n",
        "    print(\"It is  a prime number\")"
      ],
      "metadata": {
        "colab": {
          "base_uri": "https://localhost:8080/"
        },
        "id": "zXpERHWdZD__",
        "outputId": "d9867151-8b03-47d8-ebe9-0b2c8389e360"
      },
      "execution_count": null,
      "outputs": [
        {
          "output_type": "stream",
          "name": "stdout",
          "text": [
            "enter the any number here:23\n",
            "It is  a prime number\n"
          ]
        }
      ]
    },
    {
      "cell_type": "code",
      "source": [
        "# To check palindrome number\n",
        "num = int(input(\"enter a number here:\"))\n",
        "temp = num\n",
        "rev = 0\n",
        "while num>0:\n",
        "  dig = num % 10\n",
        "  rev = rev * 10 + dig\n",
        "  num = num //10\n",
        "\n",
        "if rev ==temp :\n",
        "  print(\"it is palindrome\")\n",
        "else:\n",
        "  print(\"it is not a palindrome\")"
      ],
      "metadata": {
        "colab": {
          "base_uri": "https://localhost:8080/"
        },
        "id": "mMIFeBQrEjVe",
        "outputId": "97b1628a-9da5-4efa-b944-9e60e3595c1d"
      },
      "execution_count": null,
      "outputs": [
        {
          "output_type": "stream",
          "name": "stdout",
          "text": [
            "enter a number here:333\n",
            "it is palindrome\n"
          ]
        }
      ]
    },
    {
      "cell_type": "code",
      "source": [
        "# PROBLEM SOLVING\n",
        "A = \"OOTD.YOLO.ASAP.BRB.GTG.OTW\"\n",
        "#(1) Write a program to separate the following string into comma(,)separated values\n",
        "print(A.split(\".\"))\n",
        "# (2) Write a program to sort string alphabetically into python.\n",
        "a = input(\"enter anything here:\")\n",
        "b = sorted(a)\n",
        "print(b)\n",
        "\n",
        "# (3) Write a program to remove given character from a string.\n",
        "print(a.replace(\"e\",\"\"))\n",
        "Z = \"F.R.I.E.N.D.S\"\n",
        "# (4) Write a program to remove dot(.) from a string.\n",
        "print(Z.split(\".\"))\n",
        "print(Z.replace(\".\",\"\"))\n",
        "# (5) Write a program to check the number of occurance\n",
        "a = \"he is my best friend and he is loyal boy\"\n",
        "print(a.count(\"he\"))"
      ],
      "metadata": {
        "colab": {
          "base_uri": "https://localhost:8080/"
        },
        "id": "_ONQNiqMnheU",
        "outputId": "739bd809-82da-4d9b-d5da-d59eba36a383"
      },
      "execution_count": null,
      "outputs": [
        {
          "output_type": "stream",
          "name": "stdout",
          "text": [
            "['OOTD', 'YOLO', 'ASAP', 'BRB', 'GTG', 'OTW']\n",
            "enter anything here:fello\n",
            "['e', 'f', 'l', 'l', 'o']\n",
            "fllo\n",
            "['F', 'R', 'I', 'E', 'N', 'D', 'S']\n",
            "FRIENDS\n",
            "2\n"
          ]
        }
      ]
    },
    {
      "cell_type": "code",
      "source": [
        "#PROBLEM SOLVING\n",
        "#(1) Take an input from a user as a string then, reverse it.\n",
        "a = input(\"enter anything here:\")\n",
        "print(a[::-1])\n",
        "#(2) Write a program to check if a string contain only digit.\n",
        "#(3) Write a program to check if a string is palindrom.\n",
        "#(4) Write a program to check vowels in a string.\n",
        "#(5) Write a program to check if every word in string begins with a capital letter."
      ],
      "metadata": {
        "id": "K_dDKPtRsWOV",
        "colab": {
          "base_uri": "https://localhost:8080/"
        },
        "outputId": "b0415d81-6834-45cc-dbce-690039c5fc09"
      },
      "execution_count": null,
      "outputs": [
        {
          "output_type": "stream",
          "name": "stdout",
          "text": [
            "enter anything here:for o loop only fo stetting\n",
            "gnittets of ylno pool o rof\n"
          ]
        }
      ]
    },
    {
      "cell_type": "code",
      "source": [
        "#(2) ******************************************\n",
        "a = input(\"enter anything here:\")\n",
        "b = (a.isdigit())\n",
        "if b == True:\n",
        "  print(\"it have only digit:\")\n",
        "else:\n",
        "  print(\"not only digit\")"
      ],
      "metadata": {
        "colab": {
          "base_uri": "https://localhost:8080/"
        },
        "id": "d2hyngjRbDRd",
        "outputId": "d0d1be9a-5fd4-4c3c-e73f-eddc5726837b"
      },
      "execution_count": null,
      "outputs": [
        {
          "output_type": "stream",
          "name": "stdout",
          "text": [
            "enter anything here:helo234\n",
            "not only digit\n"
          ]
        }
      ]
    },
    {
      "cell_type": "code",
      "source": [
        "#(3) ***************************************************\n",
        "a = input(\"enter anything here:\")\n",
        "rev = a[:: -1]\n",
        "if a ==rev:\n",
        "  print(\"it is a palindrom\")\n",
        "else:\n",
        "  print(\"it is not palindrom\")\n"
      ],
      "metadata": {
        "colab": {
          "base_uri": "https://localhost:8080/"
        },
        "id": "Zlt5nLnLbMGD",
        "outputId": "1c275a0a-8d42-4feb-c8e0-bf034c5dc4a7"
      },
      "execution_count": null,
      "outputs": [
        {
          "output_type": "stream",
          "name": "stdout",
          "text": [
            "enter anything here:madam\n",
            "it is a palindrom\n"
          ]
        }
      ]
    },
    {
      "cell_type": "code",
      "source": [
        "input = input(\"enter the anything here:\")\n",
        "k = input[::-1]\n",
        "if input==k:\n",
        "  print(\"It is a palindrome\")\n",
        "else:\n",
        "  print(\"It is not a palindrome\")"
      ],
      "metadata": {
        "colab": {
          "base_uri": "https://localhost:8080/"
        },
        "id": "1DyIpuwLa5iN",
        "outputId": "2a2c428a-5a0f-48b7-e136-63972e4cfc2e"
      },
      "execution_count": null,
      "outputs": [
        {
          "output_type": "stream",
          "name": "stdout",
          "text": [
            "enter the anything here:baba\n",
            "It is not a palindrome\n"
          ]
        }
      ]
    },
    {
      "cell_type": "code",
      "source": [
        " #(4) Write a program to check vowels in a string.*******************************************************\n",
        "a = input(\"enter the any string:\")\n",
        "vowels = 0\n",
        "for i in a:\n",
        "  if i== \"e\" or i==\"a\" or i== \"i\" or i== \"o\" or i== \"u\" or i== \"A\" or i== \"E\" or i== \"I\" or i== \"O\" or i== \"U\":\n",
        "    vowels +=1\n",
        "print(\"the number of vowels is :\",vowels)"
      ],
      "metadata": {
        "colab": {
          "base_uri": "https://localhost:8080/",
          "height": 245
        },
        "id": "g-zPPzMGeJ2F",
        "outputId": "fd633f15-017e-4558-ba99-a5269f095664"
      },
      "execution_count": null,
      "outputs": [
        {
          "output_type": "error",
          "ename": "TypeError",
          "evalue": "'str' object is not callable",
          "traceback": [
            "\u001b[0;31m---------------------------------------------------------------------------\u001b[0m",
            "\u001b[0;31mTypeError\u001b[0m                                 Traceback (most recent call last)",
            "\u001b[0;32m<ipython-input-2-580d3a57cf0d>\u001b[0m in \u001b[0;36m<cell line: 2>\u001b[0;34m()\u001b[0m\n\u001b[1;32m      1\u001b[0m \u001b[0;31m#(4) Write a program to check vowels in a string.*******************************************************\u001b[0m\u001b[0;34m\u001b[0m\u001b[0;34m\u001b[0m\u001b[0m\n\u001b[0;32m----> 2\u001b[0;31m \u001b[0ma\u001b[0m \u001b[0;34m=\u001b[0m \u001b[0minput\u001b[0m\u001b[0;34m(\u001b[0m\u001b[0;34m\"enter the any string:\"\u001b[0m\u001b[0;34m)\u001b[0m\u001b[0;34m\u001b[0m\u001b[0;34m\u001b[0m\u001b[0m\n\u001b[0m\u001b[1;32m      3\u001b[0m \u001b[0mvowels\u001b[0m \u001b[0;34m=\u001b[0m \u001b[0;36m0\u001b[0m\u001b[0;34m\u001b[0m\u001b[0;34m\u001b[0m\u001b[0m\n\u001b[1;32m      4\u001b[0m \u001b[0;32mfor\u001b[0m \u001b[0mi\u001b[0m \u001b[0;32min\u001b[0m \u001b[0ma\u001b[0m\u001b[0;34m:\u001b[0m\u001b[0;34m\u001b[0m\u001b[0;34m\u001b[0m\u001b[0m\n\u001b[1;32m      5\u001b[0m  \u001b[0;32mif\u001b[0m \u001b[0mi\u001b[0m\u001b[0;34m==\u001b[0m \u001b[0;34m\"e\"\u001b[0m \u001b[0;32mor\u001b[0m \u001b[0mi\u001b[0m\u001b[0;34m==\u001b[0m\u001b[0;34m\"a\"\u001b[0m \u001b[0;32mor\u001b[0m \u001b[0mi\u001b[0m\u001b[0;34m==\u001b[0m \u001b[0;34m\"i\"\u001b[0m \u001b[0;32mor\u001b[0m \u001b[0mi\u001b[0m\u001b[0;34m==\u001b[0m \u001b[0;34m\"o\"\u001b[0m \u001b[0;32mor\u001b[0m \u001b[0mi\u001b[0m\u001b[0;34m==\u001b[0m \u001b[0;34m\"u\"\u001b[0m \u001b[0;32mor\u001b[0m \u001b[0mi\u001b[0m\u001b[0;34m==\u001b[0m \u001b[0;34m\"A\"\u001b[0m \u001b[0;32mor\u001b[0m \u001b[0mi\u001b[0m\u001b[0;34m==\u001b[0m \u001b[0;34m\"E\"\u001b[0m \u001b[0;32mor\u001b[0m \u001b[0mi\u001b[0m\u001b[0;34m==\u001b[0m \u001b[0;34m\"I\"\u001b[0m \u001b[0;32mor\u001b[0m \u001b[0mi\u001b[0m\u001b[0;34m==\u001b[0m \u001b[0;34m\"O\"\u001b[0m \u001b[0;32mor\u001b[0m \u001b[0mi\u001b[0m\u001b[0;34m==\u001b[0m \u001b[0;34m\"U\"\u001b[0m\u001b[0;34m:\u001b[0m\u001b[0;34m\u001b[0m\u001b[0;34m\u001b[0m\u001b[0m\n",
            "\u001b[0;31mTypeError\u001b[0m: 'str' object is not callable"
          ]
        }
      ]
    },
    {
      "cell_type": "code",
      "source": [
        "a = input(\"enter the any here:\")\n",
        "vowels=0\n",
        "for i in a :\n",
        "  if i == \"e\" or i==\"a\" or i==\"i\" or i==\"o\" or i==\"u\" or i==\"A\" or i==\"E\" or i==\"I\" or i==\"O\" or i==\"U\":\n",
        "    vowels +=1\n",
        "print(\"the number of vowels is :\", vowels)"
      ],
      "metadata": {
        "colab": {
          "base_uri": "https://localhost:8080/",
          "height": 211
        },
        "id": "gU7JCX_WcH60",
        "outputId": "82dcbd73-f114-45e1-c18b-6523dec4ef86"
      },
      "execution_count": null,
      "outputs": [
        {
          "output_type": "error",
          "ename": "TypeError",
          "evalue": "'str' object is not callable",
          "traceback": [
            "\u001b[0;31m---------------------------------------------------------------------------\u001b[0m",
            "\u001b[0;31mTypeError\u001b[0m                                 Traceback (most recent call last)",
            "\u001b[0;32m<ipython-input-9-dbc5e6c4c252>\u001b[0m in \u001b[0;36m<cell line: 1>\u001b[0;34m()\u001b[0m\n\u001b[0;32m----> 1\u001b[0;31m \u001b[0ma\u001b[0m \u001b[0;34m=\u001b[0m \u001b[0minput\u001b[0m\u001b[0;34m(\u001b[0m\u001b[0;34m\"enter the any here:\"\u001b[0m\u001b[0;34m)\u001b[0m\u001b[0;34m\u001b[0m\u001b[0;34m\u001b[0m\u001b[0m\n\u001b[0m\u001b[1;32m      2\u001b[0m \u001b[0mvowels\u001b[0m\u001b[0;34m=\u001b[0m\u001b[0;36m0\u001b[0m\u001b[0;34m\u001b[0m\u001b[0;34m\u001b[0m\u001b[0m\n\u001b[1;32m      3\u001b[0m \u001b[0;32mfor\u001b[0m \u001b[0mi\u001b[0m \u001b[0;32min\u001b[0m \u001b[0ma\u001b[0m \u001b[0;34m:\u001b[0m\u001b[0;34m\u001b[0m\u001b[0;34m\u001b[0m\u001b[0m\n\u001b[1;32m      4\u001b[0m   \u001b[0;32mif\u001b[0m \u001b[0mi\u001b[0m \u001b[0;34m==\u001b[0m \u001b[0;34m\"e\"\u001b[0m \u001b[0;32mor\u001b[0m \u001b[0mi\u001b[0m\u001b[0;34m==\u001b[0m\u001b[0;34m\"a\"\u001b[0m \u001b[0;32mor\u001b[0m \u001b[0mi\u001b[0m\u001b[0;34m==\u001b[0m\u001b[0;34m\"i\"\u001b[0m \u001b[0;32mor\u001b[0m \u001b[0mi\u001b[0m\u001b[0;34m==\u001b[0m\u001b[0;34m\"o\"\u001b[0m \u001b[0;32mor\u001b[0m \u001b[0mi\u001b[0m\u001b[0;34m==\u001b[0m\u001b[0;34m\"u\"\u001b[0m \u001b[0;32mor\u001b[0m \u001b[0mi\u001b[0m\u001b[0;34m==\u001b[0m\u001b[0;34m\"A\"\u001b[0m \u001b[0;32mor\u001b[0m \u001b[0mi\u001b[0m\u001b[0;34m==\u001b[0m\u001b[0;34m\"E\"\u001b[0m \u001b[0;32mor\u001b[0m \u001b[0mi\u001b[0m\u001b[0;34m==\u001b[0m\u001b[0;34m\"I\"\u001b[0m \u001b[0;32mor\u001b[0m \u001b[0mi\u001b[0m\u001b[0;34m==\u001b[0m\u001b[0;34m\"O\"\u001b[0m \u001b[0;32mor\u001b[0m \u001b[0mi\u001b[0m\u001b[0;34m==\u001b[0m\u001b[0;34m\"U\"\u001b[0m\u001b[0;34m:\u001b[0m\u001b[0;34m\u001b[0m\u001b[0;34m\u001b[0m\u001b[0m\n\u001b[1;32m      5\u001b[0m     \u001b[0mvowels\u001b[0m \u001b[0;34m+=\u001b[0m\u001b[0;36m1\u001b[0m\u001b[0;34m\u001b[0m\u001b[0;34m\u001b[0m\u001b[0m\n",
            "\u001b[0;31mTypeError\u001b[0m: 'str' object is not callable"
          ]
        }
      ]
    },
    {
      "cell_type": "code",
      "source": [
        "# (5) ***************************************************************\n",
        "a = \"Harry Potter And Gold Is Fire\"\n",
        "print(a.istitle())"
      ],
      "metadata": {
        "colab": {
          "base_uri": "https://localhost:8080/"
        },
        "id": "xnZYa9vEfL_T",
        "outputId": "42ac7dfe-3a74-4843-b9d2-89b59163d4b3"
      },
      "execution_count": null,
      "outputs": [
        {
          "output_type": "stream",
          "name": "stdout",
          "text": [
            "True\n"
          ]
        }
      ]
    },
    {
      "cell_type": "code",
      "source": [
        "# Introduction to List: List are the collection fo ordered and mutable data................\n",
        "#.List are written by Square bracket[]\n",
        "#. the value inside list is separated by comma,\n",
        "#.Mutable means once created,they can be changed\n",
        "#.Multiple datatypes is written in a list e.g........\n",
        "fruits = [\"apple\",\"banana\",\"mango\",23,23.3,5]\n",
        "print(fruits)\n",
        "print(type(fruits))"
      ],
      "metadata": {
        "colab": {
          "base_uri": "https://localhost:8080/"
        },
        "id": "X2M2PWRji2wM",
        "outputId": "0f9222fa-3fa0-40c9-9518-65182173e368"
      },
      "execution_count": null,
      "outputs": [
        {
          "output_type": "stream",
          "name": "stdout",
          "text": [
            "['apple', 'banana', 'mango', 23, 23.3, 5]\n",
            "<class 'list'>\n"
          ]
        }
      ]
    },
    {
      "cell_type": "code",
      "source": [
        "# List\n",
        "a = [\"apple\",\"banana\",\"cherry\"]\n",
        "print(a)"
      ],
      "metadata": {
        "colab": {
          "base_uri": "https://localhost:8080/"
        },
        "id": "gTx7XX7ulW2q",
        "outputId": "ba92fe8f-eed1-4618-8bdd-3dcc59a175ed"
      },
      "execution_count": null,
      "outputs": [
        {
          "output_type": "stream",
          "name": "stdout",
          "text": [
            "['apple', 'banana', 'cherry']\n"
          ]
        }
      ]
    },
    {
      "cell_type": "code",
      "source": [
        "#SLICING LIST\n",
        "# TO known the index checking\n",
        "a = [\"ironman\",\"tho\",\"captain America\",\"Hulk\"]\n",
        "print(a[2])\n",
        "print(a[-1])\n",
        "print(a[:2])\n",
        "print(a[::2])\n",
        "print(a[1:])\n",
        "print(a[-1])\n",
        "print(a[::-1])"
      ],
      "metadata": {
        "colab": {
          "base_uri": "https://localhost:8080/"
        },
        "id": "zhqmq4AMlmH4",
        "outputId": "06d9ffd6-c0ca-47fa-e94f-6baa3155fb23"
      },
      "execution_count": null,
      "outputs": [
        {
          "output_type": "stream",
          "name": "stdout",
          "text": [
            "captain America\n",
            "Hulk\n",
            "['ironman', 'tho']\n",
            "['ironman', 'captain America']\n",
            "['tho', 'captain America', 'Hulk']\n",
            "Hulk\n",
            "['Hulk', 'captain America', 'tho', 'ironman']\n"
          ]
        }
      ]
    },
    {
      "cell_type": "markdown",
      "source": [
        "# **List:**\n",
        "Lists are the collection of ordered and mutable data.\n",
        "\n",
        "\n",
        "\n",
        "*   Lists are written inside the squared brackets.\n",
        "\n",
        "*   The value inside a list is separated by coma(,).\n",
        "*   Mutable means once created, they can be changed.\n",
        "\n",
        "\n",
        "*   Multiple datatypes can written inside a list.\n",
        "\n",
        "\n",
        "\n"
      ],
      "metadata": {
        "id": "6ZoIVBwmg0Iz"
      }
    },
    {
      "cell_type": "code",
      "source": [
        "fruits = [\"Apple\",\"Banana\",\"Mango\",\"Cherry\"]\n",
        "print(fruits)\n",
        "print(type(fruits))"
      ],
      "metadata": {
        "colab": {
          "base_uri": "https://localhost:8080/"
        },
        "id": "GBdMNNUgixWu",
        "outputId": "2c504d88-cd92-428e-ae4b-0fc88d561582"
      },
      "execution_count": null,
      "outputs": [
        {
          "output_type": "stream",
          "name": "stdout",
          "text": [
            "['Apple', 'Banana', 'Mango', 'Cherry']\n",
            "<class 'list'>\n"
          ]
        }
      ]
    },
    {
      "cell_type": "code",
      "source": [
        "# LIST ITERATION:\n",
        "# 1 Iteration fo loop\n",
        "# 2 Tteration using for loop with range and length function.\n",
        "# 3 Iteration using while Loop\n",
        "# 4 Using short hand for loop"
      ],
      "metadata": {
        "id": "3uXFztbxmkPt"
      },
      "execution_count": null,
      "outputs": []
    },
    {
      "cell_type": "code",
      "source": [
        "a = [\"apple\",\"banana\",\"cherry\",\"mango\"]\n",
        "print(len(a))\n",
        "for i in a:\n",
        "  print(i)"
      ],
      "metadata": {
        "colab": {
          "base_uri": "https://localhost:8080/"
        },
        "id": "NR0KWoAZv1AJ",
        "outputId": "ee443582-ff4c-4471-e6da-aa1bdf238ae9"
      },
      "execution_count": null,
      "outputs": [
        {
          "output_type": "stream",
          "name": "stdout",
          "text": [
            "4\n",
            "apple\n",
            "banana\n",
            "cherry\n",
            "mango\n"
          ]
        }
      ]
    },
    {
      "cell_type": "code",
      "source": [
        "for i in range(len(a)):\n",
        "  print(a[i])\n"
      ],
      "metadata": {
        "colab": {
          "base_uri": "https://localhost:8080/"
        },
        "id": "s57nNm07wLZ3",
        "outputId": "2e6cc2bc-f364-4d54-c95e-66809b90f636"
      },
      "execution_count": null,
      "outputs": [
        {
          "output_type": "stream",
          "name": "stdout",
          "text": [
            "apple\n",
            "banana\n",
            "cherry\n",
            "mango\n"
          ]
        }
      ]
    },
    {
      "cell_type": "code",
      "source": [
        "# iteration with while loop\n",
        "i = 0\n",
        "while i < len(a):\n",
        "  print(a[i])\n",
        "  i += 1"
      ],
      "metadata": {
        "colab": {
          "base_uri": "https://localhost:8080/"
        },
        "id": "7f7tpbu7yUOb",
        "outputId": "f12d51e3-c66f-4418-c0c4-32b033a80a21"
      },
      "execution_count": null,
      "outputs": [
        {
          "output_type": "stream",
          "name": "stdout",
          "text": [
            "apple\n",
            "banana\n",
            "cherry\n",
            "mango\n"
          ]
        }
      ]
    },
    {
      "cell_type": "code",
      "source": [
        "# iteration with short hand for loop\n",
        "[print (i) for i in a]"
      ],
      "metadata": {
        "colab": {
          "base_uri": "https://localhost:8080/"
        },
        "id": "I5c6EoOmy6ee",
        "outputId": "0f32fa9b-5b4b-4842-bdc3-c64708541d69"
      },
      "execution_count": null,
      "outputs": [
        {
          "output_type": "stream",
          "name": "stdout",
          "text": [
            "apple\n",
            "banana\n",
            "cherry\n",
            "mango\n"
          ]
        },
        {
          "output_type": "execute_result",
          "data": {
            "text/plain": [
              "[None, None, None, None]"
            ]
          },
          "metadata": {},
          "execution_count": 57
        }
      ]
    },
    {
      "cell_type": "code",
      "source": [
        "# LIST FUNCTION: PART 01\n",
        "# To find the length of list\n",
        "# To count occurance of a particular element\n",
        "# To add the list\n",
        "# To add to a specification location\n",
        "# To remove from a list"
      ],
      "metadata": {
        "id": "1DhlBXeazmPF"
      },
      "execution_count": null,
      "outputs": []
    },
    {
      "cell_type": "code",
      "source": [
        "# T0 find the length of list\n",
        "a = [\"apple\",\"banana\",\"cherry\",\"mango\",\"dates\"]\n",
        "print(len(a))"
      ],
      "metadata": {
        "colab": {
          "base_uri": "https://localhost:8080/"
        },
        "id": "6SyhQEjQ8Bh7",
        "outputId": "e7ac8906-2547-415c-8649-d6f313b89800"
      },
      "execution_count": null,
      "outputs": [
        {
          "output_type": "stream",
          "name": "stdout",
          "text": [
            "5\n"
          ]
        }
      ]
    },
    {
      "cell_type": "code",
      "source": [
        "# To count occurance of a particular elemant\n",
        "print(a.count(\"cherry\"))"
      ],
      "metadata": {
        "colab": {
          "base_uri": "https://localhost:8080/"
        },
        "id": "I2FC5sI58yC9",
        "outputId": "b7336d7e-1fab-4ab7-e978-c17a45c9c9f0"
      },
      "execution_count": null,
      "outputs": [
        {
          "output_type": "stream",
          "name": "stdout",
          "text": [
            "1\n"
          ]
        }
      ]
    },
    {
      "cell_type": "code",
      "source": [
        "# To add the list\n",
        "print(a)"
      ],
      "metadata": {
        "colab": {
          "base_uri": "https://localhost:8080/"
        },
        "id": "HDA8oy6y9LiG",
        "outputId": "d1a3e9c9-6630-4973-d37d-57b897cb22eb"
      },
      "execution_count": null,
      "outputs": [
        {
          "output_type": "stream",
          "name": "stdout",
          "text": [
            "['apple', 'banana', 'cherry', 'mango', 'dates']\n"
          ]
        }
      ]
    },
    {
      "cell_type": "code",
      "source": [
        "# To add to a specification location\n",
        "a.insert(2,\"vision\")\n",
        "print(a)"
      ],
      "metadata": {
        "colab": {
          "base_uri": "https://localhost:8080/"
        },
        "id": "eh42Ggmw-GUO",
        "outputId": "94d07589-e610-45ad-8f02-e01e64176b11"
      },
      "execution_count": null,
      "outputs": [
        {
          "output_type": "stream",
          "name": "stdout",
          "text": [
            "['apple', 'banana', 'vision', 'cherry', 'mango', 'dates', 'Haris', 'orange', 'mango']\n"
          ]
        }
      ]
    },
    {
      "cell_type": "code",
      "source": [
        "# To remove from a list\n",
        "a = ['apple', 'banana', 'vision', 'cherry', 'mango', 'dates', 'Haris', 'orange', 'mango']\n",
        "print(a)\n",
        "print(a.remove(\"Haris\"))\n",
        "print(a)"
      ],
      "metadata": {
        "colab": {
          "base_uri": "https://localhost:8080/"
        },
        "id": "EFipF0PI_A5S",
        "outputId": "987ce9c3-a340-4ad5-e36d-6cbe68afb481"
      },
      "execution_count": null,
      "outputs": [
        {
          "output_type": "stream",
          "name": "stdout",
          "text": [
            "['apple', 'banana', 'vision', 'cherry', 'mango', 'dates', 'Haris', 'orange', 'mango']\n",
            "None\n",
            "['apple', 'banana', 'vision', 'cherry', 'mango', 'dates', 'orange', 'mango']\n"
          ]
        }
      ]
    },
    {
      "cell_type": "code",
      "source": [
        "print(a.pop(4))\n",
        "print(a)"
      ],
      "metadata": {
        "colab": {
          "base_uri": "https://localhost:8080/"
        },
        "id": "tWLPw5mk_I3v",
        "outputId": "d75a3b34-d2e2-423b-b262-2255a8b24627"
      },
      "execution_count": null,
      "outputs": [
        {
          "output_type": "stream",
          "name": "stdout",
          "text": [
            "dates\n",
            "['apple', 'banana', 'vision', 'cherry', 'orange', 'mango']\n"
          ]
        }
      ]
    },
    {
      "cell_type": "code",
      "source": [
        "# LIST FUNCTION PART 02:\n",
        "# TO  creat a copy of list\n",
        "# To access of an element\n",
        "# To entend the list\n",
        "# To reverse the list\n",
        "# To sort the list\n",
        "# To clear all the data from the list\n",
        "\n"
      ],
      "metadata": {
        "id": "Sn-S_BoSBMxs"
      },
      "execution_count": null,
      "outputs": []
    },
    {
      "cell_type": "code",
      "source": [
        "# 1. To create a copy of list\n",
        "a =['apple', 'banana', 'vision', 'cherry', 'mango', 'dates', 'Haris', 'orange', 'mango']\n",
        "a.copy()\n",
        "print(a)"
      ],
      "metadata": {
        "colab": {
          "base_uri": "https://localhost:8080/"
        },
        "id": "2iBMN0D8CIFg",
        "outputId": "f3da0c66-dcb8-458d-f23b-6d972e81bac3"
      },
      "execution_count": null,
      "outputs": [
        {
          "output_type": "stream",
          "name": "stdout",
          "text": [
            "['apple', 'banana', 'vision', 'cherry', 'mango', 'dates', 'Haris', 'orange', 'mango']\n"
          ]
        }
      ]
    },
    {
      "cell_type": "code",
      "source": [
        "# 2. To access of an element\n",
        "print(a.index(\"dates\"))"
      ],
      "metadata": {
        "colab": {
          "base_uri": "https://localhost:8080/"
        },
        "id": "9FqP8TvqDxue",
        "outputId": "eca1948b-ad95-41c0-e7d0-2aac107df8c5"
      },
      "execution_count": null,
      "outputs": [
        {
          "output_type": "stream",
          "name": "stdout",
          "text": [
            "5\n"
          ]
        }
      ]
    },
    {
      "cell_type": "code",
      "source": [
        "# 3. To entended of an element\n",
        "a =['apple', 'banana', 'vision', 'cherry', 'mango', 'dates', 'Haris', 'orange', 'mango']\n",
        "c =[\"vision\",\"spiderman\"]\n",
        "a.extend(c)\n",
        "print(a)"
      ],
      "metadata": {
        "colab": {
          "base_uri": "https://localhost:8080/"
        },
        "id": "ERXvRJOREOKN",
        "outputId": "d40c17ee-e44e-48c5-f512-09b1a756dfbf"
      },
      "execution_count": null,
      "outputs": [
        {
          "output_type": "stream",
          "name": "stdout",
          "text": [
            "['apple', 'banana', 'vision', 'cherry', 'mango', 'dates', 'Haris', 'orange', 'mango', 'vision', 'spiderman']\n"
          ]
        }
      ]
    },
    {
      "cell_type": "code",
      "source": [
        "# 4. To reverse the list\n",
        "a =['apple', 'banana', 'vision', 'cherry', 'mango', 'dates', 'Haris', 'orange', 'mango']\n",
        "a.reverse()\n",
        "print(a)"
      ],
      "metadata": {
        "colab": {
          "base_uri": "https://localhost:8080/"
        },
        "id": "2nqpKiDxYXrg",
        "outputId": "221ffaaf-2bc7-4155-a07a-ef7c2853c193"
      },
      "execution_count": null,
      "outputs": [
        {
          "output_type": "stream",
          "name": "stdout",
          "text": [
            "['mango', 'orange', 'Haris', 'dates', 'mango', 'cherry', 'vision', 'banana', 'apple']\n"
          ]
        }
      ]
    },
    {
      "cell_type": "code",
      "source": [
        "# 5. To sort the list.\n",
        "d = [1,2,3,5,8,5,0,9]\n",
        "d.sort()\n",
        "print(d)"
      ],
      "metadata": {
        "colab": {
          "base_uri": "https://localhost:8080/"
        },
        "id": "YJAl_u6gY0xC",
        "outputId": "09a044dd-d93e-4bb0-ecc8-22b921c7796c"
      },
      "execution_count": null,
      "outputs": [
        {
          "output_type": "stream",
          "name": "stdout",
          "text": [
            "[0, 1, 2, 3, 5, 5, 8, 9]\n"
          ]
        }
      ]
    },
    {
      "cell_type": "code",
      "source": [
        "# 6. To clear the all data from string.\n",
        "a.clear()\n",
        "print(a)"
      ],
      "metadata": {
        "colab": {
          "base_uri": "https://localhost:8080/"
        },
        "id": "FcX_3pPiZN09",
        "outputId": "40a754a6-43db-4ffb-b315-8a40a8a6dd3a"
      },
      "execution_count": null,
      "outputs": [
        {
          "output_type": "stream",
          "name": "stdout",
          "text": [
            "[]\n"
          ]
        }
      ]
    },
    {
      "cell_type": "code",
      "source": [
        "from re import L\n",
        "# LIST COMPREHENSION:\n",
        "L1 = [10,20,30,40,50,60]\n",
        "\n",
        "L2 = []\n",
        "for i in L1:\n",
        "  L2.append(i)\n",
        "print(L1,L2)"
      ],
      "metadata": {
        "colab": {
          "base_uri": "https://localhost:8080/"
        },
        "id": "1Iwo6eazZk6o",
        "outputId": "f49c2986-ef36-4997-b130-63d67b77f542"
      },
      "execution_count": null,
      "outputs": [
        {
          "output_type": "stream",
          "name": "stdout",
          "text": [
            "[10, 20, 30, 40, 50, 60] [10, 20, 30, 40, 50, 60]\n"
          ]
        }
      ]
    },
    {
      "cell_type": "code",
      "source": [
        "# List comprehension\n",
        "L3 = [i for i in L1]\n",
        "print(L3)"
      ],
      "metadata": {
        "colab": {
          "base_uri": "https://localhost:8080/"
        },
        "id": "Gv2HW77RfCUL",
        "outputId": "4d9188eb-dffa-4a8c-fd4f-ae0736bf675d"
      },
      "execution_count": null,
      "outputs": [
        {
          "output_type": "stream",
          "name": "stdout",
          "text": [
            "[10, 20, 30, 40, 50, 60]\n"
          ]
        }
      ]
    },
    {
      "cell_type": "code",
      "source": [
        "# Problem Solving\n",
        "#1. Write a program to swap first and forth element\n",
        "#2. Write a program to add new value at second position.\n",
        "#3. Write a program to delete a value from third position.\n",
        "# B = [30,59,70,20]\n",
        "#4. Write a program to multiply all the numbers in the list.\n",
        "#5. Write a program to get the largest number in the list.\n",
        "#6. Write a program to ger the smallest number in the list."
      ],
      "metadata": {
        "id": "rblzccvZfyq6"
      },
      "execution_count": null,
      "outputs": []
    },
    {
      "cell_type": "code",
      "source": [
        "# 1. ************************************************* the value have been swaped\n",
        "A = [\"Rose\",\"Rachel\",\"Monica\",\"Joe\"]\n",
        "A[0],A[3] = A[3],A[0]\n",
        "print(A)"
      ],
      "metadata": {
        "colab": {
          "base_uri": "https://localhost:8080/"
        },
        "id": "cXqDreIigTWm",
        "outputId": "211388cc-2834-499f-d84a-1b485a2bde39"
      },
      "execution_count": null,
      "outputs": [
        {
          "output_type": "stream",
          "name": "stdout",
          "text": [
            "['Joe', 'Rachel', 'Monica', 'Rose']\n"
          ]
        }
      ]
    },
    {
      "cell_type": "code",
      "source": [
        "#2. *********************************** to add new value at second position.\n",
        "A.insert(1,\"phobie\")\n",
        "print(A)"
      ],
      "metadata": {
        "colab": {
          "base_uri": "https://localhost:8080/"
        },
        "id": "0Xi9A-_AlFyo",
        "outputId": "71e7b966-c9d6-42dc-9b00-0811db401b9d"
      },
      "execution_count": null,
      "outputs": [
        {
          "output_type": "stream",
          "name": "stdout",
          "text": [
            "['Joe', 'phobie', 'Rachel', 'Monica', 'Rose']\n"
          ]
        }
      ]
    },
    {
      "cell_type": "code",
      "source": [
        "#3.****************************** to delete a value from third position.\n",
        "A.pop(2)\n",
        "print(A)"
      ],
      "metadata": {
        "colab": {
          "base_uri": "https://localhost:8080/"
        },
        "id": "jmhJ5gBWl6Br",
        "outputId": "bc3d5b71-6477-405b-8dfb-3d6b555f47d7"
      },
      "execution_count": null,
      "outputs": [
        {
          "output_type": "stream",
          "name": "stdout",
          "text": [
            "['Joe', 'phobie', 'Monica', 'Rose']\n"
          ]
        }
      ]
    },
    {
      "cell_type": "code",
      "source": [
        "B = [30,50,70,20]\n",
        "#4.****************Write a program to multiply all the number in the list.\n",
        "mult = 1\n",
        "for i in (B):\n",
        "  mult *=i\n",
        "print(mult)"
      ],
      "metadata": {
        "colab": {
          "base_uri": "https://localhost:8080/"
        },
        "id": "RCsoVjUxmR03",
        "outputId": "a6f63348-f845-4715-ef0b-0946c215456e"
      },
      "execution_count": null,
      "outputs": [
        {
          "output_type": "stream",
          "name": "stdout",
          "text": [
            "2100000\n"
          ]
        }
      ]
    },
    {
      "cell_type": "code",
      "source": [
        "B = [30, 50, 70, 20]\n",
        "\n",
        "# Initialize the multiplication result to 1\n",
        "mult = 1\n",
        "\n",
        "# Multiply each element in the list\n",
        "for i in B:\n",
        "    mult *= i\n",
        "\n",
        "# Print the result\n",
        "print(mult)\n"
      ],
      "metadata": {
        "colab": {
          "base_uri": "https://localhost:8080/"
        },
        "id": "AVExtv1fuJPr",
        "outputId": "48abc345-35f0-4009-89f9-d1bc72e6b3d8"
      },
      "execution_count": null,
      "outputs": [
        {
          "output_type": "stream",
          "name": "stdout",
          "text": [
            "2100000\n"
          ]
        }
      ]
    },
    {
      "cell_type": "code",
      "source": [
        "#5.************** Write a program to get largest value in a list and smallest value.\n",
        "B.sort()\n",
        "print(B)\n",
        "print(\"the largest value of the list is:\",B[-1])\n",
        "print(\"the smallest value of the list is:\",B[0])"
      ],
      "metadata": {
        "colab": {
          "base_uri": "https://localhost:8080/"
        },
        "id": "-u91o9XCuX7I",
        "outputId": "8788ceca-8d75-4aae-b7a6-59ffa7a869d8"
      },
      "execution_count": null,
      "outputs": [
        {
          "output_type": "stream",
          "name": "stdout",
          "text": [
            "[20, 30, 50, 70]\n",
            "the largest value of the list is: 70\n",
            "the smallest value of the list is: 20\n"
          ]
        }
      ]
    },
    {
      "cell_type": "code",
      "source": [
        "j = [49,20,60,40,80,60,20]\n",
        "j.sort()\n",
        "print(j)\n",
        "print(j[-1])\n",
        "print(j[0])"
      ],
      "metadata": {
        "colab": {
          "base_uri": "https://localhost:8080/"
        },
        "id": "bd_0vTodqvl7",
        "outputId": "fdc75be9-3f35-4511-f53a-437945e95416"
      },
      "execution_count": null,
      "outputs": [
        {
          "output_type": "stream",
          "name": "stdout",
          "text": [
            "[20, 20, 40, 49, 60, 60, 80]\n",
            "80\n",
            "20\n"
          ]
        }
      ]
    },
    {
      "cell_type": "markdown",
      "source": [
        "# **Tuples**"
      ],
      "metadata": {
        "id": "5IVvYgVDsWwk"
      }
    },
    {
      "cell_type": "code",
      "source": [
        "# TUPLES: Tuples are collection of ordered and un-mutable data.\n",
        "#. There is no bracket mandatory but by the choice one can be used is parenthesis()\n",
        "#.Un-mutable mean that vlue can't be changed\n",
        "#. values are separated by comma,.\n",
        "#. Multiple datatypes are written in tuples"
      ],
      "metadata": {
        "id": "Qd-EtBWWvyb9"
      },
      "execution_count": null,
      "outputs": []
    },
    {
      "cell_type": "code",
      "source": [
        "b = \"mango\",\"apple\",\"banana\"\n",
        "a = (\"halmoni\",\"kora\",\"salmonella\")\n",
        "print(type(a))\n",
        "print(type(b))"
      ],
      "metadata": {
        "colab": {
          "base_uri": "https://localhost:8080/"
        },
        "id": "XrrPwP4rzRdp",
        "outputId": "0c967086-645c-43e3-a75e-324ff2aedec7"
      },
      "execution_count": null,
      "outputs": [
        {
          "output_type": "stream",
          "name": "stdout",
          "text": [
            "<class 'tuple'>\n",
            "<class 'tuple'>\n"
          ]
        }
      ]
    },
    {
      "cell_type": "code",
      "source": [
        "# the value inside the tuple can't be changed.\n",
        "b.append(\"typhi\")\n",
        "print(b)"
      ],
      "metadata": {
        "colab": {
          "base_uri": "https://localhost:8080/",
          "height": 176
        },
        "id": "sKbS8_SPz6E3",
        "outputId": "51ea17df-16d8-48d3-ccc1-a02b3f18b9f3"
      },
      "execution_count": null,
      "outputs": [
        {
          "output_type": "error",
          "ename": "AttributeError",
          "evalue": "'tuple' object has no attribute 'append'",
          "traceback": [
            "\u001b[0;31m---------------------------------------------------------------------------\u001b[0m",
            "\u001b[0;31mAttributeError\u001b[0m                            Traceback (most recent call last)",
            "\u001b[0;32m<ipython-input-15-fb8f6c15787f>\u001b[0m in \u001b[0;36m<cell line: 2>\u001b[0;34m()\u001b[0m\n\u001b[1;32m      1\u001b[0m \u001b[0;31m# the value inside the tuple can't be changed.\u001b[0m\u001b[0;34m\u001b[0m\u001b[0;34m\u001b[0m\u001b[0m\n\u001b[0;32m----> 2\u001b[0;31m \u001b[0mb\u001b[0m\u001b[0;34m.\u001b[0m\u001b[0mappend\u001b[0m\u001b[0;34m(\u001b[0m\u001b[0;34m\"typhi\"\u001b[0m\u001b[0;34m)\u001b[0m\u001b[0;34m\u001b[0m\u001b[0;34m\u001b[0m\u001b[0m\n\u001b[0m\u001b[1;32m      3\u001b[0m \u001b[0mprint\u001b[0m\u001b[0;34m(\u001b[0m\u001b[0mb\u001b[0m\u001b[0;34m)\u001b[0m\u001b[0;34m\u001b[0m\u001b[0;34m\u001b[0m\u001b[0m\n",
            "\u001b[0;31mAttributeError\u001b[0m: 'tuple' object has no attribute 'append'"
          ]
        }
      ]
    },
    {
      "cell_type": "code",
      "source": [
        "a = \"Hello\"\n",
        "b = \"Hello\",\n",
        "print(type(a))\n",
        "print(type(b))"
      ],
      "metadata": {
        "colab": {
          "base_uri": "https://localhost:8080/"
        },
        "id": "rrZkZwv-0Lhy",
        "outputId": "4efe8db0-b414-44b8-f68d-b02756471123"
      },
      "execution_count": null,
      "outputs": [
        {
          "output_type": "stream",
          "name": "stdout",
          "text": [
            "<class 'str'>\n",
            "<class 'tuple'>\n"
          ]
        }
      ]
    },
    {
      "cell_type": "code",
      "source": [
        "#slicing and iteration in tuple\n",
        "a = [\"oneplus\",\"vivo\",\"sumsung\",\"oppo\",\"redmi\"]\n",
        "print(a[1:3])\n",
        "print(a[:3])\n",
        "print(a[0:])\n",
        "print(a[::2])\n",
        "print(a[::-1])\n",
        "print(a[::])"
      ],
      "metadata": {
        "colab": {
          "base_uri": "https://localhost:8080/"
        },
        "id": "Qb-Tfayw0vZd",
        "outputId": "9e34da30-5dd8-4f84-9311-af9fabf90b28"
      },
      "execution_count": null,
      "outputs": [
        {
          "output_type": "stream",
          "name": "stdout",
          "text": [
            "['vivo', 'sumsung']\n",
            "['oneplus', 'vivo', 'sumsung']\n",
            "['oneplus', 'vivo', 'sumsung', 'oppo', 'redmi']\n",
            "['oneplus', 'sumsung', 'redmi']\n",
            "['redmi', 'oppo', 'sumsung', 'vivo', 'oneplus']\n",
            "['oneplus', 'vivo', 'sumsung', 'oppo', 'redmi']\n"
          ]
        }
      ]
    },
    {
      "cell_type": "code",
      "source": [
        "# Iteration\n",
        "# With for loop\n",
        "a = [\"oneplus\",\"vivo\",\"sumsung\",\"oppo\",\"redmi\"]\n",
        "for i in a:\n",
        "  print(i)\n",
        "\n",
        "\n"
      ],
      "metadata": {
        "colab": {
          "base_uri": "https://localhost:8080/"
        },
        "id": "0n4NS_CD3NZk",
        "outputId": "14bc8d44-9b72-48fb-c4ea-f2c85ce2de0b"
      },
      "execution_count": null,
      "outputs": [
        {
          "output_type": "stream",
          "name": "stdout",
          "text": [
            "oneplus\n",
            "vivo\n",
            "sumsung\n",
            "oppo\n",
            "redmi\n"
          ]
        }
      ]
    },
    {
      "cell_type": "code",
      "source": [
        "# along with range and length in tuples for loop\n",
        "for i in range(len(a)):\n",
        "  print(a[i])\n"
      ],
      "metadata": {
        "colab": {
          "base_uri": "https://localhost:8080/"
        },
        "id": "u5ZEv-134XKv",
        "outputId": "a4422d49-6cf5-480d-9e70-508e1a89fc6d"
      },
      "execution_count": null,
      "outputs": [
        {
          "output_type": "stream",
          "name": "stdout",
          "text": [
            "oneplus\n",
            "vivo\n",
            "sumsung\n",
            "oppo\n",
            "redmi\n"
          ]
        }
      ]
    },
    {
      "cell_type": "code",
      "source": [
        "# along with While loop\n",
        "i = 0\n",
        "while i< len(a):\n",
        "  print(a[i])\n",
        "  i += 1"
      ],
      "metadata": {
        "colab": {
          "base_uri": "https://localhost:8080/"
        },
        "id": "ZdnidSxT6fm3",
        "outputId": "9add55c4-f8dd-46e8-9e2c-3c7c7053aa7e"
      },
      "execution_count": null,
      "outputs": [
        {
          "output_type": "stream",
          "name": "stdout",
          "text": [
            "oneplus\n",
            "vivo\n",
            "sumsung\n",
            "oppo\n",
            "redmi\n"
          ]
        }
      ]
    },
    {
      "cell_type": "code",
      "source": [
        "# CONVERSION OF TUPLES AND TUPELS FUNCTION\n",
        "a = (\"oppo\",\"redmi\",\"sumsung\")\n",
        "print(a)\n",
        "print(type(a))\n",
        "a = list(a)\n",
        "print(type(a))\n",
        "print(a)\n",
        "a.append(\"vivo\")\n",
        "a = tuple(a)\n",
        "print(type(a))\n",
        "print(a)\n"
      ],
      "metadata": {
        "colab": {
          "base_uri": "https://localhost:8080/"
        },
        "id": "Y46gLqwz7kQK",
        "outputId": "719ad34d-bcb0-4f9d-eb81-090b543a1f52"
      },
      "execution_count": null,
      "outputs": [
        {
          "output_type": "stream",
          "name": "stdout",
          "text": [
            "('oppo', 'redmi', 'sumsung')\n",
            "<class 'tuple'>\n",
            "<class 'list'>\n",
            "['oppo', 'redmi', 'sumsung']\n",
            "<class 'tuple'>\n",
            "('oppo', 'redmi', 'sumsung', 'vivo')\n"
          ]
        }
      ]
    },
    {
      "cell_type": "code",
      "source": [
        "# Tuples function\n",
        "print(a)\n",
        "print(a.count(\"sumsung\"))\n",
        "print(\"the index of sumsung\",a.index(\"sumsung\"))"
      ],
      "metadata": {
        "colab": {
          "base_uri": "https://localhost:8080/"
        },
        "id": "2ob7NE009V7x",
        "outputId": "2ffe8b29-d67e-4a40-d0a1-1f802d18ccdd"
      },
      "execution_count": null,
      "outputs": [
        {
          "output_type": "stream",
          "name": "stdout",
          "text": [
            "('oppo', 'redmi', 'sumsung', 'vivo')\n",
            "1\n",
            "the index of sumsung 2\n"
          ]
        }
      ]
    },
    {
      "cell_type": "code",
      "source": [
        "# PROBLEM SOLVING:\n",
        "#1.Convert the following dictionary into jason format.\n",
        "student_data = {\"Name\":\"Mudassir\",\"age\":20,\"marks\":80}\n",
        "#2.Access the value of age from given data.\n",
        "#3.Pretty print following jason data.\n",
        "#4.Sort the following Jason keys and write them into a file."
      ],
      "metadata": {
        "id": "3W4jF6Sq-bs5"
      },
      "execution_count": null,
      "outputs": []
    },
    {
      "cell_type": "code",
      "source": [
        "#1.Convert the following dictionary into jason format.\n",
        "import json\n",
        "student_data = {\"Name\":\"Mudassir\",\"age\":20,\"marks\":80}\n",
        "print(type(student_data))\n",
        "json_data = json.dumps(student_data)\n",
        "print(json_data)\n",
        "print(type(json_data))"
      ],
      "metadata": {
        "colab": {
          "base_uri": "https://localhost:8080/"
        },
        "id": "yyQSsDcnH6oq",
        "outputId": "431d1751-72bf-48b0-e1b4-255df399ff58"
      },
      "execution_count": null,
      "outputs": [
        {
          "output_type": "stream",
          "name": "stdout",
          "text": [
            "<class 'dict'>\n",
            "{\"Name\": \"Mudassir\", \"age\": 20, \"marks\": 80}\n",
            "<class 'str'>\n"
          ]
        }
      ]
    },
    {
      "cell_type": "code",
      "source": [
        "import json\n",
        "\n",
        "student_data = {\"Name\": \"Mudassir\", \"age\": 20, \"marks\": 80}\n",
        "\n",
        "# Convert the dictionary to JSON format\n",
        "json_data = json.dumps(student_data)\n",
        "\n",
        "# Print the JSON data\n",
        "print(json_data)\n",
        "print(type(json_data))"
      ],
      "metadata": {
        "colab": {
          "base_uri": "https://localhost:8080/"
        },
        "id": "lyHcJw5wLntq",
        "outputId": "2bbb0185-3e0b-4045-9269-785fd4896083"
      },
      "execution_count": null,
      "outputs": [
        {
          "output_type": "stream",
          "name": "stdout",
          "text": [
            "{\"Name\": \"Mudassir\", \"age\": 20, \"marks\": 80}\n",
            "<class 'str'>\n"
          ]
        }
      ]
    },
    {
      "cell_type": "code",
      "source": [
        "import json\n",
        "\n",
        "student_data = {\"Name\": \"Mudassir\", \"age\": 20, \"marks\": 80}\n",
        "print(type(student_data))\n",
        "\n",
        "# Corrected module name\n",
        "data = json.dumps(student_data)\n",
        "print(data)\n",
        "print(type(student_data))\n"
      ],
      "metadata": {
        "colab": {
          "base_uri": "https://localhost:8080/"
        },
        "id": "mOq3VbRFJkuf",
        "outputId": "0c845bda-8f52-49b3-f90f-3422de47c9c3"
      },
      "execution_count": null,
      "outputs": [
        {
          "output_type": "stream",
          "name": "stdout",
          "text": [
            "<class 'dict'>\n",
            "{\"Name\": \"Mudassir\", \"age\": 20, \"marks\": 80}\n",
            "<class 'dict'>\n"
          ]
        }
      ]
    },
    {
      "cell_type": "code",
      "source": [
        "#2.Access the value of age from given data.\n",
        "\n",
        "student_data = {\"Name\": \"Mudassir\", \"age\": 20, \"marks\": 80}\n",
        "value_age = student_data[\"age\"]\n",
        "print(\"age\",value_age)"
      ],
      "metadata": {
        "colab": {
          "base_uri": "https://localhost:8080/"
        },
        "id": "J_HkUOsjKc-q",
        "outputId": "b976cb90-9623-4720-bd08-b535b9a9b1f6"
      },
      "execution_count": null,
      "outputs": [
        {
          "output_type": "stream",
          "name": "stdout",
          "text": [
            "age 20\n"
          ]
        }
      ]
    },
    {
      "cell_type": "code",
      "source": [
        "  #3.Pretty print following jason data.\n",
        "student_data = {\"Name\": \"Mudassir\", \"age\": 20, \"marks\": 80}\n",
        "json_data = json.dumps(student_data, indent=4,separators=(\",\",\"=\"))\n",
        "print(json_data)"
      ],
      "metadata": {
        "colab": {
          "base_uri": "https://localhost:8080/"
        },
        "id": "RZN347GWOTDv",
        "outputId": "1926fbef-0bb6-41b7-fb52-de66c3d03dea"
      },
      "execution_count": null,
      "outputs": [
        {
          "output_type": "stream",
          "name": "stdout",
          "text": [
            "{\n",
            "    \"Name\"=\"Mudassir\",\n",
            "    \"age\"=20,\n",
            "    \"marks\"=80\n",
            "}\n"
          ]
        }
      ]
    },
    {
      "cell_type": "code",
      "source": [
        "#4.Sort the following Jason keys and write them into a file.\n",
        "student_data = {\"Name\": \"Mudassir\", \"age\": 20, \"marks\": 80}\n",
        "f = open(\"demo.json\",\"w\")\n",
        "json_data = json.dumps(student_data,indent=4,sort_keys=True)\n",
        "f.write(json_data)\n",
        "print(\"the data has been added into the file:\",json_data)"
      ],
      "metadata": {
        "colab": {
          "base_uri": "https://localhost:8080/"
        },
        "id": "t7_L7qp2QzuR",
        "outputId": "82f889fe-0151-4197-d822-02611ace090e"
      },
      "execution_count": null,
      "outputs": [
        {
          "output_type": "stream",
          "name": "stdout",
          "text": [
            "the data has been added into the file: {\n",
            "    \"Name\": \"Mudassir\",\n",
            "    \"age\": 20,\n",
            "    \"marks\": 80\n",
            "}\n"
          ]
        }
      ]
    },
    {
      "cell_type": "code",
      "source": [
        "# INRODUCTION OF DICTIONARY:   Dictionary allows user to write the data in form of keys and values.\n",
        "#. Dictionary are enclosed in curley brackets.\n",
        "#. Keys and Values are separated by colon.\n",
        "#. Every key value pair is separated by comma,"
      ],
      "metadata": {
        "id": "iwZKUEvsQzqe"
      },
      "execution_count": null,
      "outputs": []
    },
    {
      "cell_type": "code",
      "source": [
        "Employee_Data = {\"Name\":\"Jhon\",\"Age\":23,\"Gender\":\"male\"}\n",
        "print(Employee_Data)"
      ],
      "metadata": {
        "colab": {
          "base_uri": "https://localhost:8080/"
        },
        "id": "wiAkSDIQSUF7",
        "outputId": "6ae6deb5-d5a2-41e3-c8e3-36681a595484"
      },
      "execution_count": null,
      "outputs": [
        {
          "output_type": "stream",
          "name": "stdout",
          "text": [
            "{'Name': 'Jhon', 'Age': 23, 'Gender': 'male'}\n"
          ]
        }
      ]
    },
    {
      "cell_type": "code",
      "source": [
        "print(Employee_Data[\"Gender\"])"
      ],
      "metadata": {
        "colab": {
          "base_uri": "https://localhost:8080/"
        },
        "id": "5Wu4P00OWzkR",
        "outputId": "17dae0fe-b328-468d-b73f-22b7a6a4afbe"
      },
      "execution_count": null,
      "outputs": [
        {
          "output_type": "stream",
          "name": "stdout",
          "text": [
            "male\n"
          ]
        }
      ]
    },
    {
      "cell_type": "code",
      "source": [
        "# Iteration in dictionary\n",
        "#printing all the keys one by one\n",
        "#printing all the values one by one\n",
        "#using value function.\n",
        "#using item function."
      ],
      "metadata": {
        "id": "45QdAa6nXAHT"
      },
      "execution_count": null,
      "outputs": []
    },
    {
      "cell_type": "code",
      "source": [
        "#printing all the keys one by one\n",
        "for i in Employee_Data:\n",
        "  print(i)"
      ],
      "metadata": {
        "colab": {
          "base_uri": "https://localhost:8080/"
        },
        "id": "tteFncU9Y7kg",
        "outputId": "163dc991-7e6b-438b-c35f-acd98adb23f1"
      },
      "execution_count": null,
      "outputs": [
        {
          "output_type": "stream",
          "name": "stdout",
          "text": [
            "Name\n",
            "Age\n",
            "Gender\n"
          ]
        }
      ]
    },
    {
      "cell_type": "code",
      "source": [
        "#printing all the values one by one.\n",
        "for i in Employee_Data:\n",
        "  print(Employee_Data[i])"
      ],
      "metadata": {
        "colab": {
          "base_uri": "https://localhost:8080/"
        },
        "id": "Qg3vO47jZGGY",
        "outputId": "5d84aed0-156b-4b17-8574-f71fb24f73ea"
      },
      "execution_count": null,
      "outputs": [
        {
          "output_type": "stream",
          "name": "stdout",
          "text": [
            "Jhon\n",
            "23\n",
            "male\n"
          ]
        }
      ]
    },
    {
      "cell_type": "code",
      "source": [
        "# using the value function.\n",
        "for i in Employee_Data.values():\n",
        "  print(i)\n"
      ],
      "metadata": {
        "colab": {
          "base_uri": "https://localhost:8080/"
        },
        "id": "K7_ROJmgZU1P",
        "outputId": "06ad1d5c-a726-4bc3-f1c7-267a8265439d"
      },
      "execution_count": null,
      "outputs": [
        {
          "output_type": "stream",
          "name": "stdout",
          "text": [
            "Jhon\n",
            "23\n",
            "male\n"
          ]
        }
      ]
    },
    {
      "cell_type": "code",
      "source": [
        "# using the item function.\n",
        "for i,j in Employee_Data.items():\n",
        "  print(i,\"=\",j)"
      ],
      "metadata": {
        "colab": {
          "base_uri": "https://localhost:8080/"
        },
        "id": "t4DSLC5FZcRA",
        "outputId": "96dc68d1-ad2d-4521-d6b1-b2d4c0dba0c1"
      },
      "execution_count": null,
      "outputs": [
        {
          "output_type": "stream",
          "name": "stdout",
          "text": [
            "Name = Jhon\n",
            "Age = 23\n",
            "Gender = male\n"
          ]
        }
      ]
    },
    {
      "cell_type": "code",
      "source": [
        "# Dictionary Functions Part 01:\n",
        "#1. get\n",
        "#2.item\n",
        "#3.keys\n",
        "#4.values\n",
        "#5.Copy"
      ],
      "metadata": {
        "id": "GOQJVyeObEkE"
      },
      "execution_count": null,
      "outputs": []
    },
    {
      "cell_type": "code",
      "source": [
        "# get Function.\n",
        "Student = {\"Name\":\"Jhon\",\"Class\":\"6th\",\"Roll_N0\":14}\n",
        "i = Student.get(\"Roll_N0\")\n",
        "print(i)"
      ],
      "metadata": {
        "colab": {
          "base_uri": "https://localhost:8080/"
        },
        "id": "JIosrSobbt3c",
        "outputId": "342f7d81-f511-47b8-c34e-6ecda19a3db2"
      },
      "execution_count": null,
      "outputs": [
        {
          "output_type": "stream",
          "name": "stdout",
          "text": [
            "14\n"
          ]
        }
      ]
    },
    {
      "cell_type": "code",
      "source": [
        "for i,j in Student.items():\n",
        "  print(i,\"-\",j)"
      ],
      "metadata": {
        "colab": {
          "base_uri": "https://localhost:8080/"
        },
        "id": "0MUHOAT5d6J3",
        "outputId": "8d817a66-69c0-4b54-b76c-3495d9711f6b"
      },
      "execution_count": null,
      "outputs": [
        {
          "output_type": "stream",
          "name": "stdout",
          "text": [
            "Name - Jhon\n",
            "Class - 6th\n",
            "Roll_N0 - 14\n"
          ]
        }
      ]
    },
    {
      "cell_type": "code",
      "source": [
        "# item Function.\n",
        "a = Student.items()\n",
        "print(a)"
      ],
      "metadata": {
        "colab": {
          "base_uri": "https://localhost:8080/"
        },
        "id": "i24Kul-Ec5w-",
        "outputId": "f99e67ae-175d-442c-c82c-d311bbe33509"
      },
      "execution_count": null,
      "outputs": [
        {
          "output_type": "stream",
          "name": "stdout",
          "text": [
            "dict_items([('Name', 'Jhon'), ('Class', '6th'), ('Roll_N0', 14)])\n"
          ]
        }
      ]
    },
    {
      "cell_type": "code",
      "source": [
        "#3/ keys function\n",
        "a = Student.keys()\n",
        "print(a)"
      ],
      "metadata": {
        "colab": {
          "base_uri": "https://localhost:8080/"
        },
        "id": "L5thvaMzdkB0",
        "outputId": "d45ac9b8-9fe1-4731-e128-25a5de2788d9"
      },
      "execution_count": null,
      "outputs": [
        {
          "output_type": "stream",
          "name": "stdout",
          "text": [
            "dict_keys(['Name', 'Class', 'Roll_N0'])\n"
          ]
        }
      ]
    },
    {
      "cell_type": "markdown",
      "source": [],
      "metadata": {
        "id": "fATeu_AU2TIJ"
      }
    },
    {
      "cell_type": "code",
      "source": [
        "#4. Values function\n",
        "b = Student.values()\n",
        "print(b)"
      ],
      "metadata": {
        "colab": {
          "base_uri": "https://localhost:8080/"
        },
        "id": "tAyPu8wXeirW",
        "outputId": "6af1fd50-4125-454b-af55-d98786844a49"
      },
      "execution_count": null,
      "outputs": [
        {
          "output_type": "stream",
          "name": "stdout",
          "text": [
            "dict_values(['Jhon', '6th', 14])\n"
          ]
        }
      ]
    },
    {
      "cell_type": "code",
      "source": [
        "d = Student.copy()\n",
        "print(d)"
      ],
      "metadata": {
        "colab": {
          "base_uri": "https://localhost:8080/"
        },
        "id": "ptfW19ihewHb",
        "outputId": "062b56e4-08bb-4b8c-ffad-ed81171c3c87"
      },
      "execution_count": null,
      "outputs": [
        {
          "output_type": "stream",
          "name": "stdout",
          "text": [
            "{'Name': 'Jhon', 'Class': '6th', 'Roll_N0': 14}\n"
          ]
        }
      ]
    },
    {
      "cell_type": "code",
      "source": [
        "# DICTIONARY FUNCTION PART 02\n",
        "#1. Setdefault\n",
        "#2. Update\n",
        "#3. pop\n",
        "#4. popitem\n",
        "#5. clear"
      ],
      "metadata": {
        "id": "Vw320e2XfLCj"
      },
      "execution_count": null,
      "outputs": []
    },
    {
      "cell_type": "code",
      "source": [
        "# Nested dictionary\n",
        "Employee_Data = {1:{\"Name\":\"John\",\"Age\":23,\"Gender\":\"male\"},\n",
        "                 2:{\"Name\":\"Lisa\",\"Age\":34,\"Gender\":\"Female\"},\n",
        "                 3:{\"Name\":\"Petter\",\"Age\":43,\"Gender\":\"Male\"}}\n",
        "print(Employee_Data)"
      ],
      "metadata": {
        "colab": {
          "base_uri": "https://localhost:8080/"
        },
        "id": "kCw_F-JaitgK",
        "outputId": "4514ce23-3c4d-4c90-d53a-188b3086162c"
      },
      "execution_count": null,
      "outputs": [
        {
          "output_type": "stream",
          "name": "stdout",
          "text": [
            "{1: {'Name': 'John', 'Age': 23, 'Gender': 'male'}, 2: {'Name': 'Lisa', 'Age': 34, 'Gender': 'Female'}, 3: {'Name': 'Petter', 'Age': 43, 'Gender': 'Male'}}\n"
          ]
        }
      ]
    },
    {
      "cell_type": "code",
      "source": [
        "print(Employee_Data[3][\"Age\"])"
      ],
      "metadata": {
        "colab": {
          "base_uri": "https://localhost:8080/"
        },
        "id": "bwC8EcDckLCm",
        "outputId": "e76c6efe-cd32-43b6-bd9f-6cb8a8d67bcb"
      },
      "execution_count": null,
      "outputs": [
        {
          "output_type": "stream",
          "name": "stdout",
          "text": [
            "43\n"
          ]
        }
      ]
    },
    {
      "cell_type": "code",
      "source": [
        "# PROBLEM SOLVING\n",
        "#1. Write a python program to sort a dictionary by values\n",
        "a = {\"a\":23,\"b\":32,\"c\":54,\"d\":45,\"f\":60}\n",
        "b = sorted(a.values())\n",
        "print(b)"
      ],
      "metadata": {
        "colab": {
          "base_uri": "https://localhost:8080/"
        },
        "id": "kjLP2v3-kYgx",
        "outputId": "c765ed47-7167-4d30-ef6c-70bb98066a6f"
      },
      "execution_count": null,
      "outputs": [
        {
          "output_type": "stream",
          "name": "stdout",
          "text": [
            "[23, 32, 45, 54, 60]\n"
          ]
        }
      ]
    },
    {
      "cell_type": "code",
      "source": [
        "# INTRODUCTION TO SETS:  Sets are unordered collection of data. Every element insdie the set is unique and mutable\n",
        "# Sets are written inside the  curley brackets\n",
        "# The value of inside are separated by comma,\n",
        "# Mutable means once created, that can't be changed."
      ],
      "metadata": {
        "id": "m3naSp8trdG1"
      },
      "execution_count": null,
      "outputs": []
    },
    {
      "cell_type": "code",
      "source": [
        "a = {\"pustle\",\"Numle\",\"Monica\",\"Freshy\"}\n",
        "print(a)\n",
        "print(type(a))\n",
        "for i in a:\n",
        "  print(i)\n",
        "print(a.copy())"
      ],
      "metadata": {
        "colab": {
          "base_uri": "https://localhost:8080/"
        },
        "id": "gnkteel23U0R",
        "outputId": "296ddf41-c9fa-40a0-ecec-2637ac46c181"
      },
      "execution_count": null,
      "outputs": [
        {
          "output_type": "stream",
          "name": "stdout",
          "text": [
            "{'Numle', 'Freshy', 'Monica', 'pustle'}\n",
            "<class 'set'>\n",
            "Numle\n",
            "Freshy\n",
            "Monica\n",
            "pustle\n",
            "{'Numle', 'Freshy', 'Monica', 'pustle'}\n"
          ]
        }
      ]
    },
    {
      "cell_type": "code",
      "source": [
        "# Sets function part 01:\n",
        "# add\n",
        "a.add(\"Marter\")\n",
        "print(a)\n",
        "# pop\n",
        "a.pop()\n",
        "print(a)\n",
        "# remove\n",
        "a.remove(\"Marter\")\n",
        "print(a)\n",
        "# discard\n",
        "a.discard(\"Monica\")\n",
        "print(a)\n",
        "# copy\n",
        "print(a)\n",
        "b = a.copy()\n",
        "print(b)"
      ],
      "metadata": {
        "colab": {
          "base_uri": "https://localhost:8080/"
        },
        "id": "Gcgy86Z_3c7i",
        "outputId": "c27952a1-c235-45f6-c089-335f85cb5de6"
      },
      "execution_count": null,
      "outputs": [
        {
          "output_type": "stream",
          "name": "stdout",
          "text": [
            "{'Marter', 'Freshy'}\n",
            "{'Marter'}\n",
            "set()\n",
            "set()\n",
            "set()\n",
            "set()\n"
          ]
        }
      ]
    },
    {
      "cell_type": "code",
      "source": [],
      "metadata": {
        "id": "nkPDdiOK4PSB"
      },
      "execution_count": null,
      "outputs": []
    },
    {
      "cell_type": "code",
      "source": [
        "# Set Functions Part 02:\n",
        "# isdisjoint\n",
        "# issubset\n",
        "# issuperset\n",
        "# update\n",
        "# clear"
      ],
      "metadata": {
        "id": "ask04IW65scU"
      },
      "execution_count": null,
      "outputs": []
    },
    {
      "cell_type": "code",
      "source": [
        "# Set Function part 03:\n",
        "#union\n",
        "#Difference\n",
        "#Difference update\n",
        "#Intersection\n",
        "#Intersection Update\n",
        "#Symmetric Difference\n",
        "#Symmetric Difference Update"
      ],
      "metadata": {
        "id": "5F_XJOXg-LN1"
      },
      "execution_count": null,
      "outputs": []
    },
    {
      "cell_type": "code",
      "source": [
        "# PROBLEM SOLVING:\n",
        "# Write a program to find max and min in a set?\n",
        "# Write a program to find common elements in three lists using sets?\n",
        "# write a program to find difference between two sets?\n",
        "# Write a python program to remove an item from a set if it is present in the set?\n",
        "# Write a python program to check if a set is a subset of another set?"
      ],
      "metadata": {
        "id": "Z1HIKPScCCT9"
      },
      "execution_count": null,
      "outputs": []
    },
    {
      "cell_type": "code",
      "source": [
        "# Write a program to find max and min in a set?\n",
        "a = {35,20,50,75,98,1,63,55}\n",
        "maximum = max(a)\n",
        "minimum = min(a)\n",
        "print(\"the maximum value of a set:\",maximum)\n",
        "print(\"the minimum value of a set:\",minimum)"
      ],
      "metadata": {
        "colab": {
          "base_uri": "https://localhost:8080/"
        },
        "id": "TOnUAel4KYXn",
        "outputId": "0d7c2050-08ed-4bd0-bc63-2d205728c333"
      },
      "execution_count": null,
      "outputs": [
        {
          "output_type": "stream",
          "name": "stdout",
          "text": [
            "the maximum value of a set: 98\n",
            "the minimum value of a set: 1\n"
          ]
        }
      ]
    },
    {
      "cell_type": "code",
      "source": [
        "# Write a program to find common elements in three lists using sets?\n",
        "a = [1,2,5,7,6,9]\n",
        "b = [5,4,3,6,8,]\n",
        "c = [1,3,5,6,9]\n",
        "print(set(a) & set(b) & set(c))\n"
      ],
      "metadata": {
        "colab": {
          "base_uri": "https://localhost:8080/"
        },
        "id": "GgQN3eP8MrNb",
        "outputId": "756777ee-5210-464c-a70e-1ae1dd9d0dac"
      },
      "execution_count": null,
      "outputs": [
        {
          "output_type": "stream",
          "name": "stdout",
          "text": [
            "{5, 6}\n"
          ]
        }
      ]
    },
    {
      "cell_type": "code",
      "source": [
        "# write a program to find difference between two sets?\n",
        "a = {1,2,5,7,6,9}\n",
        "b = {5,4,3,6,8,}\n",
        "\n",
        "print (a.difference(b))"
      ],
      "metadata": {
        "colab": {
          "base_uri": "https://localhost:8080/"
        },
        "id": "rSrhqBfANwDz",
        "outputId": "8f8e0bb4-b39e-4cc0-b812-db3e6eafc827"
      },
      "execution_count": null,
      "outputs": [
        {
          "output_type": "stream",
          "name": "stdout",
          "text": [
            "{1, 2, 9, 7}\n"
          ]
        }
      ]
    },
    {
      "cell_type": "code",
      "source": [
        "# Write a python program to remove an item from a set if it is present in the set?\n",
        "a = {1,2,5,7,6,9}\n",
        "a.discard(5)\n",
        "print(a)"
      ],
      "metadata": {
        "colab": {
          "base_uri": "https://localhost:8080/"
        },
        "id": "yb-bFk7VQ7EY",
        "outputId": "9b9ee779-03b6-4a4f-c09e-a62873aa4700"
      },
      "execution_count": null,
      "outputs": [
        {
          "output_type": "stream",
          "name": "stdout",
          "text": [
            "{1, 2, 6, 7, 9}\n"
          ]
        }
      ]
    },
    {
      "cell_type": "code",
      "source": [
        "# Write a python program to check if a set is a subset of another set?\n",
        "a = {5,6,7,8,9}\n",
        "b = {5,6,7}\n",
        "print(b.issubset(a))"
      ],
      "metadata": {
        "colab": {
          "base_uri": "https://localhost:8080/"
        },
        "id": "BWb2cZAYRGam",
        "outputId": "19a21c31-6f0d-4eab-f779-a5f0f462c612"
      },
      "execution_count": null,
      "outputs": [
        {
          "output_type": "stream",
          "name": "stdout",
          "text": [
            "True\n"
          ]
        }
      ]
    },
    {
      "cell_type": "code",
      "source": [
        "# INTRODUCTION TO FUNCTION:  COMPLETE.......\n",
        "# FUNCTION: Function are set of code, once are created and they can be used throughout the program.\n",
        "# Function are help break our program into smaller parts and helps in more lookable, organized and manageable"
      ],
      "metadata": {
        "id": "eEGF7JIRTG4A"
      },
      "execution_count": null,
      "outputs": []
    },
    {
      "cell_type": "code",
      "source": [
        "def hello():\n",
        "  print(\"hello world\")\n",
        "# call the function\n",
        "hello()"
      ],
      "metadata": {
        "colab": {
          "base_uri": "https://localhost:8080/"
        },
        "id": "EpEWeP9WFmHl",
        "outputId": "72bea997-58e8-49c0-cc82-a10a9f37f713"
      },
      "execution_count": null,
      "outputs": [
        {
          "output_type": "stream",
          "name": "stdout",
          "text": [
            "hello world\n"
          ]
        }
      ]
    },
    {
      "cell_type": "code",
      "source": [
        "def add():\n",
        "  x = 67\n",
        "  y = 80\n",
        "  print(x + y)\n",
        "# call the function\n",
        "add()"
      ],
      "metadata": {
        "colab": {
          "base_uri": "https://localhost:8080/"
        },
        "id": "j6fuxipKFvJo",
        "outputId": "9c013fee-293d-4281-912e-9eca01f47804"
      },
      "execution_count": null,
      "outputs": [
        {
          "output_type": "stream",
          "name": "stdout",
          "text": [
            "147\n"
          ]
        }
      ]
    },
    {
      "cell_type": "code",
      "source": [
        "# PARAMETERS AND ARGUEMENT:\n",
        "# PARAMETRS:    Parameter are the variable written inside the paranthesis with the name of function\n",
        "# ARGUEMENT:    Arguement are the values passed to the parameter when calling the function.\n",
        "def add(x,y):\n",
        "  print(x+y)\n",
        "# Arguement\n",
        "add(34,67)\n",
        "add(50,20)"
      ],
      "metadata": {
        "colab": {
          "base_uri": "https://localhost:8080/"
        },
        "id": "Yr_w_1tPG9LE",
        "outputId": "bf97669c-057b-4a36-f544-f10d3946c216"
      },
      "execution_count": null,
      "outputs": [
        {
          "output_type": "stream",
          "name": "stdout",
          "text": [
            "101\n",
            "70\n"
          ]
        }
      ]
    },
    {
      "cell_type": "code",
      "source": [
        "def rectangle(length,width):\n",
        "  print(\"the area of rectangle is :\",length*width)\n",
        "rectangle(23,2)"
      ],
      "metadata": {
        "colab": {
          "base_uri": "https://localhost:8080/"
        },
        "id": "TTeR1AoNJmZL",
        "outputId": "a9da1d88-6859-489a-e1a5-c57317adb2eb"
      },
      "execution_count": null,
      "outputs": [
        {
          "output_type": "stream",
          "name": "stdout",
          "text": [
            "the area of rectangle is : 46\n"
          ]
        }
      ]
    },
    {
      "cell_type": "code",
      "source": [
        "def hello(*name):\n",
        "  print(\"hello my name is :\", name[2])\n",
        "\n",
        "hello(\"john\",\"Lisa\",\"Monica\")"
      ],
      "metadata": {
        "colab": {
          "base_uri": "https://localhost:8080/"
        },
        "id": "dbm0O0rcLPPa",
        "outputId": "176fba40-f47a-4eca-a542-f1fd9deb6247"
      },
      "execution_count": null,
      "outputs": [
        {
          "output_type": "stream",
          "name": "stdout",
          "text": [
            "hello my name is : Monica\n"
          ]
        }
      ]
    },
    {
      "cell_type": "code",
      "source": [
        "# Return statements and recursion in function:\n",
        "# Return Statements:   Return Statements are used in python to exit a function and the return the value of the function.\n",
        "def hello():\n",
        "  return(\"Hello world\")\n",
        "print(hello())"
      ],
      "metadata": {
        "colab": {
          "base_uri": "https://localhost:8080/"
        },
        "id": "lM0eyjYYLZN1",
        "outputId": "48ff3cf1-85ac-4cc2-9b53-d53844976805"
      },
      "execution_count": null,
      "outputs": [
        {
          "output_type": "stream",
          "name": "stdout",
          "text": [
            "Hello world\n"
          ]
        }
      ]
    },
    {
      "cell_type": "code",
      "source": [
        "def add(x,y):\n",
        "  return(\"the add of two numbers is:\",x + y)\n",
        "\n",
        "print(add(12,24))"
      ],
      "metadata": {
        "colab": {
          "base_uri": "https://localhost:8080/"
        },
        "id": "X8p-G8eoOZWO",
        "outputId": "94d60959-8bce-4acc-8eb1-8232eb866981"
      },
      "execution_count": null,
      "outputs": [
        {
          "output_type": "stream",
          "name": "stdout",
          "text": [
            "('the add of two numbers is:', 36)\n"
          ]
        }
      ]
    },
    {
      "cell_type": "code",
      "source": [
        "# Recursion in python:\n",
        "# Recursion is most commonly used in mathematical and programming concept.Recursion means a function can call itself, giving us a benefit of looping through data in order to gent a result\n"
      ],
      "metadata": {
        "id": "fgoejExHQdW2"
      },
      "execution_count": null,
      "outputs": []
    },
    {
      "cell_type": "code",
      "source": [
        "def fact(n):\n",
        "  if n == 1:\n",
        "    return 1\n",
        "  else:\n",
        "    return (n*fact(n-1))\n",
        "print(fact(4))\n",
        "print(fact(5))"
      ],
      "metadata": {
        "colab": {
          "base_uri": "https://localhost:8080/"
        },
        "id": "hxKLqhvVTvG2",
        "outputId": "01efad58-0821-4780-f831-ea816150fc65"
      },
      "execution_count": null,
      "outputs": [
        {
          "output_type": "stream",
          "name": "stdout",
          "text": [
            "24\n",
            "120\n"
          ]
        }
      ]
    },
    {
      "cell_type": "code",
      "source": [
        "# Advantage of recursion:\n",
        "#1. code look clean and organized\n",
        "#2. they can make complex task into simple part\n",
        "#3. Sequence generation becomes easier\n"
      ],
      "metadata": {
        "id": "_9d-af5UWB5x"
      },
      "execution_count": null,
      "outputs": []
    },
    {
      "cell_type": "code",
      "source": [
        "# Disadvanvantage:\n",
        "#1. Recursive function takes a lot of memory.\n",
        "#2. Sometime the logic becomes hard to flow.\n",
        "#3. Debug is difficulty"
      ],
      "metadata": {
        "id": "FMaHpcIRWo-B"
      },
      "execution_count": null,
      "outputs": []
    },
    {
      "cell_type": "code",
      "source": [
        "# LAMBDA FUNCTION in python:it is used when anonymus function is required for a short time period\n",
        "# . It can take numerous Arguement\n",
        "# . it can take have only one expression."
      ],
      "metadata": {
        "id": "IN5qqP-nXZUK"
      },
      "execution_count": null,
      "outputs": []
    },
    {
      "cell_type": "code",
      "source": [
        "# lambda function\n",
        "a = lambda b : b*5\n",
        "print(a(4))"
      ],
      "metadata": {
        "colab": {
          "base_uri": "https://localhost:8080/"
        },
        "id": "hCbBgd_8ZrLT",
        "outputId": "06dcd23e-e179-4330-a60e-ea1262771c0c"
      },
      "execution_count": null,
      "outputs": [
        {
          "output_type": "stream",
          "name": "stdout",
          "text": [
            "20\n"
          ]
        }
      ]
    },
    {
      "cell_type": "code",
      "source": [
        "x = lambda a,b,c : (a+b)*c\n",
        "print(x(2,3,5))"
      ],
      "metadata": {
        "colab": {
          "base_uri": "https://localhost:8080/"
        },
        "id": "bATLaV5wZ_-X",
        "outputId": "7bfe26b3-fb81-4261-e4ae-beb353b3630f"
      },
      "execution_count": null,
      "outputs": [
        {
          "output_type": "stream",
          "name": "stdout",
          "text": [
            "25\n"
          ]
        }
      ]
    },
    {
      "cell_type": "code",
      "source": [
        "# LOCAL AND GLOBAL VARIABLES:\n",
        "# LOCAL VARIABLES: They are restricted in only one block of code and can't be changed throughout the code.\n",
        "x = 25\n",
        "print(x)\n",
        "def hello():\n",
        "  x = 26\n",
        "  return x\n",
        "print(hello())\n",
        "print(x)\n"
      ],
      "metadata": {
        "colab": {
          "base_uri": "https://localhost:8080/"
        },
        "id": "da7jSJ68aekh",
        "outputId": "90a3e314-af92-47b4-f2d8-5a86936ee827"
      },
      "execution_count": null,
      "outputs": [
        {
          "output_type": "stream",
          "name": "stdout",
          "text": [
            "25\n",
            "26\n",
            "25\n"
          ]
        }
      ]
    },
    {
      "cell_type": "code",
      "source": [
        "# GLABAL VARIABLES: They are not restricted in only one block of code and can be changed throughout the code or program\n",
        "a = 23\n",
        "print(a)\n",
        "def hello():\n",
        "  global a\n",
        "  a = 24\n",
        "  return a\n",
        "print(hello())\n",
        "print(a)"
      ],
      "metadata": {
        "colab": {
          "base_uri": "https://localhost:8080/"
        },
        "id": "WU12XLwHbb0s",
        "outputId": "2e1f2459-00e1-409d-813e-158f1f2f582b"
      },
      "execution_count": null,
      "outputs": [
        {
          "output_type": "stream",
          "name": "stdout",
          "text": [
            "23\n",
            "24\n",
            "24\n"
          ]
        }
      ]
    },
    {
      "cell_type": "code",
      "source": [
        "# PROBLEM SOLVING\n",
        "#1. Write a function to find the maximum of three numbers python.\n",
        "#2. Write a pythob function to create and print list where the values are square of number between 1 to 30.\n",
        "#3. Write a python function that takes a number as parameter and check the number is prime or not.\n",
        "#4. Write a python function that sum all the number in list.\n",
        "#5. Write a python program to solve the fibonacci series using recursion."
      ],
      "metadata": {
        "id": "c91N4KvxemX9"
      },
      "execution_count": null,
      "outputs": []
    },
    {
      "cell_type": "code",
      "source": [
        "#1. Write a function to find the maximum of three numbers python.\n",
        "def maximum_num(val1,val2,val3):\n",
        "  if val1>val2 and val1 > val3:\n",
        "    print(val1,\"is the greatest number\")\n",
        "  elif val2>val1 and val2>val3:\n",
        "    print(val2,\"is the greatest number\")\n",
        "  else:\n",
        "    print(val3,\"is the greatest number\")\n",
        "\n",
        "print(maximum_num(34,20,58))"
      ],
      "metadata": {
        "colab": {
          "base_uri": "https://localhost:8080/"
        },
        "id": "nWo7IBVri8sl",
        "outputId": "77b23d00-b9e7-4ed7-ae95-db7b10b697c5"
      },
      "execution_count": null,
      "outputs": [
        {
          "output_type": "stream",
          "name": "stdout",
          "text": [
            "58 is the greatest number\n",
            "None\n"
          ]
        }
      ]
    },
    {
      "cell_type": "code",
      "source": [
        "#2. Write a pythob function to create and print list where the values are square of number between 1 to 30.\n",
        "def creat_list():\n",
        "  l = []\n",
        "  for i in range(1,31):\n",
        "    l.append(i**2)\n",
        "  return l\n",
        "\n",
        "print(creat_list())"
      ],
      "metadata": {
        "colab": {
          "base_uri": "https://localhost:8080/"
        },
        "id": "pwBElCwpjyDZ",
        "outputId": "4d1e43c6-8bfd-4a0a-a6f7-58f5136eb55f"
      },
      "execution_count": null,
      "outputs": [
        {
          "output_type": "stream",
          "name": "stdout",
          "text": [
            "[1, 4, 9, 16, 25, 36, 49, 64, 81, 100, 121, 144, 169, 196, 225, 256, 289, 324, 361, 400, 441, 484, 529, 576, 625, 676, 729, 784, 841, 900]\n"
          ]
        }
      ]
    },
    {
      "cell_type": "code",
      "source": [
        "#3. Write a python function that takes a number as parameter and check the number is prime or not.\n",
        "def check_prime(num):\n",
        "  if num == 1 :\n",
        "    print(\"it is not prime number\")\n",
        "  if num ==2 :\n",
        "    print(\"it is a prime number\")\n",
        "  if num>2:\n",
        "       for i in range(2,num):\n",
        "         if num % i == 0:\n",
        "          print(\"it is not a prime number\")\n",
        "          break\n",
        "       else:\n",
        "         print(\"it is a prime number\")\n",
        "check_prime(11)"
      ],
      "metadata": {
        "colab": {
          "base_uri": "https://localhost:8080/"
        },
        "id": "4CmAGDp16BFE",
        "outputId": "ade4d07d-bc65-4ad1-c6bd-d542c7f505d5"
      },
      "execution_count": null,
      "outputs": [
        {
          "output_type": "stream",
          "name": "stdout",
          "text": [
            "it is a prime number\n"
          ]
        }
      ]
    },
    {
      "cell_type": "code",
      "source": [
        "#4. Write a python function that sum all the number in list.\n",
        "def add (num):\n",
        "  total = 0\n",
        "  for i in num:\n",
        "    total = total + i\n",
        "  return (total)\n",
        "print(add([1,2,4,5,7]))"
      ],
      "metadata": {
        "colab": {
          "base_uri": "https://localhost:8080/"
        },
        "id": "HTDwtiVF_j91",
        "outputId": "16da83aa-378f-4dbf-b3ef-6c3e804ef003"
      },
      "execution_count": null,
      "outputs": [
        {
          "output_type": "stream",
          "name": "stdout",
          "text": [
            "19\n"
          ]
        }
      ]
    },
    {
      "cell_type": "code",
      "source": [
        "#5. Write a python program to solve the fibonacci series using recursion.\n",
        "def fs(n):\n",
        "  if n ==1:\n",
        "    return (0)\n",
        "  elif n ==2:\n",
        "    return (1)\n",
        "  else:\n",
        "    return(fs(n-1)+fs(n-2))\n",
        "print(fs(8))"
      ],
      "metadata": {
        "colab": {
          "base_uri": "https://localhost:8080/"
        },
        "id": "vNnjsaaeBncP",
        "outputId": "a1264460-598a-47e1-f614-fe9b82110d58"
      },
      "execution_count": null,
      "outputs": [
        {
          "output_type": "stream",
          "name": "stdout",
          "text": [
            "13\n"
          ]
        }
      ]
    },
    {
      "cell_type": "markdown",
      "source": [
        "# Modules"
      ],
      "metadata": {
        "id": "FBuDfmMSK1_v"
      }
    },
    {
      "cell_type": "code",
      "source": [
        "# INTRODUCTION TO MODULES:  Modules are the (.py) files, that contains a set of function you want to include in your program"
      ],
      "metadata": {
        "id": "6SmmfyXjGPwC"
      },
      "execution_count": null,
      "outputs": []
    },
    {
      "cell_type": "markdown",
      "source": [
        "# In built modules in ***python***\n"
      ],
      "metadata": {
        "id": "Dyuso7WoKXUS"
      }
    },
    {
      "cell_type": "markdown",
      "source": [
        "Datetime,\n",
        "Random,\n",
        "Math.\n",
        "\n",
        "\n",
        "\n",
        "# Datetime\n",
        "\n",
        "\n"
      ],
      "metadata": {
        "id": "2kfgwD75LMav"
      }
    },
    {
      "cell_type": "code",
      "source": [
        "# Datetime\n",
        "import datetime\n",
        "x = datetime.datetime.now()\n",
        "print(x)"
      ],
      "metadata": {
        "colab": {
          "base_uri": "https://localhost:8080/"
        },
        "id": "4wjlXkzWKWig",
        "outputId": "b894dd64-8611-457c-d590-4034bdea895b"
      },
      "execution_count": null,
      "outputs": [
        {
          "output_type": "stream",
          "name": "stdout",
          "text": [
            "2024-05-05 09:01:56.765897\n"
          ]
        }
      ]
    },
    {
      "cell_type": "code",
      "source": [
        "y = datetime.datetime(1997,10,15)\n",
        "print(y.strftime(\"%a\"))"
      ],
      "metadata": {
        "colab": {
          "base_uri": "https://localhost:8080/"
        },
        "id": "8eexhC-HNdCt",
        "outputId": "c86218c7-5dca-4520-ce5b-a4881d24a18b"
      },
      "execution_count": null,
      "outputs": [
        {
          "output_type": "stream",
          "name": "stdout",
          "text": [
            "Wed\n"
          ]
        }
      ]
    },
    {
      "cell_type": "markdown",
      "source": [
        "### Random **Module**"
      ],
      "metadata": {
        "id": "EJbXh-vBOvSd"
      }
    },
    {
      "cell_type": "code",
      "source": [
        "# Random Module\n",
        "import random\n",
        "# the integer value\n",
        "y = random.randint(1,10)\n",
        "print(y)"
      ],
      "metadata": {
        "colab": {
          "base_uri": "https://localhost:8080/"
        },
        "id": "svaV5FGYOQvM",
        "outputId": "78975365-435d-45b0-b5e8-91da1fafe774"
      },
      "execution_count": null,
      "outputs": [
        {
          "output_type": "stream",
          "name": "stdout",
          "text": [
            "1\n"
          ]
        }
      ]
    },
    {
      "cell_type": "code",
      "source": [
        "# the string for\n",
        "l = [\"Monica\",\"Salmonela\"]\n",
        "y = random.choice(l)\n",
        "print(y)"
      ],
      "metadata": {
        "colab": {
          "base_uri": "https://localhost:8080/"
        },
        "id": "8FqHQCT8QxH_",
        "outputId": "ef35583f-bbac-4263-9324-c1b94e740dc6"
      },
      "execution_count": null,
      "outputs": [
        {
          "output_type": "stream",
          "name": "stdout",
          "text": [
            "Monica\n"
          ]
        }
      ]
    },
    {
      "cell_type": "markdown",
      "source": [
        "# Math Module"
      ],
      "metadata": {
        "id": "o5DE93TrRdp4"
      }
    },
    {
      "cell_type": "markdown",
      "source": [
        "# Math Module function\n",
        "\n",
        "max,\n",
        "min,power,sequare root,Absolute,ceil and floor\n"
      ],
      "metadata": {
        "id": "iJjxmZ-4Xkxu"
      }
    },
    {
      "cell_type": "code",
      "source": [
        "import math\n",
        "\n",
        "r = max(13,58,90)\n",
        "print(r)"
      ],
      "metadata": {
        "colab": {
          "base_uri": "https://localhost:8080/"
        },
        "id": "vTMrhq8vRifr",
        "outputId": "b1180216-e12f-4ca2-dbab-cc5b0334b2d7"
      },
      "execution_count": null,
      "outputs": [
        {
          "output_type": "stream",
          "name": "stdout",
          "text": [
            "90\n"
          ]
        }
      ]
    },
    {
      "cell_type": "code",
      "source": [
        "r = min(11,19,98)\n",
        "print(r)"
      ],
      "metadata": {
        "colab": {
          "base_uri": "https://localhost:8080/"
        },
        "id": "gAt-zS7ZSFjr",
        "outputId": "94a0830d-53ac-4ae1-f96a-1a68ff0440f3"
      },
      "execution_count": null,
      "outputs": [
        {
          "output_type": "stream",
          "name": "stdout",
          "text": [
            "11\n"
          ]
        }
      ]
    },
    {
      "cell_type": "code",
      "source": [
        "# To get the power of any value\n",
        "a = pow(2,4)\n",
        "print(a)\n"
      ],
      "metadata": {
        "colab": {
          "base_uri": "https://localhost:8080/"
        },
        "id": "1zUDhGpDSfJy",
        "outputId": "eabe6252-caff-4b8d-f87e-e06807b4f2bb"
      },
      "execution_count": null,
      "outputs": [
        {
          "output_type": "stream",
          "name": "stdout",
          "text": [
            "16\n",
            "16\n"
          ]
        }
      ]
    },
    {
      "cell_type": "code",
      "source": [
        "b = pow(4,2)\n",
        "print(b)"
      ],
      "metadata": {
        "colab": {
          "base_uri": "https://localhost:8080/"
        },
        "id": "7nHFf_D1Szw1",
        "outputId": "0292df05-1b42-45ab-c365-22716abb0a9b"
      },
      "execution_count": null,
      "outputs": [
        {
          "output_type": "stream",
          "name": "stdout",
          "text": [
            "16\n"
          ]
        }
      ]
    },
    {
      "cell_type": "code",
      "source": [
        "print(4**2)"
      ],
      "metadata": {
        "colab": {
          "base_uri": "https://localhost:8080/"
        },
        "id": "WH6LGEDWTdsa",
        "outputId": "40cc5276-1453-4f14-e706-0df7177b34c2"
      },
      "execution_count": null,
      "outputs": [
        {
          "output_type": "stream",
          "name": "stdout",
          "text": [
            "16\n"
          ]
        }
      ]
    },
    {
      "cell_type": "code",
      "source": [
        "# To get sequare root\n",
        "a = math.sqrt(64)\n",
        "print(a)"
      ],
      "metadata": {
        "colab": {
          "base_uri": "https://localhost:8080/"
        },
        "id": "zAA5wf4OTdo2",
        "outputId": "506c2469-43e5-4df6-c185-0eb7d7b0ddfe"
      },
      "execution_count": null,
      "outputs": [
        {
          "output_type": "stream",
          "name": "stdout",
          "text": [
            "8.0\n"
          ]
        }
      ]
    },
    {
      "cell_type": "code",
      "source": [
        "# Absolute\n",
        "a = abs(-12.000)\n",
        "print(a)"
      ],
      "metadata": {
        "colab": {
          "base_uri": "https://localhost:8080/"
        },
        "id": "yL5mQ4SmUI1X",
        "outputId": "6dcd3489-0eb1-48ad-88dd-c7acd71ffe54"
      },
      "execution_count": null,
      "outputs": [
        {
          "output_type": "stream",
          "name": "stdout",
          "text": [
            "12.0\n"
          ]
        }
      ]
    },
    {
      "cell_type": "code",
      "source": [
        "#ceil\n",
        "a = math.ceil(2.5)\n",
        "print(a)\n",
        "# floor\n",
        "b = math.floor(2.8)\n",
        "print(b)"
      ],
      "metadata": {
        "colab": {
          "base_uri": "https://localhost:8080/"
        },
        "id": "cHzcJQHzVcdK",
        "outputId": "119a15cc-813e-4b50-af9a-90817145b92f"
      },
      "execution_count": null,
      "outputs": [
        {
          "output_type": "stream",
          "name": "stdout",
          "text": [
            "3\n",
            "2\n"
          ]
        }
      ]
    },
    {
      "cell_type": "markdown",
      "source": [
        "# Creation of Module"
      ],
      "metadata": {
        "id": "55NXSNA0YahF"
      }
    },
    {
      "cell_type": "markdown",
      "source": [
        "To create a module, all you need to is create a .py file in a similar path to your python file. Inside that file You can add required functions you needs you program to perform.\n",
        "\n",
        "To call the module inside your program, all you need to do is used import keywords followed by the name of your .py file"
      ],
      "metadata": {
        "id": "avazGAsyYoQ1"
      }
    },
    {
      "cell_type": "code",
      "source": [
        "\n",
        "def add(x,y):\n",
        "  return (x+y)\n",
        "\n",
        "a = add(1,3)\n",
        "print(a)"
      ],
      "metadata": {
        "colab": {
          "base_uri": "https://localhost:8080/"
        },
        "id": "_hPva9ysYfNk",
        "outputId": "2de57fbe-2566-49aa-dba3-2e18e379b0bf"
      },
      "execution_count": null,
      "outputs": [
        {
          "output_type": "stream",
          "name": "stdout",
          "text": [
            "4\n"
          ]
        }
      ]
    }
  ]
}